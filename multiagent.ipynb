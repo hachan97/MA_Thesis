{
 "cells": [
  {
   "cell_type": "markdown",
   "metadata": {},
   "source": [
    "# Import Packages"
   ]
  },
  {
   "cell_type": "code",
   "execution_count": 1,
   "metadata": {},
   "outputs": [],
   "source": [
    "import time\n",
    "import threading\n",
    "import os\n",
    "import openai\n",
    "\n",
    "from openai import OpenAI\n",
    "from dotenv import load_dotenv\n"
   ]
  },
  {
   "cell_type": "markdown",
   "metadata": {},
   "source": [
    "# Load API"
   ]
  },
  {
   "cell_type": "code",
   "execution_count": 2,
   "metadata": {},
   "outputs": [],
   "source": [
    "# load_dotenv()  \n",
    "client = OpenAI()\n",
    "client.api_key = os.getenv('OPENAI_API_KEY')"
   ]
  },
  {
   "cell_type": "markdown",
   "metadata": {},
   "source": [
    "# Define Functions"
   ]
  },
  {
   "cell_type": "code",
   "execution_count": 3,
   "metadata": {},
   "outputs": [],
   "source": [
    "def get_last_assistant_message(thread_id):\n",
    "    messages_response = client.beta.threads.messages.list(thread_id=thread_id)\n",
    "    messages = messages_response.data\n",
    "  \n",
    "    # Iterate through messages in reverse chronological order to find the last assistant message\n",
    "    for message in messages:\n",
    "        if message.role == 'assistant':\n",
    "            # Get the content of the last assistant message\n",
    "            assistant_message_content = \" \".join(\n",
    "                content.text.value for content in message.content if hasattr(content, 'text')\n",
    "            )\n",
    "            return assistant_message_content.strip()\n",
    "  \n",
    "    return \"\"  # Return an empty string if there is no assistant message\n",
    "\n",
    "def converse(assistant_1_params, assistant_2_params, topic, message_count):\n",
    "    print(\"TOPIC: \"+topic+\"\\n\")\n",
    "    # Initialize Assistants\n",
    "    assistant_1 = client.beta.assistants.create(**assistant_1_params)\n",
    "    assistant_2 = client.beta.assistants.create(**assistant_2_params)\n",
    "\n",
    "    # Create Threads\n",
    "    thread_1 = client.beta.threads.create()\n",
    "    thread_2 = client.beta.threads.create()\n",
    "\n",
    "    # Function for the conversation between two assistants\n",
    "    def assistant_conversation(start_message, assistant_a, thread_a, assistant_b, thread_b, msg_limit):\n",
    "      message_content = start_message\n",
    "      last_user_message_id = None  # Initialize with no last user message\n",
    "  \n",
    "      for i in range(msg_limit):\n",
    "          # Determine which assistant is speaking for color coding\n",
    "          if assistant_a == assistant_1:\n",
    "              assistant_color = '\\033[94m\\033[1m' \n",
    "              assistant_name = assistant_1_params.get('name')\n",
    "          else:\n",
    "              assistant_color = '\\033[92m\\033[1m'\n",
    "              assistant_name = assistant_2_params.get('name')\n",
    "  \n",
    "          # Bold and color the assistant's name and print the turn\n",
    "          print(f\"{assistant_color}{assistant_name} speaking...\\033[0m (Turn {i + 1})\")\n",
    "  \n",
    "          # Send the message and wait for a response\n",
    "          user_message = client.beta.threads.messages.create(\n",
    "              thread_id=thread_a.id,\n",
    "              role=\"user\",\n",
    "              content=message_content\n",
    "          )\n",
    "  \n",
    "          # Run the assistant and wait until it's done\n",
    "          run = client.beta.threads.runs.create(\n",
    "              thread_id=thread_a.id,\n",
    "              assistant_id=assistant_a.id\n",
    "          )\n",
    "          while True:\n",
    "              run_status = client.beta.threads.runs.retrieve(\n",
    "                  thread_id=thread_a.id,\n",
    "                  run_id=run.id\n",
    "              )\n",
    "              if run_status.status == 'completed':\n",
    "                  break\n",
    "              time.sleep(1)  # sleep to avoid hitting the API too frequently\n",
    "  \n",
    "          # Get all messages from the assistant since the last 'user' message\n",
    "          message_content = get_last_assistant_message(thread_a.id)\n",
    "  \n",
    "          # Print out each of the assistant's messages\n",
    "          print(message_content+\"\\n\")\n",
    "  \n",
    "          # Swap the assistants and threads for the next turn in the conversation\n",
    "          assistant_a, assistant_b = assistant_b, assistant_a\n",
    "          thread_a, thread_b = thread_b, thread_a\n",
    "\n",
    "\n",
    "    # Start the conversation\n",
    "    start_message = f\"Respond with a starting line to discuss {topic}?\"\n",
    "    conversation_thread = threading.Thread(\n",
    "        target=assistant_conversation,\n",
    "        args=(start_message, assistant_1, thread_1, assistant_2, thread_2, message_count)\n",
    "    )\n",
    "    conversation_thread.start()\n",
    "    conversation_thread.join()"
   ]
  },
  {
   "cell_type": "markdown",
   "metadata": {},
   "source": [
    "# Define Parameters"
   ]
  },
  {
   "cell_type": "code",
   "execution_count": 4,
   "metadata": {},
   "outputs": [],
   "source": [
    "# Define the parameters for the two assistants (example parameters provided)\n",
    "assistant_1_params = {\n",
    "    'name': \"Delegate of China\",\n",
    "    'instructions': \"You are a Delegate of China sitted in a UNSC meeting.\",\n",
    "    'tools': [{\"type\": \"code_interpreter\"}],\n",
    "    'model': \"gpt-3.5-turbo-1106\"\n",
    "}\n",
    "\n",
    "assistant_2_params = {\n",
    "    'name': \"Delegate of United States\",\n",
    "    'instructions': \"You are a Delegate of United States sitted in a UNSC meeting.\",\n",
    "    'tools': [{\"type\": \"code_interpreter\"}],\n",
    "    'model': \"gpt-3.5-turbo-1106\"\n",
    "}"
   ]
  },
  {
   "cell_type": "markdown",
   "metadata": {},
   "source": [
    "# Implement"
   ]
  },
  {
   "cell_type": "code",
   "execution_count": 17,
   "metadata": {},
   "outputs": [
    {
     "name": "stdout",
     "output_type": "stream",
     "text": [
      "TOPIC: Ukraine\n",
      "\n",
      "\u001b[94m\u001b[1mDelegate of China speaking...\u001b[0m (Turn 1)\n",
      "The delegation of China is deeply concerned about the current situation in Ukraine and the potential implications for regional stability.\n",
      "\n",
      "\u001b[92m\u001b[1mDelegate of United States speaking...\u001b[0m (Turn 2)\n",
      "As a Delegate of the United States in this UNSC meeting, I acknowledge China's concern regarding the situation in Ukraine and the potential impact on regional stability. The United States is also deeply committed to addressing and resolving this critical issue.\n",
      "\n",
      "\u001b[94m\u001b[1mDelegate of China speaking...\u001b[0m (Turn 3)\n",
      "The delegation of China appreciates the acknowledgment from the United States and agrees on the urgent need to address and resolve the critical situation in Ukraine. We believe that an inclusive and diplomatic approach is crucial in finding a sustainable solution that upholds the principles of sovereignty and territorial integrity.\n",
      "\n",
      "\u001b[92m\u001b[1mDelegate of United States speaking...\u001b[0m (Turn 4)\n",
      "The United States fully agrees with the delegation of China on the importance of an inclusive and diplomatic approach to addressing the situation in Ukraine. Upholding the principles of sovereignty and territorial integrity is paramount in finding a sustainable solution. The United States is committed to working together with the international community to achieve a peaceful resolution to the crisis in Ukraine.\n",
      "\n"
     ]
    }
   ],
   "source": [
    "converse(assistant_1_params, assistant_2_params, \"Ukraine\", 4)"
   ]
  }
 ],
 "metadata": {
  "kernelspec": {
   "display_name": "Python 3",
   "language": "python",
   "name": "python3"
  },
  "language_info": {
   "codemirror_mode": {
    "name": "ipython",
    "version": 3
   },
   "file_extension": ".py",
   "mimetype": "text/x-python",
   "name": "python",
   "nbconvert_exporter": "python",
   "pygments_lexer": "ipython3",
   "version": "3.12.2"
  }
 },
 "nbformat": 4,
 "nbformat_minor": 2
}
