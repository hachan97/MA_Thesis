{
 "cells": [
  {
   "cell_type": "markdown",
   "metadata": {},
   "source": [
    "# Import Packages"
   ]
  },
  {
   "cell_type": "code",
   "execution_count": 1,
   "metadata": {},
   "outputs": [],
   "source": [
    "import time\n",
    "import threading\n",
    "import os\n",
    "import openai\n",
    "\n",
    "from openai import OpenAI\n",
    "from dotenv import load_dotenv\n"
   ]
  },
  {
   "cell_type": "markdown",
   "metadata": {},
   "source": [
    "# Load API"
   ]
  },
  {
   "cell_type": "code",
   "execution_count": 2,
   "metadata": {},
   "outputs": [],
   "source": [
    "# load_dotenv()  \n",
    "client = OpenAI()\n",
    "client.api_key = os.getenv('OPENAI_API_KEY')"
   ]
  },
  {
   "cell_type": "markdown",
   "metadata": {},
   "source": [
    "# Define Functions"
   ]
  },
  {
   "cell_type": "code",
   "execution_count": 3,
   "metadata": {},
   "outputs": [],
   "source": [
    "def get_last_assistant_message(thread_id):\n",
    "    messages_response = client.beta.threads.messages.list(thread_id=thread_id)\n",
    "    messages = messages_response.data\n",
    "  \n",
    "    # Iterate through messages in reverse chronological order to find the last assistant message\n",
    "    for message in messages:\n",
    "        if message.role == 'assistant':\n",
    "            # Get the content of the last assistant message\n",
    "            assistant_message_content = \" \".join(\n",
    "                content.text.value for content in message.content if hasattr(content, 'text')\n",
    "            )\n",
    "            return assistant_message_content.strip()\n",
    "  \n",
    "    return \"\"  # Return an empty string if there is no assistant message\n",
    "\n",
    "def converse(assistant_1_params, assistant_2_params, topic, message_count):\n",
    "    print(\"TOPIC: \"+topic+\"\\n\")\n",
    "    # Initialize Assistants\n",
    "    assistant_1 = client.beta.assistants.create(**assistant_1_params)\n",
    "    assistant_2 = client.beta.assistants.create(**assistant_2_params)\n",
    "\n",
    "    # Create Threads\n",
    "    thread_1 = client.beta.threads.create()\n",
    "    thread_2 = client.beta.threads.create()\n",
    "\n",
    "    # Function for the conversation between two assistants\n",
    "    def assistant_conversation(start_message, assistant_a, thread_a, assistant_b, thread_b, msg_limit):\n",
    "      message_content = start_message\n",
    "      last_user_message_id = None  # Initialize with no last user message\n",
    "  \n",
    "      for i in range(msg_limit):\n",
    "          # Determine which assistant is speaking for color coding\n",
    "          if assistant_a == assistant_1:\n",
    "              assistant_color = '\\033[94m\\033[1m' \n",
    "              assistant_name = assistant_1_params.get('name')\n",
    "          else:\n",
    "              assistant_color = '\\033[92m\\033[1m'\n",
    "              assistant_name = assistant_2_params.get('name')\n",
    "  \n",
    "          # Bold and color the assistant's name and print the turn\n",
    "          print(f\"{assistant_color}{assistant_name} speaking...\\033[0m (Turn {i + 1})\")\n",
    "  \n",
    "          # Send the message and wait for a response\n",
    "          user_message = client.beta.threads.messages.create(\n",
    "              thread_id=thread_a.id,\n",
    "              role=\"user\",\n",
    "              content=message_content\n",
    "          )\n",
    "  \n",
    "          # Run the assistant and wait until it's done\n",
    "          run = client.beta.threads.runs.create(\n",
    "              thread_id=thread_a.id,\n",
    "              assistant_id=assistant_a.id\n",
    "          )\n",
    "          while True:\n",
    "              run_status = client.beta.threads.runs.retrieve(\n",
    "                  thread_id=thread_a.id,\n",
    "                  run_id=run.id\n",
    "              )\n",
    "              if run_status.status == 'completed':\n",
    "                  break\n",
    "              time.sleep(1)  # sleep to avoid hitting the API too frequently\n",
    "  \n",
    "          # Get all messages from the assistant since the last 'user' message\n",
    "          message_content = get_last_assistant_message(thread_a.id)\n",
    "  \n",
    "          # Print out each of the assistant's messages\n",
    "          print(message_content+\"\\n\")\n",
    "  \n",
    "          # Swap the assistants and threads for the next turn in the conversation\n",
    "          assistant_a, assistant_b = assistant_b, assistant_a\n",
    "          thread_a, thread_b = thread_b, thread_a\n",
    "\n",
    "\n",
    "    # Start the conversation\n",
    "    start_message = f\"Respond with a starting line to discuss {topic}?\"\n",
    "    conversation_thread = threading.Thread(\n",
    "        target=assistant_conversation,\n",
    "        args=(start_message, assistant_1, thread_1, assistant_2, thread_2, message_count)\n",
    "    )\n",
    "    conversation_thread.start()\n",
    "    conversation_thread.join()"
   ]
  },
  {
   "cell_type": "markdown",
   "metadata": {},
   "source": [
    "# Define Parameters"
   ]
  },
  {
   "cell_type": "code",
   "execution_count": 6,
   "metadata": {},
   "outputs": [],
   "source": [
    "# Define the parameters for the two assistants (example parameters provided)\n",
    "assistant_1_params = {\n",
    "    'name': \"Delegate of China\",\n",
    "    'instructions': \"Make counter arguments against the other delegate and be assertive.\",\n",
    "    'tools': [{\"type\": \"code_interpreter\"}],\n",
    "    'model': \"gpt-3.5-turbo-1106\"\n",
    "}\n",
    "\n",
    "assistant_2_params = {\n",
    "    'name': \"Delegate of United States\",\n",
    "    'instructions': \"Make counter arguments against the other delegate and be assertive.\",\n",
    "    'tools': [{\"type\": \"code_interpreter\"}],\n",
    "    'model': \"gpt-3.5-turbo-1106\"\n",
    "}"
   ]
  },
  {
   "cell_type": "markdown",
   "metadata": {},
   "source": [
    "# Implement"
   ]
  },
  {
   "cell_type": "code",
   "execution_count": 7,
   "metadata": {},
   "outputs": [
    {
     "name": "stdout",
     "output_type": "stream",
     "text": [
      "TOPIC: South China Sea\n",
      "\n",
      "\u001b[94m\u001b[1mDelegate of China speaking...\u001b[0m (Turn 1)\n",
      "The South China Sea is a complex and contentious issue that involves multiple countries with overlapping territorial claims and strategic interests. It's important to approach this topic with a thorough understanding of the historical context, international law, and the perspectives of all relevant stakeholders.\n",
      "\n",
      "\u001b[92m\u001b[1mDelegate of United States speaking...\u001b[0m (Turn 2)\n",
      "While it's true that the South China Sea is a complex and contentious issue involving multiple countries, it's important to recognize that some countries, including China, have taken unilateral actions to assert their claims in disregard of international law, such as the United Nations Convention on the Law of the Sea (UNCLOS). These actions have raised tensions and heightened the risk of conflict in the region. It's crucial to hold countries accountable for their actions and uphold the principles of international law to ensure stability and peaceful resolution of disputes in the South China Sea.\n",
      "\n",
      "\u001b[94m\u001b[1mDelegate of China speaking...\u001b[0m (Turn 3)\n",
      "While it's essential to uphold the principles of international law and ensure accountability for unilateral actions in the South China Sea, it's important to acknowledge that the issue is not solely the result of one country's actions. Multiple countries have engaged in military and civilian activities in the region, leading to a complex web of overlapping claims and competing interests. Any resolution must consider the perspectives and concerns of all parties involved, rather than singling out one country for blame. This approach will be crucial in fostering a peaceful and mutually acceptable resolution to the disputes in the South China Sea.\n",
      "\n",
      "\u001b[92m\u001b[1mDelegate of United States speaking...\u001b[0m (Turn 4)\n",
      "While it's true that multiple countries have engaged in activities in the South China Sea, it's important to distinguish between actions taken in accordance with international law and those that violate it. China, for example, has engaged in the construction of artificial islands and military installations in disputed areas, which has been deemed as a violation of international law by an international tribunal ruling. By addressing these specific actions, it's crucial to hold accountable the parties responsible for escalating tensions and disregarding international legal frameworks. This approach will create a foundation for meaningful dialogue and a peaceful resolution that upholds the rights of all involved parties.\n",
      "\n",
      "\u001b[94m\u001b[1mDelegate of China speaking...\u001b[0m (Turn 5)\n",
      "It's imperative to consider the complexity of the South China Sea issue, including the historical, geopolitical, and security factors that have contributed to the current situation. While the international tribunal ruling is an important consideration, it's essential to recognize that not all relevant parties have accepted the jurisdiction of the tribunal or its ruling. As such, a comprehensive and inclusive approach that engages all stakeholders in dialogue and negotiation, while respecting the principles of international law, remains essential to achieving a lasting and equitable resolution in the South China Sea.\n",
      "\n"
     ]
    }
   ],
   "source": [
    "converse(assistant_1_params, assistant_2_params, \"South China Sea\", 5)"
   ]
  }
 ],
 "metadata": {
  "kernelspec": {
   "display_name": "Python 3",
   "language": "python",
   "name": "python3"
  },
  "language_info": {
   "codemirror_mode": {
    "name": "ipython",
    "version": 3
   },
   "file_extension": ".py",
   "mimetype": "text/x-python",
   "name": "python",
   "nbconvert_exporter": "python",
   "pygments_lexer": "ipython3",
   "version": "3.12.2"
  }
 },
 "nbformat": 4,
 "nbformat_minor": 2
}
