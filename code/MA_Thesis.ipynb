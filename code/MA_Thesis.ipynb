{
 "cells": [
  {
   "cell_type": "markdown",
   "metadata": {},
   "source": [
    "# Setup\n",
    "\n",
    "## Install Packages"
   ]
  },
  {
   "cell_type": "code",
   "execution_count": 8,
   "metadata": {},
   "outputs": [],
   "source": [
    "# Import Packages\n",
    "\n",
    "import os\n",
    "import torch\n",
    "if torch.backends.mps.is_available():\n",
    "    os.environ['TOKENIZERS_PARALLELISM'] = 'false'\n",
    "\n",
    "# for data wrangling\n",
    "import pandas as pd\n",
    "import numpy as np\n",
    "\n",
    "# for visaualization\n",
    "import seaborn as sns\n",
    "import matplotlib.pyplot as plt\n",
    "\n",
    "# for text processing\n",
    "from torch.utils.data import Dataset, DataLoader\n",
    "from transformers import T5Tokenizer, T5ForConditionalGeneration\n",
    "#from nltk.translate.bleu_score import sentence_bleu\n",
    "#from sklearn.model_selection import train_test_split\n",
    "#from nltk.translate.bleu_score import SmoothingFunction"
   ]
  },
  {
   "cell_type": "markdown",
   "metadata": {},
   "source": [
    "## Set Device "
   ]
  },
  {
   "cell_type": "code",
   "execution_count": 11,
   "metadata": {},
   "outputs": [
    {
     "name": "stdout",
     "output_type": "stream",
     "text": [
      "Using device: cpu\n"
     ]
    }
   ],
   "source": [
    "# Set device to CUDA, if not to CPU\n",
    "device = torch.device('cuda' if torch.cuda.is_available() else 'mps' if torch.backends.mps.is_available() else 'cpu')\n",
    "print('Using device:', device) # Tell me what device we are using"
   ]
  },
  {
   "cell_type": "markdown",
   "metadata": {},
   "source": [
    "# Load Datasets"
   ]
  },
  {
   "cell_type": "code",
   "execution_count": 13,
   "metadata": {},
   "outputs": [],
   "source": [
    "# define Data file directory\n",
    "data_dir = os.path.join('..', 'data', 'Rauh_Schwalbach_2020_ParlSpeech', '')\n",
    "\n",
    "# load the data 'df_LibDem.csv'\n",
    "df_LibDem = pd.read_csv(data_dir + 'df_LibDem.csv')"
   ]
  },
  {
   "cell_type": "code",
   "execution_count": 14,
   "metadata": {},
   "outputs": [
    {
     "data": {
      "text/plain": [
       "np.float64(224.1978030886466)"
      ]
     },
     "execution_count": 14,
     "metadata": {},
     "output_type": "execute_result"
    }
   ],
   "source": [
    "# What is the average length of contents in the 'text' column\n",
    "df_LibDem['text'].str.split().str.len().mean()"
   ]
  },
  {
   "cell_type": "markdown",
   "metadata": {},
   "source": [
    "# Fine-Tune Models\n",
    "\n",
    "Models: T5 or BERT\n"
   ]
  },
  {
   "cell_type": "markdown",
   "metadata": {},
   "source": [
    "## Training with T5"
   ]
  },
  {
   "cell_type": "code",
   "execution_count": null,
   "metadata": {},
   "outputs": [],
   "source": [
    "# Load pre-trained model and tokenizer\n",
    "model = T5ForConditionalGeneration.from_pretrained(\"t5-base\")\n",
    "tokenizer = T5Tokenizer.from_pretrained(\"t5-base\")\n",
    "\n",
    "# Load dataset (this should include CoT examples)\n",
    "dataset = load_dataset('path_to_your_dataset')\n",
    "\n",
    "# Preprocess the dataset\n",
    "def preprocess_data(examples):\n",
    "    inputs = examples['input']\n",
    "    cot_steps = examples['cot']  # Chain of Thought steps\n",
    "    outputs = examples['output']\n",
    "\n",
    "    model_inputs = tokenizer(inputs + cot_steps, max_length=512, \n",
    "                             truncation=True, \n",
    "                             padding='max_length', return_tensors=\"pt\")\n",
    "    labels = tokenizer(outputs, max_length=128, \n",
    "                       truncation=True, \n",
    "                       padding='max_length', return_tensors=\"pt\")\n",
    "    \n",
    "    model_inputs[\"labels\"] = labels[\"input_ids\"]\n",
    "    return model_inputs\n",
    "\n",
    "train_dataset = dataset['train'].map(preprocess_data, batched=True)\n",
    "val_dataset = dataset['validation'].map(preprocess_data, batched=True)\n",
    "\n",
    "# Define training arguments\n",
    "training_args = TrainingArguments(\n",
    "    data_dir='./results',\n",
    "    num_train_epochs=3,\n",
    "    per_device_train_batch_size=8,\n",
    "    per_device_eval_batch_size=8,\n",
    "    warmup_steps=500,\n",
    "    weight_decay=0.01,\n",
    "    logging_dir='./logs',\n",
    "    logging_steps=10,\n",
    "    learning_rate=5e-5,\n",
    "    evaluation_strategy=\"steps\",\n",
    "    eval_steps=500,\n",
    "    save_steps=500,\n",
    "    load_best_model_at_end=True\n",
    ")\n",
    "\n",
    "# Define Trainer\n",
    "trainer = Trainer(\n",
    "    model=model,\n",
    "    args=training_args,\n",
    "    train_dataset=train_dataset,\n",
    "    eval_dataset=val_dataset,\n",
    "    tokenizer=tokenizer\n",
    ")\n",
    "\n",
    "# Fine-tune the model\n",
    "trainer.train()\n",
    "\n",
    "# Evaluate the model\n",
    "results = trainer.evaluate()\n",
    "print(results)"
   ]
  },
  {
   "cell_type": "markdown",
   "metadata": {},
   "source": [
    "## Training with BERT"
   ]
  },
  {
   "cell_type": "code",
   "execution_count": null,
   "metadata": {},
   "outputs": [],
   "source": [
    "from transformers import BertTokenizer, BertForSequenceClassification, Trainer, TrainingArguments\n",
    "\n",
    "# Load pre-trained model and tokenizer\n",
    "model = BertForSequenceClassification.from_pretrained('bert-base-uncased')\n",
    "tokenizer = BertTokenizer.from_pretrained('bert-base-uncased')\n",
    "\n",
    "# Prepare your data\n",
    "def tokenize(batch):\n",
    "    return tokenizer(batch['text'], padding=True, truncation=True)\n",
    "\n",
    "# Assuming 'speeches' is a pandas DataFrame with your text data\n",
    "speeches['text'] = speeches['filename'].apply(lambda x: open(x).read())\n",
    "dataset = speeches['text']\n",
    "dataset = dataset.map(tokenize, batched=True, batch_size=len(dataset))\n",
    "\n",
    "# Define the training arguments\n",
    "training_args = TrainingArguments(\n",
    "    data_dir='./results',\n",
    "    num_train_epochs=3,\n",
    "    per_device_train_batch_size=16,\n",
    "    per_device_eval_batch_size=64,\n",
    "    warmup_steps=500,\n",
    "    weight_decay=0.01,\n",
    "    logging_dir='./logs',\n",
    ")\n",
    "\n",
    "# Create the Trainer and train the model\n",
    "trainer = Trainer(\n",
    "    model=model,\n",
    "    args=training_args,\n",
    "    train_dataset=dataset,\n",
    ")\n",
    "\n",
    "trainer.train()"
   ]
  },
  {
   "cell_type": "markdown",
   "metadata": {},
   "source": [
    "# Counterfactual Sampling"
   ]
  },
  {
   "cell_type": "code",
   "execution_count": null,
   "metadata": {},
   "outputs": [],
   "source": [
    "class Node:\n",
    "    def __init__(self, state, parent=None):\n",
    "        self.state = state\n",
    "        self.parent = parent\n",
    "        self.children = []\n",
    "        self._number_of_visits = 0.\n",
    "        self._results = 0.\n",
    "\n",
    "    def expand(self):\n",
    "        # Implement your expansion logic here\n",
    "        pass\n",
    "\n",
    "    def rollout(self):\n",
    "        # Implement your rollout logic here\n",
    "        pass\n",
    "\n",
    "    def backpropagate(self, result):\n",
    "        self._number_of_visits += 1.\n",
    "        self._results += result\n",
    "        if self.parent:\n",
    "            self.parent.backpropagate(result)\n",
    "\n",
    "    def is_fully_expanded(self):\n",
    "        return len(self.children) > 0\n",
    "\n",
    "    def best_child(self):\n",
    "        # Implement your selection logic here\n",
    "        pass\n",
    "\n",
    "def MCTS(root, iterations):\n",
    "    for _ in range(iterations):\n",
    "        node = root\n",
    "        while node.is_fully_expanded():\n",
    "            node = node.best_child()\n",
    "        if not node.is_terminal():\n",
    "            node.expand()\n",
    "        result = node.rollout()\n",
    "        node.backpropagate(result)\n",
    "    return root.best_child()\n"
   ]
  }
 ],
 "metadata": {
  "kernelspec": {
   "display_name": "Python 3",
   "language": "python",
   "name": "python3"
  },
  "language_info": {
   "codemirror_mode": {
    "name": "ipython",
    "version": 3
   },
   "file_extension": ".py",
   "mimetype": "text/x-python",
   "name": "python",
   "nbconvert_exporter": "python",
   "pygments_lexer": "ipython3",
   "version": "3.12.6"
  }
 },
 "nbformat": 4,
 "nbformat_minor": 2
}
