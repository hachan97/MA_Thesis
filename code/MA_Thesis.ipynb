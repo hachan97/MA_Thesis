{
 "cells": [
  {
   "cell_type": "markdown",
   "metadata": {},
   "source": [
    "# Setup"
   ]
  },
  {
   "cell_type": "code",
   "execution_count": 8,
   "metadata": {},
   "outputs": [],
   "source": [
    "# Import Packages\n",
    "\n",
    "import os\n",
    "import torch\n",
    "if torch.backends.mps.is_available():\n",
    "    os.environ['TOKENIZERS_PARALLELISM'] = 'false'\n",
    "\n",
    "# for data wrangling\n",
    "import pandas as pd\n",
    "import numpy as np\n",
    "\n",
    "# for visaualization\n",
    "import seaborn as sns\n",
    "import matplotlib.pyplot as plt\n",
    "\n",
    "# for text processing\n",
    "from torch.utils.data import Dataset, DataLoader\n",
    "from transformers import T5Tokenizer, T5ForConditionalGeneration\n",
    "#from nltk.translate.bleu_score import sentence_bleu\n",
    "#from sklearn.model_selection import train_test_split\n",
    "#from nltk.translate.bleu_score import SmoothingFunction"
   ]
  },
  {
   "cell_type": "code",
   "execution_count": 11,
   "metadata": {},
   "outputs": [
    {
     "name": "stdout",
     "output_type": "stream",
     "text": [
      "Using device: cpu\n"
     ]
    }
   ],
   "source": [
    "# Set Device\n",
    "# Set device to CUDA, if not to CPU\n",
    "device = torch.device('cuda' if torch.cuda.is_available() else 'mps' if torch.backends.mps.is_available() else 'cpu')\n",
    "print('Using device:', device)"
   ]
  },
  {
   "cell_type": "markdown",
   "metadata": {},
   "source": [
    "# Load & Preview Datasets"
   ]
  },
  {
   "cell_type": "code",
   "execution_count": 16,
   "metadata": {},
   "outputs": [],
   "source": [
    "# define Data file directory\n",
    "data_dir = os.path.join('..', 'data', 'Rauh_Schwalbach_2020_ParlSpeech', '')\n",
    "\n",
    "# load the data 'df_LibDem.csv'\n",
    "df_LibDem = pd.read_csv(data_dir + 'df_LibDem.csv')\n",
    "df_Con = pd.read_csv(data_dir + 'df_Con.csv')\n",
    "df_Lab = pd.read_csv(data_dir + 'df_Lab.csv')"
   ]
  },
  {
   "cell_type": "code",
   "execution_count": 20,
   "metadata": {},
   "outputs": [
    {
     "name": "stdout",
     "output_type": "stream",
     "text": [
      "agenda\n",
      "Business of the House                                       1074\n",
      "Finance Bill                                                1002\n",
      "Engagements [Oral Answers to Questions > Prime Minister]     730\n",
      "Name: count, dtype: int64\n",
      "agenda\n",
      "Business of the House                                       20117\n",
      "Engagements [Oral Answers to Questions > Prime Minister]    11849\n",
      "Finance Bill                                                 3173\n",
      "Name: count, dtype: int64\n",
      "agenda\n",
      "Business of the House                                       11751\n",
      "Engagements [Oral Answers to Questions > Prime Minister]     7066\n",
      "Business Of The House                                        5237\n",
      "Name: count, dtype: int64\n"
     ]
    }
   ],
   "source": [
    "# What is the top 5 most frequent 'agenda' in the dataset?\n",
    "print(df_LibDem['agenda'].value_counts().head(3))\n",
    "print(df_Con['agenda'].value_counts().head(3))\n",
    "print(df_Lab['agenda'].value_counts().head(3))"
   ]
  },
  {
   "cell_type": "code",
   "execution_count": 22,
   "metadata": {},
   "outputs": [
    {
     "name": "stdout",
     "output_type": "stream",
     "text": [
      "2000-01-10 2019-12-17\n",
      "2000-01-10 2019-12-17\n",
      "2000-01-10 2019-12-17\n"
     ]
    }
   ],
   "source": [
    "# What is the time frame of the 'date' in the dataset?\n",
    "print(df_LibDem['date'].min(), df_LibDem['date'].max())\n",
    "print(df_Con['date'].min(), df_Con['date'].max())\n",
    "print(df_Lab['date'].min(), df_Lab['date'].max())"
   ]
  },
  {
   "cell_type": "markdown",
   "metadata": {},
   "source": [
    "# Text Classification Using ChatGPT"
   ]
  },
  {
   "cell_type": "code",
   "execution_count": null,
   "metadata": {},
   "outputs": [],
   "source": []
  },
  {
   "cell_type": "markdown",
   "metadata": {},
   "source": [
    "# Counterfactual Sampling"
   ]
  },
  {
   "cell_type": "code",
   "execution_count": null,
   "metadata": {},
   "outputs": [],
   "source": [
    "class Node:\n",
    "    def __init__(self, state, parent=None):\n",
    "        self.state = state\n",
    "        self.parent = parent\n",
    "        self.children = []\n",
    "        self._number_of_visits = 0.\n",
    "        self._results = 0.\n",
    "\n",
    "    def expand(self):\n",
    "        # Implement your expansion logic here\n",
    "        pass\n",
    "\n",
    "    def rollout(self):\n",
    "        # Implement your rollout logic here\n",
    "        pass\n",
    "\n",
    "    def backpropagate(self, result):\n",
    "        self._number_of_visits += 1.\n",
    "        self._results += result\n",
    "        if self.parent:\n",
    "            self.parent.backpropagate(result)\n",
    "\n",
    "    def is_fully_expanded(self):\n",
    "        return len(self.children) > 0\n",
    "\n",
    "    def best_child(self):\n",
    "        # Implement your selection logic here\n",
    "        pass\n",
    "\n",
    "def MCTS(root, iterations):\n",
    "    for _ in range(iterations):\n",
    "        node = root\n",
    "        while node.is_fully_expanded():\n",
    "            node = node.best_child()\n",
    "        if not node.is_terminal():\n",
    "            node.expand()\n",
    "        result = node.rollout()\n",
    "        node.backpropagate(result)\n",
    "    return root.best_child()\n"
   ]
  }
 ],
 "metadata": {
  "kernelspec": {
   "display_name": "Python 3",
   "language": "python",
   "name": "python3"
  },
  "language_info": {
   "codemirror_mode": {
    "name": "ipython",
    "version": 3
   },
   "file_extension": ".py",
   "mimetype": "text/x-python",
   "name": "python",
   "nbconvert_exporter": "python",
   "pygments_lexer": "ipython3",
   "version": "3.12.6"
  }
 },
 "nbformat": 4,
 "nbformat_minor": 2
}
