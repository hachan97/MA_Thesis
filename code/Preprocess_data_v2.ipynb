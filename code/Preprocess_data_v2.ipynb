{
 "cells": [
  {
   "cell_type": "markdown",
   "id": "5c979fdf",
   "metadata": {
    "papermill": {
     "duration": 0.00583,
     "end_time": "2025-02-13T16:14:38.060962",
     "exception": false,
     "start_time": "2025-02-13T16:14:38.055132",
     "status": "completed"
    },
    "tags": []
   },
   "source": [
    "# Setup\n",
    "\n",
    "**THINGS TO FIX**:\n",
    "- `max_token` length exceded !!\n",
    "- alot of Truncated text - is this a problem?\n",
    "- "
   ]
  },
  {
   "cell_type": "code",
   "execution_count": 1,
   "id": "9498de43",
   "metadata": {
    "execution": {
     "iopub.execute_input": "2025-02-13T16:14:38.072855Z",
     "iopub.status.busy": "2025-02-13T16:14:38.072468Z",
     "iopub.status.idle": "2025-02-13T16:14:51.904316Z",
     "shell.execute_reply": "2025-02-13T16:14:51.903580Z"
    },
    "papermill": {
     "duration": 13.839728,
     "end_time": "2025-02-13T16:14:51.905957",
     "exception": false,
     "start_time": "2025-02-13T16:14:38.066229",
     "status": "completed"
    },
    "tags": []
   },
   "outputs": [],
   "source": [
    "import pandas as pd\n",
    "import numpy as np\n",
    "\n",
    "import json\n",
    "import matplotlib.pyplot as plt\n",
    "import datetime\n",
    "from datasets import Dataset\n",
    "\n",
    "# Transformers\n",
    "from transformers import AutoTokenizer, AutoModelForCausalLM\n",
    "from tqdm import tqdm\n",
    "\n",
    "#import torch.nn.attention.flex_attention\n",
    "#from torchtune.modules.tokenizers import ModelTokenizer\n",
    "#from torchtune.models.llama3 import llama3_tokenizer\n",
    "#from torchtune.data import Message"
   ]
  },
  {
   "cell_type": "code",
   "execution_count": 2,
   "id": "fa76e9f3",
   "metadata": {
    "execution": {
     "iopub.execute_input": "2025-02-13T16:14:51.917052Z",
     "iopub.status.busy": "2025-02-13T16:14:51.916656Z",
     "iopub.status.idle": "2025-02-13T16:14:52.218968Z",
     "shell.execute_reply": "2025-02-13T16:14:52.218234Z"
    },
    "papermill": {
     "duration": 0.309362,
     "end_time": "2025-02-13T16:14:52.220445",
     "exception": false,
     "start_time": "2025-02-13T16:14:51.911083",
     "status": "completed"
    },
    "tags": []
   },
   "outputs": [],
   "source": [
    "# Set API Keys\n",
    "from kaggle_secrets import UserSecretsClient # API Loggins\n",
    "user_secrets = UserSecretsClient()\n",
    "\n",
    "## Hugging Face\n",
    "Hugging_Face_token = user_secrets.get_secret(\"Hugging_Face_token\")\n",
    "\n",
    "# Login to Hugging Face\n",
    "from huggingface_hub import login\n",
    "\n",
    "login(Hugging_Face_token)"
   ]
  },
  {
   "cell_type": "markdown",
   "id": "1c5486ce",
   "metadata": {
    "papermill": {
     "duration": 0.004664,
     "end_time": "2025-02-13T16:14:52.230461",
     "exception": false,
     "start_time": "2025-02-13T16:14:52.225797",
     "status": "completed"
    },
    "tags": []
   },
   "source": [
    "# Load Data"
   ]
  },
  {
   "cell_type": "code",
   "execution_count": 3,
   "id": "37c61c81",
   "metadata": {
    "execution": {
     "iopub.execute_input": "2025-02-13T16:14:52.240877Z",
     "iopub.status.busy": "2025-02-13T16:14:52.240636Z",
     "iopub.status.idle": "2025-02-13T16:15:29.146439Z",
     "shell.execute_reply": "2025-02-13T16:15:29.145584Z"
    },
    "papermill": {
     "duration": 36.917866,
     "end_time": "2025-02-13T16:15:29.153106",
     "exception": false,
     "start_time": "2025-02-13T16:14:52.235240",
     "status": "completed"
    },
    "tags": []
   },
   "outputs": [
    {
     "data": {
      "text/plain": [
       "Index(['date', 'agenda', 'speechnumber', 'speaker', 'party', 'party.facts.id',\n",
       "       'chair', 'terms', 'text'],\n",
       "      dtype='object')"
      ]
     },
     "execution_count": 3,
     "metadata": {},
     "output_type": "execute_result"
    }
   ],
   "source": [
    "#df_HoC_2000s_raw = pd.read_csv('H:/MA_Thesis/data/Rauh_Schwalbach_2020_ParlSpeech/df_HoC_2000s.csv')\n",
    "\n",
    "df_HoC_2000s_raw = pd.read_csv('/kaggle/input/parlspeech/df_HoC_2000s.csv')\n",
    "df_HoC_2000s_raw.columns"
   ]
  },
  {
   "cell_type": "code",
   "execution_count": 4,
   "id": "1f4e993e",
   "metadata": {
    "execution": {
     "iopub.execute_input": "2025-02-13T16:15:29.164699Z",
     "iopub.status.busy": "2025-02-13T16:15:29.164360Z",
     "iopub.status.idle": "2025-02-13T16:15:29.254474Z",
     "shell.execute_reply": "2025-02-13T16:15:29.253572Z"
    },
    "papermill": {
     "duration": 0.097448,
     "end_time": "2025-02-13T16:15:29.255997",
     "exception": false,
     "start_time": "2025-02-13T16:15:29.158549",
     "status": "completed"
    },
    "tags": []
   },
   "outputs": [
    {
     "data": {
      "text/html": [
       "<div>\n",
       "<style scoped>\n",
       "    .dataframe tbody tr th:only-of-type {\n",
       "        vertical-align: middle;\n",
       "    }\n",
       "\n",
       "    .dataframe tbody tr th {\n",
       "        vertical-align: top;\n",
       "    }\n",
       "\n",
       "    .dataframe thead th {\n",
       "        text-align: right;\n",
       "    }\n",
       "</style>\n",
       "<table border=\"1\" class=\"dataframe\">\n",
       "  <thead>\n",
       "    <tr style=\"text-align: right;\">\n",
       "      <th></th>\n",
       "      <th>date</th>\n",
       "      <th>agenda</th>\n",
       "      <th>speechnumber</th>\n",
       "      <th>speaker</th>\n",
       "      <th>party</th>\n",
       "      <th>text</th>\n",
       "    </tr>\n",
       "  </thead>\n",
       "  <tbody>\n",
       "    <tr>\n",
       "      <th>0</th>\n",
       "      <td>2000-01-10</td>\n",
       "      <td>Severe Disablement Allowance [Oral Answers To ...</td>\n",
       "      <td>1</td>\n",
       "      <td>Andrew George</td>\n",
       "      <td>LibDem</td>\n",
       "      <td>What steps the Government are taking to ensure...</td>\n",
       "    </tr>\n",
       "    <tr>\n",
       "      <th>1</th>\n",
       "      <td>2000-01-10</td>\n",
       "      <td>Severe Disablement Allowance [Oral Answers To ...</td>\n",
       "      <td>2</td>\n",
       "      <td>Hugh Bayley</td>\n",
       "      <td>Lab</td>\n",
       "      <td>Severe disablement allowance does not provide ...</td>\n",
       "    </tr>\n",
       "    <tr>\n",
       "      <th>2</th>\n",
       "      <td>2000-01-10</td>\n",
       "      <td>Severe Disablement Allowance [Oral Answers To ...</td>\n",
       "      <td>3</td>\n",
       "      <td>Andrew George</td>\n",
       "      <td>LibDem</td>\n",
       "      <td>Those who warned the Government against abolit...</td>\n",
       "    </tr>\n",
       "  </tbody>\n",
       "</table>\n",
       "</div>"
      ],
      "text/plain": [
       "         date                                             agenda  \\\n",
       "0  2000-01-10  Severe Disablement Allowance [Oral Answers To ...   \n",
       "1  2000-01-10  Severe Disablement Allowance [Oral Answers To ...   \n",
       "2  2000-01-10  Severe Disablement Allowance [Oral Answers To ...   \n",
       "\n",
       "   speechnumber        speaker   party  \\\n",
       "0             1  Andrew George  LibDem   \n",
       "1             2    Hugh Bayley     Lab   \n",
       "2             3  Andrew George  LibDem   \n",
       "\n",
       "                                                text  \n",
       "0  What steps the Government are taking to ensure...  \n",
       "1  Severe disablement allowance does not provide ...  \n",
       "2  Those who warned the Government against abolit...  "
      ]
     },
     "execution_count": 4,
     "metadata": {},
     "output_type": "execute_result"
    }
   ],
   "source": [
    "df_HoC_2000s = df_HoC_2000s_raw[['date', 'agenda', 'speechnumber', 'speaker', 'party','text']]\n",
    "df_HoC_2000s.columns\n",
    "df_HoC_2000s.head(3)"
   ]
  },
  {
   "cell_type": "markdown",
   "id": "5ba9d2ab",
   "metadata": {
    "papermill": {
     "duration": 0.005328,
     "end_time": "2025-02-13T16:15:29.267092",
     "exception": false,
     "start_time": "2025-02-13T16:15:29.261764",
     "status": "completed"
    },
    "tags": []
   },
   "source": [
    "# Exploratory Data Analaysis"
   ]
  },
  {
   "cell_type": "code",
   "execution_count": 5,
   "id": "c957d048",
   "metadata": {
    "execution": {
     "iopub.execute_input": "2025-02-13T16:15:29.278712Z",
     "iopub.status.busy": "2025-02-13T16:15:29.278436Z",
     "iopub.status.idle": "2025-02-13T16:15:29.378942Z",
     "shell.execute_reply": "2025-02-13T16:15:29.378206Z"
    },
    "papermill": {
     "duration": 0.107822,
     "end_time": "2025-02-13T16:15:29.380240",
     "exception": false,
     "start_time": "2025-02-13T16:15:29.272418",
     "status": "completed"
    },
    "tags": []
   },
   "outputs": [
    {
     "data": {
      "text/plain": [
       "speaker\n",
       "CHAIR             59591\n",
       "David Cameron     13642\n",
       "Theresa May       12984\n",
       "Tony Blair         8272\n",
       "Jack Straw         8142\n",
       "Chris Grayling     6599\n",
       "Chris Bryant       6217\n",
       "Andrew Lansley     5942\n",
       "Philip Hammond     5606\n",
       "Peter Hain         5422\n",
       "Name: count, dtype: int64"
      ]
     },
     "execution_count": 5,
     "metadata": {},
     "output_type": "execute_result"
    }
   ],
   "source": [
    "df_HoC_2000s['speaker'].value_counts().head(10)"
   ]
  },
  {
   "cell_type": "code",
   "execution_count": 6,
   "id": "2497cba0",
   "metadata": {
    "execution": {
     "iopub.execute_input": "2025-02-13T16:15:29.392458Z",
     "iopub.status.busy": "2025-02-13T16:15:29.392175Z",
     "iopub.status.idle": "2025-02-13T16:15:29.573899Z",
     "shell.execute_reply": "2025-02-13T16:15:29.572789Z"
    },
    "papermill": {
     "duration": 0.189374,
     "end_time": "2025-02-13T16:15:29.575369",
     "exception": false,
     "start_time": "2025-02-13T16:15:29.385995",
     "status": "completed"
    },
    "tags": []
   },
   "outputs": [
    {
     "name": "stdout",
     "output_type": "stream",
     "text": [
      "David Cameron has 1677960 terms\n",
      "Boris Johnson has 259544 terms\n"
     ]
    }
   ],
   "source": [
    "print(f\"David Cameron has {df_HoC_2000s_raw[df_HoC_2000s_raw['speaker'] == 'David Cameron']['terms'].sum()} terms\")\n",
    "print(f\"Boris Johnson has {df_HoC_2000s_raw[df_HoC_2000s_raw['speaker'] == 'Boris Johnson']['terms'].sum()} terms\")"
   ]
  },
  {
   "cell_type": "code",
   "execution_count": 7,
   "id": "eeab4ed4",
   "metadata": {
    "execution": {
     "iopub.execute_input": "2025-02-13T16:15:29.587720Z",
     "iopub.status.busy": "2025-02-13T16:15:29.587271Z",
     "iopub.status.idle": "2025-02-13T16:15:30.325309Z",
     "shell.execute_reply": "2025-02-13T16:15:30.324230Z"
    },
    "papermill": {
     "duration": 0.745931,
     "end_time": "2025-02-13T16:15:30.327020",
     "exception": false,
     "start_time": "2025-02-13T16:15:29.581089",
     "status": "completed"
    },
    "tags": []
   },
   "outputs": [],
   "source": [
    "df_HoC_2005 = df_HoC_2000s[df_HoC_2000s['date'].str.contains('2005')]\n",
    "df_HoC_2015 = df_HoC_2000s[df_HoC_2000s['date'].str.contains('2015')]"
   ]
  },
  {
   "cell_type": "markdown",
   "id": "4dda5484",
   "metadata": {
    "papermill": {
     "duration": 0.005628,
     "end_time": "2025-02-13T16:15:30.338127",
     "exception": false,
     "start_time": "2025-02-13T16:15:30.332499",
     "status": "completed"
    },
    "tags": []
   },
   "source": [
    "# Load Tokenizer"
   ]
  },
  {
   "cell_type": "code",
   "execution_count": 8,
   "id": "62e3f700",
   "metadata": {
    "execution": {
     "iopub.execute_input": "2025-02-13T16:15:30.349138Z",
     "iopub.status.busy": "2025-02-13T16:15:30.348855Z",
     "iopub.status.idle": "2025-02-13T16:15:30.352148Z",
     "shell.execute_reply": "2025-02-13T16:15:30.351330Z"
    },
    "papermill": {
     "duration": 0.010194,
     "end_time": "2025-02-13T16:15:30.353282",
     "exception": false,
     "start_time": "2025-02-13T16:15:30.343088",
     "status": "completed"
    },
    "tags": []
   },
   "outputs": [],
   "source": [
    "BASE_MODEL_ID = \"meta-llama/Llama-3.2-3B-Instruct\""
   ]
  },
  {
   "cell_type": "code",
   "execution_count": 9,
   "id": "6f793dd1",
   "metadata": {
    "execution": {
     "iopub.execute_input": "2025-02-13T16:15:30.364894Z",
     "iopub.status.busy": "2025-02-13T16:15:30.364672Z",
     "iopub.status.idle": "2025-02-13T16:15:32.362553Z",
     "shell.execute_reply": "2025-02-13T16:15:32.361827Z"
    },
    "papermill": {
     "duration": 2.004963,
     "end_time": "2025-02-13T16:15:32.363841",
     "exception": false,
     "start_time": "2025-02-13T16:15:30.358878",
     "status": "completed"
    },
    "tags": []
   },
   "outputs": [
    {
     "data": {
      "application/vnd.jupyter.widget-view+json": {
       "model_id": "18198feb6d9944bca86ed735afd0daf3",
       "version_major": 2,
       "version_minor": 0
      },
      "text/plain": [
       "tokenizer_config.json:   0%|          | 0.00/54.5k [00:00<?, ?B/s]"
      ]
     },
     "metadata": {},
     "output_type": "display_data"
    },
    {
     "data": {
      "application/vnd.jupyter.widget-view+json": {
       "model_id": "6bc89126f48045678474bd0666c60bc5",
       "version_major": 2,
       "version_minor": 0
      },
      "text/plain": [
       "tokenizer.json:   0%|          | 0.00/9.09M [00:00<?, ?B/s]"
      ]
     },
     "metadata": {},
     "output_type": "display_data"
    },
    {
     "data": {
      "application/vnd.jupyter.widget-view+json": {
       "model_id": "589bbca14eca4fe0ac7298d6af82eca1",
       "version_major": 2,
       "version_minor": 0
      },
      "text/plain": [
       "special_tokens_map.json:   0%|          | 0.00/296 [00:00<?, ?B/s]"
      ]
     },
     "metadata": {},
     "output_type": "display_data"
    },
    {
     "data": {
      "text/plain": [
       "131072"
      ]
     },
     "execution_count": 9,
     "metadata": {},
     "output_type": "execute_result"
    }
   ],
   "source": [
    "# Create the tokenizer to measure the length of the text\n",
    "tokenizer = AutoTokenizer.from_pretrained(BASE_MODEL_ID, \n",
    "                                          add_bos_token=False, \n",
    "                                          trust_remote_code=True, \n",
    "                                          use_fast=True, \n",
    "                                          force_download=False)\n",
    "\n",
    "tokenizer.add_special_tokens({'pad_token': '[PAD]'})\n",
    "tokenizer.model_max_length"
   ]
  },
  {
   "cell_type": "code",
   "execution_count": 10,
   "id": "0dd3b10c",
   "metadata": {
    "execution": {
     "iopub.execute_input": "2025-02-13T16:15:32.376961Z",
     "iopub.status.busy": "2025-02-13T16:15:32.376685Z",
     "iopub.status.idle": "2025-02-13T16:15:32.579974Z",
     "shell.execute_reply": "2025-02-13T16:15:32.579281Z"
    },
    "papermill": {
     "duration": 0.210992,
     "end_time": "2025-02-13T16:15:32.581208",
     "exception": false,
     "start_time": "2025-02-13T16:15:32.370216",
     "status": "completed"
    },
    "tags": []
   },
   "outputs": [
    {
     "data": {
      "text/plain": [
       "(0, 128256)"
      ]
     },
     "execution_count": 10,
     "metadata": {},
     "output_type": "execute_result"
    }
   ],
   "source": [
    "min(tokenizer.vocab.values()), max(tokenizer.vocab.values()) "
   ]
  },
  {
   "cell_type": "code",
   "execution_count": 11,
   "id": "fca3aac9",
   "metadata": {
    "execution": {
     "iopub.execute_input": "2025-02-13T16:15:32.594418Z",
     "iopub.status.busy": "2025-02-13T16:15:32.594174Z",
     "iopub.status.idle": "2025-02-13T16:15:32.660058Z",
     "shell.execute_reply": "2025-02-13T16:15:32.659268Z"
    },
    "papermill": {
     "duration": 0.07366,
     "end_time": "2025-02-13T16:15:32.661452",
     "exception": false,
     "start_time": "2025-02-13T16:15:32.587792",
     "status": "completed"
    },
    "tags": []
   },
   "outputs": [
    {
     "name": "stdout",
     "output_type": "stream",
     "text": [
      "{'bos_token': '<|begin_of_text|>', 'eos_token': '<|eot_id|>', 'pad_token': '[PAD]'}\n",
      "tensor([[128000,   9906,     11,   1268,    527,    499,   3432,     30]])\n"
     ]
    }
   ],
   "source": [
    "print(tokenizer.special_tokens_map)\n",
    "\n",
    "test_text = \"Hello, how are you today?\"\n",
    "tokens = tokenizer.encode(test_text, return_tensors=\"pt\")\n",
    "print(tokens)"
   ]
  },
  {
   "cell_type": "markdown",
   "id": "4d65fc2d",
   "metadata": {
    "papermill": {
     "duration": 0.005738,
     "end_time": "2025-02-13T16:15:32.673744",
     "exception": false,
     "start_time": "2025-02-13T16:15:32.668006",
     "status": "completed"
    },
    "tags": []
   },
   "source": [
    "# Prepare Data for Training\n",
    "\n",
    "**References on Preprocessing Dataset for Fine-tuning**\n",
    "- https://pytorch.org/torchtune/0.2/tutorials/chat.html\n",
    "- https://medium.com/@alexandros_chariton/how-to-fine-tune-llama-3-2-instruct-on-your-own-data-a-detailed-guide-e5f522f397d7\n",
    "\n",
    "Yes, I would like to modify how many 'user' messages are included before and after each assistant response?"
   ]
  },
  {
   "cell_type": "code",
   "execution_count": 12,
   "id": "89732832",
   "metadata": {
    "execution": {
     "iopub.execute_input": "2025-02-13T16:15:32.686107Z",
     "iopub.status.busy": "2025-02-13T16:15:32.685873Z",
     "iopub.status.idle": "2025-02-13T16:15:32.689126Z",
     "shell.execute_reply": "2025-02-13T16:15:32.688540Z"
    },
    "papermill": {
     "duration": 0.010603,
     "end_time": "2025-02-13T16:15:32.690260",
     "exception": false,
     "start_time": "2025-02-13T16:15:32.679657",
     "status": "completed"
    },
    "tags": []
   },
   "outputs": [],
   "source": [
    "# Constants\n",
    "TOKEN_LENGTH_LIMIT = 3300\n",
    "MIN_TOKEN_LENGTH = 512\n",
    "\n",
    "MAX_NO_ASSISTANT_THRESHOLD = 10       # Reset conversation if assistant is absent for too long\n",
    "CHAT_OWNER = \"David Cameron\""
   ]
  },
  {
   "cell_type": "code",
   "execution_count": 13,
   "id": "e7493a73",
   "metadata": {
    "execution": {
     "iopub.execute_input": "2025-02-13T16:15:32.702614Z",
     "iopub.status.busy": "2025-02-13T16:15:32.702353Z",
     "iopub.status.idle": "2025-02-13T16:15:32.709364Z",
     "shell.execute_reply": "2025-02-13T16:15:32.708683Z"
    },
    "papermill": {
     "duration": 0.014885,
     "end_time": "2025-02-13T16:15:32.710735",
     "exception": false,
     "start_time": "2025-02-13T16:15:32.695850",
     "status": "completed"
    },
    "tags": []
   },
   "outputs": [],
   "source": [
    "def preprocess_convo_1(df, output_path):\n",
    "    SYSTEM_PROMPT = \"\"\"You are David Cameron, a politician in the UK's House of Commons.\n",
    "    You are responding to Observations.\n",
    "    Respond exactly as David Cameron would speak, \n",
    "    staying fully in character and address the observation directly.\"\"\"\n",
    "\n",
    "    SYSTEM_PROMPT_TOKEN_LEN = len(tokenizer.encode(SYSTEM_PROMPT))\n",
    "\n",
    "    df = df.assign(role=df[\"speaker\"].apply(lambda x: \"assistant\" if x == CHAT_OWNER else \"user\"))  # Assign roles\n",
    "    grouped = df.groupby([\"date\", \"agenda\"])\n",
    "\n",
    "    conversations = []\n",
    "\n",
    "    for (date, agenda), group in tqdm(grouped):\n",
    "        conversation = [{\"role\": \"system\", \"content\": SYSTEM_PROMPT}]\n",
    "        token_len = SYSTEM_PROMPT_TOKEN_LEN\n",
    "        has_assistant_message = False\n",
    "        user_message_count = 0  \n",
    "\n",
    "        for _, row in group.iterrows():\n",
    "            role, message = row[\"role\"], row[\"text\"]\n",
    "            chat_message = {\"role\": role, \"content\": message}\n",
    "            chat_message_len = len(tokenizer.encode(message))\n",
    "\n",
    "            # Check if adding this message exceeds the token limit\n",
    "            if token_len + chat_message_len > TOKEN_LENGTH_LIMIT or user_message_count >= MAX_NO_ASSISTANT_THRESHOLD:\n",
    "                if token_len >= MIN_TOKEN_LENGTH and has_assistant_message:\n",
    "                    conversations.append({\"conversation\": conversation})\n",
    "\n",
    "                # Restart conversation\n",
    "                conversation = [{\"role\": \"system\", \"content\": SYSTEM_PROMPT}]\n",
    "                token_len = SYSTEM_PROMPT_TOKEN_LEN\n",
    "                has_assistant_message = False\n",
    "                user_message_count = 0  \n",
    "\n",
    "            # Append message to conversation\n",
    "            conversation.append(chat_message)\n",
    "            token_len += chat_message_len\n",
    "\n",
    "            if role == \"assistant\":\n",
    "                has_assistant_message = True\n",
    "                user_message_count = 0  \n",
    "            else:\n",
    "                user_message_count += 1  \n",
    "\n",
    "        # Save the last conversation if it meets the minimum length and contains an assistant message\n",
    "        if token_len >= MIN_TOKEN_LENGTH and has_assistant_message:\n",
    "            conversations.append({\"conversation\": conversation})\n",
    "\n",
    "    # Write to JSONL file\n",
    "    with open(output_path, 'w') as f:\n",
    "        for convo in conversations:\n",
    "            f.write(json.dumps(convo) + '\\n')\n"
   ]
  },
  {
   "cell_type": "code",
   "execution_count": 14,
   "id": "63f70573",
   "metadata": {
    "execution": {
     "iopub.execute_input": "2025-02-13T16:15:32.723300Z",
     "iopub.status.busy": "2025-02-13T16:15:32.723039Z",
     "iopub.status.idle": "2025-02-13T16:33:12.990480Z",
     "shell.execute_reply": "2025-02-13T16:33:12.989560Z"
    },
    "papermill": {
     "duration": 1060.275557,
     "end_time": "2025-02-13T16:33:12.991981",
     "exception": false,
     "start_time": "2025-02-13T16:15:32.716424",
     "status": "completed"
    },
    "tags": []
   },
   "outputs": [
    {
     "name": "stderr",
     "output_type": "stream",
     "text": [
      " 99%|█████████▉| 50979/51318 [17:37<00:07, 48.22it/s]\n"
     ]
    }
   ],
   "source": [
    "output_path = '/kaggle/working/preprocessed_DavidCameron.jsonl'\n",
    "preprocess_convo_1(df_HoC_2000s, output_path)"
   ]
  },
  {
   "cell_type": "code",
   "execution_count": 15,
   "id": "ab7a246b",
   "metadata": {
    "execution": {
     "iopub.execute_input": "2025-02-13T16:33:13.630450Z",
     "iopub.status.busy": "2025-02-13T16:33:13.630101Z",
     "iopub.status.idle": "2025-02-13T16:33:27.825145Z",
     "shell.execute_reply": "2025-02-13T16:33:27.824175Z"
    },
    "papermill": {
     "duration": 14.496544,
     "end_time": "2025-02-13T16:33:27.826754",
     "exception": false,
     "start_time": "2025-02-13T16:33:13.330210",
     "status": "completed"
    },
    "tags": []
   },
   "outputs": [
    {
     "name": "stdout",
     "output_type": "stream",
     "text": [
      "Min tokens: 506, Max tokens: 4758, Avg tokens: 2621.4795361527968\n"
     ]
    }
   ],
   "source": [
    "# Check token lengths in dataset\n",
    "total_tokens = []\n",
    "with open(output_path, 'r') as f:\n",
    "    for line in f:\n",
    "        data = json.loads(line)\n",
    "        \n",
    "        conversation = \" \".join([msg[\"content\"] for msg in data[\"conversation\"]])\n",
    "        token_count = len(tokenizer.encode(conversation))\n",
    "        total_tokens.append(token_count)\n",
    "\n",
    "print(f\"Min tokens: {min(total_tokens)}, Max tokens: {max(total_tokens)}, Avg tokens: {sum(total_tokens)/len(total_tokens)}\")"
   ]
  },
  {
   "cell_type": "code",
   "execution_count": 16,
   "id": "4725a6df",
   "metadata": {
    "execution": {
     "iopub.execute_input": "2025-02-13T16:33:28.419965Z",
     "iopub.status.busy": "2025-02-13T16:33:28.419510Z",
     "iopub.status.idle": "2025-02-13T16:33:28.424435Z",
     "shell.execute_reply": "2025-02-13T16:33:28.423692Z"
    },
    "papermill": {
     "duration": 0.308137,
     "end_time": "2025-02-13T16:33:28.425849",
     "exception": false,
     "start_time": "2025-02-13T16:33:28.117712",
     "status": "completed"
    },
    "tags": []
   },
   "outputs": [
    {
     "name": "stdout",
     "output_type": "stream",
     "text": [
      "Number of conversations exceeding 4096 tokens: 1\n"
     ]
    }
   ],
   "source": [
    "over_limit = [tokens for tokens in total_tokens if tokens > 4096]\n",
    "print(f\"Number of conversations exceeding 4096 tokens: {len(over_limit)}\")"
   ]
  },
  {
   "cell_type": "code",
   "execution_count": 17,
   "id": "fb98798b",
   "metadata": {
    "execution": {
     "iopub.execute_input": "2025-02-13T16:33:29.094106Z",
     "iopub.status.busy": "2025-02-13T16:33:29.093782Z",
     "iopub.status.idle": "2025-02-13T16:33:29.455085Z",
     "shell.execute_reply": "2025-02-13T16:33:29.454118Z"
    },
    "papermill": {
     "duration": 0.672685,
     "end_time": "2025-02-13T16:33:29.456413",
     "exception": false,
     "start_time": "2025-02-13T16:33:28.783728",
     "status": "completed"
    },
    "tags": []
   },
   "outputs": [
    {
     "data": {
      "image/png": "[encoded data removed]",
      "text/plain": [
       "<Figure size 1000x600 with 1 Axes>"
      ]
     },
     "metadata": {},
     "output_type": "display_data"
    }
   ],
   "source": [
    "# Plot the histogram of 'Token Lengths'\n",
    "plt.figure(figsize=(10, 6))\n",
    "plt.hist(total_tokens, bins=20, edgecolor='black', alpha=0.7)\n",
    "plt.xlabel(\"Token Count\")\n",
    "plt.ylabel(\"Frequency\")\n",
    "plt.title(\"Distribution of Token Counts in Preprocessed Conversations\")\n",
    "plt.grid(axis='y', linestyle='--', alpha=0.7)\n",
    "plt.show()\n"
   ]
  },
  {
   "cell_type": "code",
   "execution_count": 18,
   "id": "dd05b2de",
   "metadata": {
    "collapsed": true,
    "execution": {
     "iopub.execute_input": "2025-02-13T16:33:30.126227Z",
     "iopub.status.busy": "2025-02-13T16:33:30.125800Z",
     "iopub.status.idle": "2025-02-13T16:33:30.201843Z",
     "shell.execute_reply": "2025-02-13T16:33:30.200894Z"
    },
    "jupyter": {
     "outputs_hidden": true
    },
    "papermill": {
     "duration": 0.399208,
     "end_time": "2025-02-13T16:33:30.203204",
     "exception": false,
     "start_time": "2025-02-13T16:33:29.803996",
     "status": "completed"
    },
    "tags": []
   },
   "outputs": [
    {
     "name": "stdout",
     "output_type": "stream",
     "text": [
      "Total dialog blocks: 1466\n"
     ]
    }
   ],
   "source": [
    "# Inspect a Few Samples\n",
    "dialog_blocks = []\n",
    "with open(output_path, 'r') as f:\n",
    "    for line in f:\n",
    "        dialog_blocks.append(json.loads(line))  # Parse each line as a JSON object\n",
    "\n",
    "# Display the number of dialog blocks\n",
    "print(f\"Total dialog blocks: {len(dialog_blocks)}\")\n",
    "#dialog_blocks[2]"
   ]
  },
  {
   "cell_type": "markdown",
   "id": "80d15bcc",
   "metadata": {
    "papermill": {
     "duration": 0.293679,
     "end_time": "2025-02-13T16:33:30.835403",
     "exception": false,
     "start_time": "2025-02-13T16:33:30.541724",
     "status": "completed"
    },
    "tags": []
   },
   "source": [
    "# Prepare & Tokenize"
   ]
  },
  {
   "cell_type": "code",
   "execution_count": 19,
   "id": "d608162b",
   "metadata": {
    "execution": {
     "iopub.execute_input": "2025-02-13T16:33:31.427725Z",
     "iopub.status.busy": "2025-02-13T16:33:31.427385Z",
     "iopub.status.idle": "2025-02-13T16:33:40.034914Z",
     "shell.execute_reply": "2025-02-13T16:33:40.034122Z"
    },
    "papermill": {
     "duration": 8.907547,
     "end_time": "2025-02-13T16:33:40.036276",
     "exception": false,
     "start_time": "2025-02-13T16:33:31.128729",
     "status": "completed"
    },
    "tags": []
   },
   "outputs": [
    {
     "data": {
      "application/vnd.jupyter.widget-view+json": {
       "model_id": "b20a88e5d3344720841966aa9b87f98d",
       "version_major": 2,
       "version_minor": 0
      },
      "text/plain": [
       "Map:   0%|          | 0/1466 [00:00<?, ? examples/s]"
      ]
     },
     "metadata": {},
     "output_type": "display_data"
    },
    {
     "data": {
      "application/vnd.jupyter.widget-view+json": {
       "model_id": "cbc51912c9d648e2beca841dd6ae0378",
       "version_major": 2,
       "version_minor": 0
      },
      "text/plain": [
       "Saving the dataset (0/1 shards):   0%|          | 0/1466 [00:00<?, ? examples/s]"
      ]
     },
     "metadata": {},
     "output_type": "display_data"
    }
   ],
   "source": [
    "today_date = datetime.datetime.now().strftime(\"%d %b %Y\")\n",
    "\n",
    "# Load the preprocessed JSONL dataset\n",
    "with open(output_path, \"r\") as f:\n",
    "    raw_data = [json.loads(line) for line in f]\n",
    "\n",
    "# Convert into a dataset format that follows the guide\n",
    "formatted_data = []\n",
    "\n",
    "for convo in raw_data:\n",
    "    messages = []\n",
    "    \n",
    "    for turn in convo[\"conversation\"]:\n",
    "        if turn[\"role\"] == \"system\":\n",
    "            messages.append({\"role\": \"system\", \"content\": turn[\"content\"]})\n",
    "        elif turn[\"role\"] == \"user\":\n",
    "            messages.append({\"role\": \"user\", \"content\": turn[\"content\"]})\n",
    "        elif turn[\"role\"] == \"assistant\":\n",
    "            messages.append({\"role\": \"assistant\", \"content\": turn[\"content\"]})\n",
    "    \n",
    "    # Apply chat template\n",
    "    prompt = tokenizer.apply_chat_template(messages, tokenize=False, add_generation_prompt=True)\n",
    "    prompt = prompt.replace(f\"Cutting Knowledge Date: December 2023\\nToday Date: {today_date}\\n\\n\",\"\")\n",
    "    \n",
    "    formatted_data.append({\"prompt\": prompt})\n",
    "\n",
    "# Convert to Hugging Face Dataset\n",
    "dataset = Dataset.from_list(formatted_data)\n",
    "\n",
    "def tokenize_function(example):\n",
    "    tokens = tokenizer(example['prompt'], \n",
    "                       add_special_tokens=False,\n",
    "                       padding=\"longest\", \n",
    "                       truncation=True, \n",
    "                       max_length=4096)\n",
    "    \n",
    "    tokens['labels'] = [-100 if token == tokenizer.pad_token_id else token for token in tokens['input_ids']    ]\n",
    "\n",
    "    return tokens\n",
    "\n",
    "# Apply tokenization\n",
    "tokenized_dataset = dataset.map(tokenize_function, batched=True)\n",
    "tokenized_dataset.save_to_disk(\"/kaggle/working/tokenized_dataset_DavidCameron\")"
   ]
  },
  {
   "cell_type": "code",
   "execution_count": 20,
   "id": "d1407136",
   "metadata": {
    "execution": {
     "iopub.execute_input": "2025-02-13T16:33:40.618863Z",
     "iopub.status.busy": "2025-02-13T16:33:40.618570Z",
     "iopub.status.idle": "2025-02-13T16:33:40.623198Z",
     "shell.execute_reply": "2025-02-13T16:33:40.622489Z"
    },
    "papermill": {
     "duration": 0.295811,
     "end_time": "2025-02-13T16:33:40.624489",
     "exception": false,
     "start_time": "2025-02-13T16:33:40.328678",
     "status": "completed"
    },
    "tags": []
   },
   "outputs": [
    {
     "data": {
      "text/plain": [
       "Dataset({\n",
       "    features: ['prompt', 'input_ids', 'attention_mask', 'labels'],\n",
       "    num_rows: 1466\n",
       "})"
      ]
     },
     "execution_count": 20,
     "metadata": {},
     "output_type": "execute_result"
    }
   ],
   "source": [
    "tokenized_dataset"
   ]
  },
  {
   "cell_type": "code",
   "execution_count": 21,
   "id": "36d71b5b",
   "metadata": {
    "execution": {
     "iopub.execute_input": "2025-02-13T16:33:41.245640Z",
     "iopub.status.busy": "2025-02-13T16:33:41.245279Z",
     "iopub.status.idle": "2025-02-13T16:33:41.248753Z",
     "shell.execute_reply": "2025-02-13T16:33:41.247821Z"
    },
    "papermill": {
     "duration": 0.292598,
     "end_time": "2025-02-13T16:33:41.250294",
     "exception": false,
     "start_time": "2025-02-13T16:33:40.957696",
     "status": "completed"
    },
    "tags": []
   },
   "outputs": [],
   "source": [
    "#decoded_text = tokenizer.decode(tokenized_dataset[2][\"input_ids\"])\n",
    "#decoded_text"
   ]
  },
  {
   "cell_type": "markdown",
   "id": "afdad9db",
   "metadata": {
    "papermill": {
     "duration": 0.291879,
     "end_time": "2025-02-13T16:33:41.836747",
     "exception": false,
     "start_time": "2025-02-13T16:33:41.544868",
     "status": "completed"
    },
    "tags": []
   },
   "source": [
    "# Visualization & Insights\n",
    "\n"
   ]
  },
  {
   "cell_type": "code",
   "execution_count": 22,
   "id": "aa946be6",
   "metadata": {
    "execution": {
     "iopub.execute_input": "2025-02-13T16:33:42.457371Z",
     "iopub.status.busy": "2025-02-13T16:33:42.457072Z",
     "iopub.status.idle": "2025-02-13T16:33:50.529018Z",
     "shell.execute_reply": "2025-02-13T16:33:50.528075Z"
    },
    "papermill": {
     "duration": 8.361652,
     "end_time": "2025-02-13T16:33:50.530321",
     "exception": false,
     "start_time": "2025-02-13T16:33:42.168669",
     "status": "completed"
    },
    "tags": []
   },
   "outputs": [
    {
     "data": {
      "image/png": "[encoded data removed]",
      "text/plain": [
       "<Figure size 800x500 with 1 Axes>"
      ]
     },
     "metadata": {},
     "output_type": "display_data"
    }
   ],
   "source": [
    "# Extract token lengths\n",
    "token_lengths = [len(sample[\"input_ids\"]) for sample in tokenized_dataset]\n",
    "\n",
    "# Plot histogram\n",
    "plt.figure(figsize=(8, 5))\n",
    "plt.hist(token_lengths, bins=50, color=\"blue\", edgecolor=\"black\", alpha=0.7)\n",
    "plt.xlabel(\"Token Length\")\n",
    "plt.ylabel(\"Frequency\")\n",
    "plt.title(\"Distribution of Tokenized Sequence Lengths\")\n",
    "plt.axvline(x=4096, color=\"red\", linestyle=\"dashed\", label=\"Max Length (4096)\")\n",
    "plt.legend()\n",
    "plt.show()"
   ]
  },
  {
   "cell_type": "code",
   "execution_count": 23,
   "id": "6320f82c",
   "metadata": {
    "execution": {
     "iopub.execute_input": "2025-02-13T16:33:51.159892Z",
     "iopub.status.busy": "2025-02-13T16:33:51.159582Z",
     "iopub.status.idle": "2025-02-13T16:33:59.113976Z",
     "shell.execute_reply": "2025-02-13T16:33:59.113146Z"
    },
    "papermill": {
     "duration": 8.290329,
     "end_time": "2025-02-13T16:33:59.115499",
     "exception": false,
     "start_time": "2025-02-13T16:33:50.825170",
     "status": "completed"
    },
    "tags": []
   },
   "outputs": [
    {
     "data": {
      "image/png": "[encoded data removed]",
      "text/plain": [
       "<Figure size 600x500 with 1 Axes>"
      ]
     },
     "metadata": {},
     "output_type": "display_data"
    }
   ],
   "source": [
    "truncated_samples = sum(1 for sample in tokenized_dataset if len(sample[\"input_ids\"]) == 4096)\n",
    "total_samples = len(tokenized_dataset)\n",
    "\n",
    "plt.figure(figsize=(6, 5))\n",
    "plt.pie([truncated_samples, total_samples - truncated_samples], \n",
    "        labels=[\"Truncated\", \"Not Truncated\"], autopct=\"%1.1f%%\", colors=[\"red\", \"green\"])\n",
    "plt.title(\"Percentage of Truncated Samples\")\n",
    "plt.show()"
   ]
  },
  {
   "cell_type": "code",
   "execution_count": 24,
   "id": "423939c2",
   "metadata": {
    "execution": {
     "iopub.execute_input": "2025-02-13T16:33:59.719302Z",
     "iopub.status.busy": "2025-02-13T16:33:59.718977Z",
     "iopub.status.idle": "2025-02-13T16:34:08.083132Z",
     "shell.execute_reply": "2025-02-13T16:34:08.082129Z"
    },
    "papermill": {
     "duration": 8.656754,
     "end_time": "2025-02-13T16:34:08.084694",
     "exception": false,
     "start_time": "2025-02-13T16:33:59.427940",
     "status": "completed"
    },
    "tags": []
   },
   "outputs": [
    {
     "data": {
      "image/png": "[encoded data removed]",
      "text/plain": [
       "<Figure size 800x500 with 1 Axes>"
      ]
     },
     "metadata": {},
     "output_type": "display_data"
    }
   ],
   "source": [
    "# Calculate padding ratios\n",
    "padding_ratios = [(sample[\"input_ids\"].count(tokenizer.pad_token_id) / len(sample[\"input_ids\"])) \n",
    "                  for sample in tokenized_dataset]\n",
    "\n",
    "# Plot distribution of padding percentages\n",
    "plt.figure(figsize=(8, 5))\n",
    "plt.hist(padding_ratios, bins=30, color=\"orange\", edgecolor=\"black\", alpha=0.7)\n",
    "plt.xlabel(\"Padding Ratio\")\n",
    "plt.ylabel(\"Frequency\")\n",
    "plt.title(\"Padding Proportion in Tokenized Samples\")\n",
    "plt.show()"
   ]
  },
  {
   "cell_type": "code",
   "execution_count": 25,
   "id": "3167a7b8",
   "metadata": {
    "execution": {
     "iopub.execute_input": "2025-02-13T16:34:08.705438Z",
     "iopub.status.busy": "2025-02-13T16:34:08.705113Z",
     "iopub.status.idle": "2025-02-13T16:35:11.275695Z",
     "shell.execute_reply": "2025-02-13T16:35:11.274740Z"
    },
    "papermill": {
     "duration": 63.20668,
     "end_time": "2025-02-13T16:35:11.613755",
     "exception": false,
     "start_time": "2025-02-13T16:34:08.407075",
     "status": "completed"
    },
    "tags": []
   },
   "outputs": [
    {
     "data": {
      "image/png": "[encoded data removed]",
      "text/plain": [
       "<Figure size 800x500 with 1 Axes>"
      ]
     },
     "metadata": {},
     "output_type": "display_data"
    }
   ],
   "source": [
    "user_tokens = []\n",
    "assistant_tokens = []\n",
    "\n",
    "for sample in tokenized_dataset:\n",
    "    decoded_text = tokenizer.decode(sample[\"input_ids\"])\n",
    "    user_tokens.append(decoded_text.count(\"<|start_header_id|>user\"))\n",
    "    assistant_tokens.append(decoded_text.count(\"<|start_header_id|>assistant\"))\n",
    "\n",
    "plt.figure(figsize=(8, 5))\n",
    "plt.hist(user_tokens, bins=30, color=\"blue\", alpha=0.5, label=\"User Tokens\")\n",
    "plt.hist(assistant_tokens, bins=30, color=\"green\", alpha=0.5, label=\"Assistant Tokens\")\n",
    "plt.xlabel(\"Tokens Per Sample\")\n",
    "plt.ylabel(\"Frequency\")\n",
    "plt.title(\"Distribution of User vs. Assistant Tokens\")\n",
    "plt.legend()\n",
    "plt.show()"
   ]
  }
 ],
 "metadata": {
  "kaggle": {
   "accelerator": "nvidiaTeslaT4",
   "dataSources": [
    {
     "datasetId": 6361952,
     "sourceId": 10280888,
     "sourceType": "datasetVersion"
    }
   ],
   "isGpuEnabled": true,
   "isInternetEnabled": true,
   "language": "python",
   "sourceType": "notebook"
  },
  "kernelspec": {
   "display_name": "Python 3",
   "language": "python",
   "name": "python3"
  },
  "language_info": {
   "codemirror_mode": {
    "name": "ipython",
    "version": 3
   },
   "file_extension": ".py",
   "mimetype": "text/x-python",
   "name": "python",
   "nbconvert_exporter": "python",
   "pygments_lexer": "ipython3",
   "version": "3.10.12"
  },
  "papermill": {
   "default_parameters": {},
   "duration": 1240.658403,
   "end_time": "2025-02-13T16:35:15.759753",
   "environment_variables": {},
   "exception": null,
   "input_path": "__notebook__.ipynb",
   "output_path": "__notebook__.ipynb",
   "parameters": {},
   "start_time": "2025-02-13T16:14:35.101350",
   "version": "2.6.0"
  },
  "widgets": {
   "application/vnd.jupyter.widget-state+json": {
    "state": {
     "0065aafeb935459996276c05b352525e": {
      "model_module": "@jupyter-widgets/base",
      "model_module_version": "2.0.0",
      "model_name": "LayoutModel",
      "state": {
       "_model_module": "@jupyter-widgets/base",
       "_model_module_version": "2.0.0",
       "_model_name": "LayoutModel",
       "_view_count": null,
       "_view_module": "@jupyter-widgets/base",
       "_view_module_version": "2.0.0",
       "_view_name": "LayoutView",
       "align_content": null,
       "align_items": null,
       "align_self": null,
       "border_bottom": null,
       "border_left": null,
       "border_right": null,
       "border_top": null,
       "bottom": null,
       "display": null,
       "flex": null,
       "flex_flow": null,
       "grid_area": null,
       "grid_auto_columns": null,
       "grid_auto_flow": null,
       "grid_auto_rows": null,
       "grid_column": null,
       "grid_gap": null,
       "grid_row": null,
       "grid_template_areas": null,
       "grid_template_columns": null,
       "grid_template_rows": null,
       "height": null,
       "justify_content": null,
       "justify_items": null,
       "left": null,
       "margin": null,
       "max_height": null,
       "max_width": null,
       "min_height": null,
       "min_width": null,
       "object_fit": null,
       "object_position": null,
       "order": null,
       "overflow": null,
       "padding": null,
       "right": null,
       "top": null,
       "visibility": null,
       "width": null
      }
     },
     "0079509d59ca4be0a3c8639f21348913": {
      "model_module": "@jupyter-widgets/controls",
      "model_module_version": "2.0.0",
      "model_name": "HTMLModel",
      "state": {
       "_dom_classes": [],
       "_model_module": "@jupyter-widgets/controls",
       "_model_module_version": "2.0.0",
       "_model_name": "HTMLModel",
       "_view_count": null,
       "_view_module": "@jupyter-widgets/controls",
       "_view_module_version": "2.0.0",
       "_view_name": "HTMLView",
       "description": "",
       "description_allow_html": false,
       "layout": "IPY_MODEL_acaef0dde3584b95a439e78ccb1bd3e8",
       "placeholder": "​",
       "style": "IPY_MODEL_3eb83bdaf0df47c3b8b40073bc41e55c",
       "tabbable": null,
       "tooltip": null,
       "value": " 9.09M/9.09M [00:00&lt;00:00, 43.8MB/s]"
      }
     },
     "011e1697b54048c89e985e2849180383": {
      "model_module": "@jupyter-widgets/controls",
      "model_module_version": "2.0.0",
      "model_name": "FloatProgressModel",
      "state": {
       "_dom_classes": [],
       "_model_module": "@jupyter-widgets/controls",
       "_model_module_version": "2.0.0",
       "_model_name": "FloatProgressModel",
       "_view_count": null,
       "_view_module": "@jupyter-widgets/controls",
       "_view_module_version": "2.0.0",
       "_view_name": "ProgressView",
       "bar_style": "success",
       "description": "",
       "description_allow_html": false,
       "layout": "IPY_MODEL_ff3d3677ad72459ab350d3492a1d1db2",
       "max": 296.0,
       "min": 0.0,
       "orientation": "horizontal",
       "style": "IPY_MODEL_58c29f93041847308ddebe589e054dbb",
       "tabbable": null,
       "tooltip": null,
       "value": 296.0
      }
     },
     "059e5cdc61fe45488eba27d607625a0d": {
      "model_module": "@jupyter-widgets/controls",
      "model_module_version": "2.0.0",
      "model_name": "HTMLStyleModel",
      "state": {
       "_model_module": "@jupyter-widgets/controls",
       "_model_module_version": "2.0.0",
       "_model_name": "HTMLStyleModel",
       "_view_count": null,
       "_view_module": "@jupyter-widgets/base",
       "_view_module_version": "2.0.0",
       "_view_name": "StyleView",
       "background": null,
       "description_width": "",
       "font_size": null,
       "text_color": null
      }
     },
     "0e61c556d4ca4c02a156ff0d738040f9": {
      "model_module": "@jupyter-widgets/base",
      "model_module_version": "2.0.0",
      "model_name": "LayoutModel",
      "state": {
       "_model_module": "@jupyter-widgets/base",
       "_model_module_version": "2.0.0",
       "_model_name": "LayoutModel",
       "_view_count": null,
       "_view_module": "@jupyter-widgets/base",
       "_view_module_version": "2.0.0",
       "_view_name": "LayoutView",
       "align_content": null,
       "align_items": null,
       "align_self": null,
       "border_bottom": null,
       "border_left": null,
       "border_right": null,
       "border_top": null,
       "bottom": null,
       "display": null,
       "flex": null,
       "flex_flow": null,
       "grid_area": null,
       "grid_auto_columns": null,
       "grid_auto_flow": null,
       "grid_auto_rows": null,
       "grid_column": null,
       "grid_gap": null,
       "grid_row": null,
       "grid_template_areas": null,
       "grid_template_columns": null,
       "grid_template_rows": null,
       "height": null,
       "justify_content": null,
       "justify_items": null,
       "left": null,
       "margin": null,
       "max_height": null,
       "max_width": null,
       "min_height": null,
       "min_width": null,
       "object_fit": null,
       "object_position": null,
       "order": null,
       "overflow": null,
       "padding": null,
       "right": null,
       "top": null,
       "visibility": null,
       "width": null
      }
     },
     "18198feb6d9944bca86ed735afd0daf3": {
      "model_module": "@jupyter-widgets/controls",
      "model_module_version": "2.0.0",
      "model_name": "HBoxModel",
      "state": {
       "_dom_classes": [],
       "_model_module": "@jupyter-widgets/controls",
       "_model_module_version": "2.0.0",
       "_model_name": "HBoxModel",
       "_view_count": null,
       "_view_module": "@jupyter-widgets/controls",
       "_view_module_version": "2.0.0",
       "_view_name": "HBoxView",
       "box_style": "",
       "children": [
        "IPY_MODEL_429ba0f47daa4101bec0a32ff8171c56",
        "IPY_MODEL_ea84c3b5b08b48f18518720889d6f6e8",
        "IPY_MODEL_ff02459a48ee45feb5e245ee4612dce3"
       ],
       "layout": "IPY_MODEL_68a9bd8ed8844f2683b5ab0ee93b1b37",
       "tabbable": null,
       "tooltip": null
      }
     },
     "1cbe97c66814483bb7524a552a998ec5": {
      "model_module": "@jupyter-widgets/controls",
      "model_module_version": "2.0.0",
      "model_name": "HTMLStyleModel",
      "state": {
       "_model_module": "@jupyter-widgets/controls",
       "_model_module_version": "2.0.0",
       "_model_name": "HTMLStyleModel",
       "_view_count": null,
       "_view_module": "@jupyter-widgets/base",
       "_view_module_version": "2.0.0",
       "_view_name": "StyleView",
       "background": null,
       "description_width": "",
       "font_size": null,
       "text_color": null
      }
     },
     "2583c1013bc04a94aa577dc99240f74a": {
      "model_module": "@jupyter-widgets/controls",
      "model_module_version": "2.0.0",
      "model_name": "HTMLStyleModel",
      "state": {
       "_model_module": "@jupyter-widgets/controls",
       "_model_module_version": "2.0.0",
       "_model_name": "HTMLStyleModel",
       "_view_count": null,
       "_view_module": "@jupyter-widgets/base",
       "_view_module_version": "2.0.0",
       "_view_name": "StyleView",
       "background": null,
       "description_width": "",
       "font_size": null,
       "text_color": null
      }
     },
     "3b76abed97ab486291562f98b87abd17": {
      "model_module": "@jupyter-widgets/controls",
      "model_module_version": "2.0.0",
      "model_name": "HTMLModel",
      "state": {
       "_dom_classes": [],
       "_model_module": "@jupyter-widgets/controls",
       "_model_module_version": "2.0.0",
       "_model_name": "HTMLModel",
       "_view_count": null,
       "_view_module": "@jupyter-widgets/controls",
       "_view_module_version": "2.0.0",
       "_view_name": "HTMLView",
       "description": "",
       "description_allow_html": false,
       "layout": "IPY_MODEL_a70cd6f8c24940dcbc17a64cec182587",
       "placeholder": "​",
       "style": "IPY_MODEL_7de2d85bfa934443aa2c44269146955f",
       "tabbable": null,
       "tooltip": null,
       "value": " 296/296 [00:00&lt;00:00, 29.1kB/s]"
      }
     },
     "3eb83bdaf0df47c3b8b40073bc41e55c": {
      "model_module": "@jupyter-widgets/controls",
      "model_module_version": "2.0.0",
      "model_name": "HTMLStyleModel",
      "state": {
       "_model_module": "@jupyter-widgets/controls",
       "_model_module_version": "2.0.0",
       "_model_name": "HTMLStyleModel",
       "_view_count": null,
       "_view_module": "@jupyter-widgets/base",
       "_view_module_version": "2.0.0",
       "_view_name": "StyleView",
       "background": null,
       "description_width": "",
       "font_size": null,
       "text_color": null
      }
     },
     "4032b3551a9641f5b6cb9380e606ac52": {
      "model_module": "@jupyter-widgets/base",
      "model_module_version": "2.0.0",
      "model_name": "LayoutModel",
      "state": {
       "_model_module": "@jupyter-widgets/base",
       "_model_module_version": "2.0.0",
       "_model_name": "LayoutModel",
       "_view_count": null,
       "_view_module": "@jupyter-widgets/base",
       "_view_module_version": "2.0.0",
       "_view_name": "LayoutView",
       "align_content": null,
       "align_items": null,
       "align_self": null,
       "border_bottom": null,
       "border_left": null,
       "border_right": null,
       "border_top": null,
       "bottom": null,
       "display": null,
       "flex": null,
       "flex_flow": null,
       "grid_area": null,
       "grid_auto_columns": null,
       "grid_auto_flow": null,
       "grid_auto_rows": null,
       "grid_column": null,
       "grid_gap": null,
       "grid_row": null,
       "grid_template_areas": null,
       "grid_template_columns": null,
       "grid_template_rows": null,
       "height": null,
       "justify_content": null,
       "justify_items": null,
       "left": null,
       "margin": null,
       "max_height": null,
       "max_width": null,
       "min_height": null,
       "min_width": null,
       "object_fit": null,
       "object_position": null,
       "order": null,
       "overflow": null,
       "padding": null,
       "right": null,
       "top": null,
       "visibility": null,
       "width": null
      }
     },
     "429ba0f47daa4101bec0a32ff8171c56": {
      "model_module": "@jupyter-widgets/controls",
      "model_module_version": "2.0.0",
      "model_name": "HTMLModel",
      "state": {
       "_dom_classes": [],
       "_model_module": "@jupyter-widgets/controls",
       "_model_module_version": "2.0.0",
       "_model_name": "HTMLModel",
       "_view_count": null,
       "_view_module": "@jupyter-widgets/controls",
       "_view_module_version": "2.0.0",
       "_view_name": "HTMLView",
       "description": "",
       "description_allow_html": false,
       "layout": "IPY_MODEL_d4576838b4aa4704b62bc3b350103365",
       "placeholder": "​",
       "style": "IPY_MODEL_2583c1013bc04a94aa577dc99240f74a",
       "tabbable": null,
       "tooltip": null,
       "value": "tokenizer_config.json: 100%"
      }
     },
     "42f41156722846efb024b30c8cc8307b": {
      "model_module": "@jupyter-widgets/base",
      "model_module_version": "2.0.0",
      "model_name": "LayoutModel",
      "state": {
       "_model_module": "@jupyter-widgets/base",
       "_model_module_version": "2.0.0",
       "_model_name": "LayoutModel",
       "_view_count": null,
       "_view_module": "@jupyter-widgets/base",
       "_view_module_version": "2.0.0",
       "_view_name": "LayoutView",
       "align_content": null,
       "align_items": null,
       "align_self": null,
       "border_bottom": null,
       "border_left": null,
       "border_right": null,
       "border_top": null,
       "bottom": null,
       "display": null,
       "flex": null,
       "flex_flow": null,
       "grid_area": null,
       "grid_auto_columns": null,
       "grid_auto_flow": null,
       "grid_auto_rows": null,
       "grid_column": null,
       "grid_gap": null,
       "grid_row": null,
       "grid_template_areas": null,
       "grid_template_columns": null,
       "grid_template_rows": null,
       "height": null,
       "justify_content": null,
       "justify_items": null,
       "left": null,
       "margin": null,
       "max_height": null,
       "max_width": null,
       "min_height": null,
       "min_width": null,
       "object_fit": null,
       "object_position": null,
       "order": null,
       "overflow": null,
       "padding": null,
       "right": null,
       "top": null,
       "visibility": null,
       "width": null
      }
     },
     "492a7e228dc2409e8414c56729d5ecdb": {
      "model_module": "@jupyter-widgets/controls",
      "model_module_version": "2.0.0",
      "model_name": "HTMLStyleModel",
      "state": {
       "_model_module": "@jupyter-widgets/controls",
       "_model_module_version": "2.0.0",
       "_model_name": "HTMLStyleModel",
       "_view_count": null,
       "_view_module": "@jupyter-widgets/base",
       "_view_module_version": "2.0.0",
       "_view_name": "StyleView",
       "background": null,
       "description_width": "",
       "font_size": null,
       "text_color": null
      }
     },
     "49c223956e3a444580898685e4d02e0c": {
      "model_module": "@jupyter-widgets/controls",
      "model_module_version": "2.0.0",
      "model_name": "FloatProgressModel",
      "state": {
       "_dom_classes": [],
       "_model_module": "@jupyter-widgets/controls",
       "_model_module_version": "2.0.0",
       "_model_name": "FloatProgressModel",
       "_view_count": null,
       "_view_module": "@jupyter-widgets/controls",
       "_view_module_version": "2.0.0",
       "_view_name": "ProgressView",
       "bar_style": "success",
       "description": "",
       "description_allow_html": false,
       "layout": "IPY_MODEL_5d949d2bace548c28064e5a27369bef4",
       "max": 1466.0,
       "min": 0.0,
       "orientation": "horizontal",
       "style": "IPY_MODEL_6d09df55b9f243a08a23ce915516b60a",
       "tabbable": null,
       "tooltip": null,
       "value": 1466.0
      }
     },
     "5690460d5f664b9aa6e040225b2cfe02": {
      "model_module": "@jupyter-widgets/base",
      "model_module_version": "2.0.0",
      "model_name": "LayoutModel",
      "state": {
       "_model_module": "@jupyter-widgets/base",
       "_model_module_version": "2.0.0",
       "_model_name": "LayoutModel",
       "_view_count": null,
       "_view_module": "@jupyter-widgets/base",
       "_view_module_version": "2.0.0",
       "_view_name": "LayoutView",
       "align_content": null,
       "align_items": null,
       "align_self": null,
       "border_bottom": null,
       "border_left": null,
       "border_right": null,
       "border_top": null,
       "bottom": null,
       "display": null,
       "flex": null,
       "flex_flow": null,
       "grid_area": null,
       "grid_auto_columns": null,
       "grid_auto_flow": null,
       "grid_auto_rows": null,
       "grid_column": null,
       "grid_gap": null,
       "grid_row": null,
       "grid_template_areas": null,
       "grid_template_columns": null,
       "grid_template_rows": null,
       "height": null,
       "justify_content": null,
       "justify_items": null,
       "left": null,
       "margin": null,
       "max_height": null,
       "max_width": null,
       "min_height": null,
       "min_width": null,
       "object_fit": null,
       "object_position": null,
       "order": null,
       "overflow": null,
       "padding": null,
       "right": null,
       "top": null,
       "visibility": null,
       "width": null
      }
     },
     "589bbca14eca4fe0ac7298d6af82eca1": {
      "model_module": "@jupyter-widgets/controls",
      "model_module_version": "2.0.0",
      "model_name": "HBoxModel",
      "state": {
       "_dom_classes": [],
       "_model_module": "@jupyter-widgets/controls",
       "_model_module_version": "2.0.0",
       "_model_name": "HBoxModel",
       "_view_count": null,
       "_view_module": "@jupyter-widgets/controls",
       "_view_module_version": "2.0.0",
       "_view_name": "HBoxView",
       "box_style": "",
       "children": [
        "IPY_MODEL_c6d4929a80f144b39ef368b7553813d8",
        "IPY_MODEL_011e1697b54048c89e985e2849180383",
        "IPY_MODEL_3b76abed97ab486291562f98b87abd17"
       ],
       "layout": "IPY_MODEL_0065aafeb935459996276c05b352525e",
       "tabbable": null,
       "tooltip": null
      }
     },
     "58c29f93041847308ddebe589e054dbb": {
      "model_module": "@jupyter-widgets/controls",
      "model_module_version": "2.0.0",
      "model_name": "ProgressStyleModel",
      "state": {
       "_model_module": "@jupyter-widgets/controls",
       "_model_module_version": "2.0.0",
       "_model_name": "ProgressStyleModel",
       "_view_count": null,
       "_view_module": "@jupyter-widgets/base",
       "_view_module_version": "2.0.0",
       "_view_name": "StyleView",
       "bar_color": null,
       "description_width": ""
      }
     },
     "5d949d2bace548c28064e5a27369bef4": {
      "model_module": "@jupyter-widgets/base",
      "model_module_version": "2.0.0",
      "model_name": "LayoutModel",
      "state": {
       "_model_module": "@jupyter-widgets/base",
       "_model_module_version": "2.0.0",
       "_model_name": "LayoutModel",
       "_view_count": null,
       "_view_module": "@jupyter-widgets/base",
       "_view_module_version": "2.0.0",
       "_view_name": "LayoutView",
       "align_content": null,
       "align_items": null,
       "align_self": null,
       "border_bottom": null,
       "border_left": null,
       "border_right": null,
       "border_top": null,
       "bottom": null,
       "display": null,
       "flex": null,
       "flex_flow": null,
       "grid_area": null,
       "grid_auto_columns": null,
       "grid_auto_flow": null,
       "grid_auto_rows": null,
       "grid_column": null,
       "grid_gap": null,
       "grid_row": null,
       "grid_template_areas": null,
       "grid_template_columns": null,
       "grid_template_rows": null,
       "height": null,
       "justify_content": null,
       "justify_items": null,
       "left": null,
       "margin": null,
       "max_height": null,
       "max_width": null,
       "min_height": null,
       "min_width": null,
       "object_fit": null,
       "object_position": null,
       "order": null,
       "overflow": null,
       "padding": null,
       "right": null,
       "top": null,
       "visibility": null,
       "width": null
      }
     },
     "5e24338ac8854d0abd9016551a256f92": {
      "model_module": "@jupyter-widgets/base",
      "model_module_version": "2.0.0",
      "model_name": "LayoutModel",
      "state": {
       "_model_module": "@jupyter-widgets/base",
       "_model_module_version": "2.0.0",
       "_model_name": "LayoutModel",
       "_view_count": null,
       "_view_module": "@jupyter-widgets/base",
       "_view_module_version": "2.0.0",
       "_view_name": "LayoutView",
       "align_content": null,
       "align_items": null,
       "align_self": null,
       "border_bottom": null,
       "border_left": null,
       "border_right": null,
       "border_top": null,
       "bottom": null,
       "display": null,
       "flex": null,
       "flex_flow": null,
       "grid_area": null,
       "grid_auto_columns": null,
       "grid_auto_flow": null,
       "grid_auto_rows": null,
       "grid_column": null,
       "grid_gap": null,
       "grid_row": null,
       "grid_template_areas": null,
       "grid_template_columns": null,
       "grid_template_rows": null,
       "height": null,
       "justify_content": null,
       "justify_items": null,
       "left": null,
       "margin": null,
       "max_height": null,
       "max_width": null,
       "min_height": null,
       "min_width": null,
       "object_fit": null,
       "object_position": null,
       "order": null,
       "overflow": null,
       "padding": null,
       "right": null,
       "top": null,
       "visibility": null,
       "width": null
      }
     },
     "68a9bd8ed8844f2683b5ab0ee93b1b37": {
      "model_module": "@jupyter-widgets/base",
      "model_module_version": "2.0.0",
      "model_name": "LayoutModel",
      "state": {
       "_model_module": "@jupyter-widgets/base",
       "_model_module_version": "2.0.0",
       "_model_name": "LayoutModel",
       "_view_count": null,
       "_view_module": "@jupyter-widgets/base",
       "_view_module_version": "2.0.0",
       "_view_name": "LayoutView",
       "align_content": null,
       "align_items": null,
       "align_self": null,
       "border_bottom": null,
       "border_left": null,
       "border_right": null,
       "border_top": null,
       "bottom": null,
       "display": null,
       "flex": null,
       "flex_flow": null,
       "grid_area": null,
       "grid_auto_columns": null,
       "grid_auto_flow": null,
       "grid_auto_rows": null,
       "grid_column": null,
       "grid_gap": null,
       "grid_row": null,
       "grid_template_areas": null,
       "grid_template_columns": null,
       "grid_template_rows": null,
       "height": null,
       "justify_content": null,
       "justify_items": null,
       "left": null,
       "margin": null,
       "max_height": null,
       "max_width": null,
       "min_height": null,
       "min_width": null,
       "object_fit": null,
       "object_position": null,
       "order": null,
       "overflow": null,
       "padding": null,
       "right": null,
       "top": null,
       "visibility": null,
       "width": null
      }
     },
     "6bc89126f48045678474bd0666c60bc5": {
      "model_module": "@jupyter-widgets/controls",
      "model_module_version": "2.0.0",
      "model_name": "HBoxModel",
      "state": {
       "_dom_classes": [],
       "_model_module": "@jupyter-widgets/controls",
       "_model_module_version": "2.0.0",
       "_model_name": "HBoxModel",
       "_view_count": null,
       "_view_module": "@jupyter-widgets/controls",
       "_view_module_version": "2.0.0",
       "_view_name": "HBoxView",
       "box_style": "",
       "children": [
        "IPY_MODEL_dbda4c5d5a2448c1a4f5502dd06e7f4c",
        "IPY_MODEL_e6a4ae80376c4e558c0cef294f9626e9",
        "IPY_MODEL_0079509d59ca4be0a3c8639f21348913"
       ],
       "layout": "IPY_MODEL_c9801ab2424e4cf48d2ceba4df34be13",
       "tabbable": null,
       "tooltip": null
      }
     },
     "6d09df55b9f243a08a23ce915516b60a": {
      "model_module": "@jupyter-widgets/controls",
      "model_module_version": "2.0.0",
      "model_name": "ProgressStyleModel",
      "state": {
       "_model_module": "@jupyter-widgets/controls",
       "_model_module_version": "2.0.0",
       "_model_name": "ProgressStyleModel",
       "_view_count": null,
       "_view_module": "@jupyter-widgets/base",
       "_view_module_version": "2.0.0",
       "_view_name": "StyleView",
       "bar_color": null,
       "description_width": ""
      }
     },
     "7579b9c98a314ae98570aa1fef8faf5f": {
      "model_module": "@jupyter-widgets/base",
      "model_module_version": "2.0.0",
      "model_name": "LayoutModel",
      "state": {
       "_model_module": "@jupyter-widgets/base",
       "_model_module_version": "2.0.0",
       "_model_name": "LayoutModel",
       "_view_count": null,
       "_view_module": "@jupyter-widgets/base",
       "_view_module_version": "2.0.0",
       "_view_name": "LayoutView",
       "align_content": null,
       "align_items": null,
       "align_self": null,
       "border_bottom": null,
       "border_left": null,
       "border_right": null,
       "border_top": null,
       "bottom": null,
       "display": null,
       "flex": null,
       "flex_flow": null,
       "grid_area": null,
       "grid_auto_columns": null,
       "grid_auto_flow": null,
       "grid_auto_rows": null,
       "grid_column": null,
       "grid_gap": null,
       "grid_row": null,
       "grid_template_areas": null,
       "grid_template_columns": null,
       "grid_template_rows": null,
       "height": null,
       "justify_content": null,
       "justify_items": null,
       "left": null,
       "margin": null,
       "max_height": null,
       "max_width": null,
       "min_height": null,
       "min_width": null,
       "object_fit": null,
       "object_position": null,
       "order": null,
       "overflow": null,
       "padding": null,
       "right": null,
       "top": null,
       "visibility": null,
       "width": null
      }
     },
     "7de2d85bfa934443aa2c44269146955f": {
      "model_module": "@jupyter-widgets/controls",
      "model_module_version": "2.0.0",
      "model_name": "HTMLStyleModel",
      "state": {
       "_model_module": "@jupyter-widgets/controls",
       "_model_module_version": "2.0.0",
       "_model_name": "HTMLStyleModel",
       "_view_count": null,
       "_view_module": "@jupyter-widgets/base",
       "_view_module_version": "2.0.0",
       "_view_name": "StyleView",
       "background": null,
       "description_width": "",
       "font_size": null,
       "text_color": null
      }
     },
     "87c16a28bdf343218fcf46ad4995fedd": {
      "model_module": "@jupyter-widgets/base",
      "model_module_version": "2.0.0",
      "model_name": "LayoutModel",
      "state": {
       "_model_module": "@jupyter-widgets/base",
       "_model_module_version": "2.0.0",
       "_model_name": "LayoutModel",
       "_view_count": null,
       "_view_module": "@jupyter-widgets/base",
       "_view_module_version": "2.0.0",
       "_view_name": "LayoutView",
       "align_content": null,
       "align_items": null,
       "align_self": null,
       "border_bottom": null,
       "border_left": null,
       "border_right": null,
       "border_top": null,
       "bottom": null,
       "display": null,
       "flex": null,
       "flex_flow": null,
       "grid_area": null,
       "grid_auto_columns": null,
       "grid_auto_flow": null,
       "grid_auto_rows": null,
       "grid_column": null,
       "grid_gap": null,
       "grid_row": null,
       "grid_template_areas": null,
       "grid_template_columns": null,
       "grid_template_rows": null,
       "height": null,
       "justify_content": null,
       "justify_items": null,
       "left": null,
       "margin": null,
       "max_height": null,
       "max_width": null,
       "min_height": null,
       "min_width": null,
       "object_fit": null,
       "object_position": null,
       "order": null,
       "overflow": null,
       "padding": null,
       "right": null,
       "top": null,
       "visibility": null,
       "width": null
      }
     },
     "896d44613f6f4f8c83b614e789e9a28c": {
      "model_module": "@jupyter-widgets/controls",
      "model_module_version": "2.0.0",
      "model_name": "HTMLModel",
      "state": {
       "_dom_classes": [],
       "_model_module": "@jupyter-widgets/controls",
       "_model_module_version": "2.0.0",
       "_model_name": "HTMLModel",
       "_view_count": null,
       "_view_module": "@jupyter-widgets/controls",
       "_view_module_version": "2.0.0",
       "_view_name": "HTMLView",
       "description": "",
       "description_allow_html": false,
       "layout": "IPY_MODEL_5e24338ac8854d0abd9016551a256f92",
       "placeholder": "​",
       "style": "IPY_MODEL_f3dc0d4be1ff44759d082e602e90ce2d",
       "tabbable": null,
       "tooltip": null,
       "value": "Map: 100%"
      }
     },
     "978ea136c5fd404c963e75c11fda1c4f": {
      "model_module": "@jupyter-widgets/controls",
      "model_module_version": "2.0.0",
      "model_name": "ProgressStyleModel",
      "state": {
       "_model_module": "@jupyter-widgets/controls",
       "_model_module_version": "2.0.0",
       "_model_name": "ProgressStyleModel",
       "_view_count": null,
       "_view_module": "@jupyter-widgets/base",
       "_view_module_version": "2.0.0",
       "_view_name": "StyleView",
       "bar_color": null,
       "description_width": ""
      }
     },
     "9bdb7c9e5e024aa290407d54dc270728": {
      "model_module": "@jupyter-widgets/base",
      "model_module_version": "2.0.0",
      "model_name": "LayoutModel",
      "state": {
       "_model_module": "@jupyter-widgets/base",
       "_model_module_version": "2.0.0",
       "_model_name": "LayoutModel",
       "_view_count": null,
       "_view_module": "@jupyter-widgets/base",
       "_view_module_version": "2.0.0",
       "_view_name": "LayoutView",
       "align_content": null,
       "align_items": null,
       "align_self": null,
       "border_bottom": null,
       "border_left": null,
       "border_right": null,
       "border_top": null,
       "bottom": null,
       "display": null,
       "flex": null,
       "flex_flow": null,
       "grid_area": null,
       "grid_auto_columns": null,
       "grid_auto_flow": null,
       "grid_auto_rows": null,
       "grid_column": null,
       "grid_gap": null,
       "grid_row": null,
       "grid_template_areas": null,
       "grid_template_columns": null,
       "grid_template_rows": null,
       "height": null,
       "justify_content": null,
       "justify_items": null,
       "left": null,
       "margin": null,
       "max_height": null,
       "max_width": null,
       "min_height": null,
       "min_width": null,
       "object_fit": null,
       "object_position": null,
       "order": null,
       "overflow": null,
       "padding": null,
       "right": null,
       "top": null,
       "visibility": null,
       "width": null
      }
     },
     "9c3920cd356940078b32289c54c7727e": {
      "model_module": "@jupyter-widgets/controls",
      "model_module_version": "2.0.0",
      "model_name": "HTMLModel",
      "state": {
       "_dom_classes": [],
       "_model_module": "@jupyter-widgets/controls",
       "_model_module_version": "2.0.0",
       "_model_name": "HTMLModel",
       "_view_count": null,
       "_view_module": "@jupyter-widgets/controls",
       "_view_module_version": "2.0.0",
       "_view_name": "HTMLView",
       "description": "",
       "description_allow_html": false,
       "layout": "IPY_MODEL_acb54546a3cf459e95b05d4affe9e699",
       "placeholder": "​",
       "style": "IPY_MODEL_059e5cdc61fe45488eba27d607625a0d",
       "tabbable": null,
       "tooltip": null,
       "value": " 1466/1466 [00:07&lt;00:00, 191.50 examples/s]"
      }
     },
     "a1e89b64d94648749972badaa8d48d41": {
      "model_module": "@jupyter-widgets/base",
      "model_module_version": "2.0.0",
      "model_name": "LayoutModel",
      "state": {
       "_model_module": "@jupyter-widgets/base",
       "_model_module_version": "2.0.0",
       "_model_name": "LayoutModel",
       "_view_count": null,
       "_view_module": "@jupyter-widgets/base",
       "_view_module_version": "2.0.0",
       "_view_name": "LayoutView",
       "align_content": null,
       "align_items": null,
       "align_self": null,
       "border_bottom": null,
       "border_left": null,
       "border_right": null,
       "border_top": null,
       "bottom": null,
       "display": null,
       "flex": null,
       "flex_flow": null,
       "grid_area": null,
       "grid_auto_columns": null,
       "grid_auto_flow": null,
       "grid_auto_rows": null,
       "grid_column": null,
       "grid_gap": null,
       "grid_row": null,
       "grid_template_areas": null,
       "grid_template_columns": null,
       "grid_template_rows": null,
       "height": null,
       "justify_content": null,
       "justify_items": null,
       "left": null,
       "margin": null,
       "max_height": null,
       "max_width": null,
       "min_height": null,
       "min_width": null,
       "object_fit": null,
       "object_position": null,
       "order": null,
       "overflow": null,
       "padding": null,
       "right": null,
       "top": null,
       "visibility": null,
       "width": null
      }
     },
     "a20d640a1fba428f9796a9a012cb1221": {
      "model_module": "@jupyter-widgets/controls",
      "model_module_version": "2.0.0",
      "model_name": "HTMLStyleModel",
      "state": {
       "_model_module": "@jupyter-widgets/controls",
       "_model_module_version": "2.0.0",
       "_model_name": "HTMLStyleModel",
       "_view_count": null,
       "_view_module": "@jupyter-widgets/base",
       "_view_module_version": "2.0.0",
       "_view_name": "StyleView",
       "background": null,
       "description_width": "",
       "font_size": null,
       "text_color": null
      }
     },
     "a57546c9e8e64094b8141fa894f6d036": {
      "model_module": "@jupyter-widgets/controls",
      "model_module_version": "2.0.0",
      "model_name": "HTMLModel",
      "state": {
       "_dom_classes": [],
       "_model_module": "@jupyter-widgets/controls",
       "_model_module_version": "2.0.0",
       "_model_name": "HTMLModel",
       "_view_count": null,
       "_view_module": "@jupyter-widgets/controls",
       "_view_module_version": "2.0.0",
       "_view_name": "HTMLView",
       "description": "",
       "description_allow_html": false,
       "layout": "IPY_MODEL_5690460d5f664b9aa6e040225b2cfe02",
       "placeholder": "​",
       "style": "IPY_MODEL_edd7caf0fd37425f87a4d5b74093d1f9",
       "tabbable": null,
       "tooltip": null,
       "value": "Saving the dataset (1/1 shards): 100%"
      }
     },
     "a70cd6f8c24940dcbc17a64cec182587": {
      "model_module": "@jupyter-widgets/base",
      "model_module_version": "2.0.0",
      "model_name": "LayoutModel",
      "state": {
       "_model_module": "@jupyter-widgets/base",
       "_model_module_version": "2.0.0",
       "_model_name": "LayoutModel",
       "_view_count": null,
       "_view_module": "@jupyter-widgets/base",
       "_view_module_version": "2.0.0",
       "_view_name": "LayoutView",
       "align_content": null,
       "align_items": null,
       "align_self": null,
       "border_bottom": null,
       "border_left": null,
       "border_right": null,
       "border_top": null,
       "bottom": null,
       "display": null,
       "flex": null,
       "flex_flow": null,
       "grid_area": null,
       "grid_auto_columns": null,
       "grid_auto_flow": null,
       "grid_auto_rows": null,
       "grid_column": null,
       "grid_gap": null,
       "grid_row": null,
       "grid_template_areas": null,
       "grid_template_columns": null,
       "grid_template_rows": null,
       "height": null,
       "justify_content": null,
       "justify_items": null,
       "left": null,
       "margin": null,
       "max_height": null,
       "max_width": null,
       "min_height": null,
       "min_width": null,
       "object_fit": null,
       "object_position": null,
       "order": null,
       "overflow": null,
       "padding": null,
       "right": null,
       "top": null,
       "visibility": null,
       "width": null
      }
     },
     "acaef0dde3584b95a439e78ccb1bd3e8": {
      "model_module": "@jupyter-widgets/base",
      "model_module_version": "2.0.0",
      "model_name": "LayoutModel",
      "state": {
       "_model_module": "@jupyter-widgets/base",
       "_model_module_version": "2.0.0",
       "_model_name": "LayoutModel",
       "_view_count": null,
       "_view_module": "@jupyter-widgets/base",
       "_view_module_version": "2.0.0",
       "_view_name": "LayoutView",
       "align_content": null,
       "align_items": null,
       "align_self": null,
       "border_bottom": null,
       "border_left": null,
       "border_right": null,
       "border_top": null,
       "bottom": null,
       "display": null,
       "flex": null,
       "flex_flow": null,
       "grid_area": null,
       "grid_auto_columns": null,
       "grid_auto_flow": null,
       "grid_auto_rows": null,
       "grid_column": null,
       "grid_gap": null,
       "grid_row": null,
       "grid_template_areas": null,
       "grid_template_columns": null,
       "grid_template_rows": null,
       "height": null,
       "justify_content": null,
       "justify_items": null,
       "left": null,
       "margin": null,
       "max_height": null,
       "max_width": null,
       "min_height": null,
       "min_width": null,
       "object_fit": null,
       "object_position": null,
       "order": null,
       "overflow": null,
       "padding": null,
       "right": null,
       "top": null,
       "visibility": null,
       "width": null
      }
     },
     "acb54546a3cf459e95b05d4affe9e699": {
      "model_module": "@jupyter-widgets/base",
      "model_module_version": "2.0.0",
      "model_name": "LayoutModel",
      "state": {
       "_model_module": "@jupyter-widgets/base",
       "_model_module_version": "2.0.0",
       "_model_name": "LayoutModel",
       "_view_count": null,
       "_view_module": "@jupyter-widgets/base",
       "_view_module_version": "2.0.0",
       "_view_name": "LayoutView",
       "align_content": null,
       "align_items": null,
       "align_self": null,
       "border_bottom": null,
       "border_left": null,
       "border_right": null,
       "border_top": null,
       "bottom": null,
       "display": null,
       "flex": null,
       "flex_flow": null,
       "grid_area": null,
       "grid_auto_columns": null,
       "grid_auto_flow": null,
       "grid_auto_rows": null,
       "grid_column": null,
       "grid_gap": null,
       "grid_row": null,
       "grid_template_areas": null,
       "grid_template_columns": null,
       "grid_template_rows": null,
       "height": null,
       "justify_content": null,
       "justify_items": null,
       "left": null,
       "margin": null,
       "max_height": null,
       "max_width": null,
       "min_height": null,
       "min_width": null,
       "object_fit": null,
       "object_position": null,
       "order": null,
       "overflow": null,
       "padding": null,
       "right": null,
       "top": null,
       "visibility": null,
       "width": null
      }
     },
     "b20a88e5d3344720841966aa9b87f98d": {
      "model_module": "@jupyter-widgets/controls",
      "model_module_version": "2.0.0",
      "model_name": "HBoxModel",
      "state": {
       "_dom_classes": [],
       "_model_module": "@jupyter-widgets/controls",
       "_model_module_version": "2.0.0",
       "_model_name": "HBoxModel",
       "_view_count": null,
       "_view_module": "@jupyter-widgets/controls",
       "_view_module_version": "2.0.0",
       "_view_name": "HBoxView",
       "box_style": "",
       "children": [
        "IPY_MODEL_896d44613f6f4f8c83b614e789e9a28c",
        "IPY_MODEL_c60ad98685ef448b931c7d385bd566af",
        "IPY_MODEL_9c3920cd356940078b32289c54c7727e"
       ],
       "layout": "IPY_MODEL_42f41156722846efb024b30c8cc8307b",
       "tabbable": null,
       "tooltip": null
      }
     },
     "b501f8e477644ca19c3c9b7581e588a1": {
      "model_module": "@jupyter-widgets/controls",
      "model_module_version": "2.0.0",
      "model_name": "ProgressStyleModel",
      "state": {
       "_model_module": "@jupyter-widgets/controls",
       "_model_module_version": "2.0.0",
       "_model_name": "ProgressStyleModel",
       "_view_count": null,
       "_view_module": "@jupyter-widgets/base",
       "_view_module_version": "2.0.0",
       "_view_name": "StyleView",
       "bar_color": null,
       "description_width": ""
      }
     },
     "b8b2868bd8c04f52b1ce39e246074aa7": {
      "model_module": "@jupyter-widgets/base",
      "model_module_version": "2.0.0",
      "model_name": "LayoutModel",
      "state": {
       "_model_module": "@jupyter-widgets/base",
       "_model_module_version": "2.0.0",
       "_model_name": "LayoutModel",
       "_view_count": null,
       "_view_module": "@jupyter-widgets/base",
       "_view_module_version": "2.0.0",
       "_view_name": "LayoutView",
       "align_content": null,
       "align_items": null,
       "align_self": null,
       "border_bottom": null,
       "border_left": null,
       "border_right": null,
       "border_top": null,
       "bottom": null,
       "display": null,
       "flex": null,
       "flex_flow": null,
       "grid_area": null,
       "grid_auto_columns": null,
       "grid_auto_flow": null,
       "grid_auto_rows": null,
       "grid_column": null,
       "grid_gap": null,
       "grid_row": null,
       "grid_template_areas": null,
       "grid_template_columns": null,
       "grid_template_rows": null,
       "height": null,
       "justify_content": null,
       "justify_items": null,
       "left": null,
       "margin": null,
       "max_height": null,
       "max_width": null,
       "min_height": null,
       "min_width": null,
       "object_fit": null,
       "object_position": null,
       "order": null,
       "overflow": null,
       "padding": null,
       "right": null,
       "top": null,
       "visibility": null,
       "width": null
      }
     },
     "bfd44eb65d2f4daaa7f204117d27a701": {
      "model_module": "@jupyter-widgets/base",
      "model_module_version": "2.0.0",
      "model_name": "LayoutModel",
      "state": {
       "_model_module": "@jupyter-widgets/base",
       "_model_module_version": "2.0.0",
       "_model_name": "LayoutModel",
       "_view_count": null,
       "_view_module": "@jupyter-widgets/base",
       "_view_module_version": "2.0.0",
       "_view_name": "LayoutView",
       "align_content": null,
       "align_items": null,
       "align_self": null,
       "border_bottom": null,
       "border_left": null,
       "border_right": null,
       "border_top": null,
       "bottom": null,
       "display": null,
       "flex": null,
       "flex_flow": null,
       "grid_area": null,
       "grid_auto_columns": null,
       "grid_auto_flow": null,
       "grid_auto_rows": null,
       "grid_column": null,
       "grid_gap": null,
       "grid_row": null,
       "grid_template_areas": null,
       "grid_template_columns": null,
       "grid_template_rows": null,
       "height": null,
       "justify_content": null,
       "justify_items": null,
       "left": null,
       "margin": null,
       "max_height": null,
       "max_width": null,
       "min_height": null,
       "min_width": null,
       "object_fit": null,
       "object_position": null,
       "order": null,
       "overflow": null,
       "padding": null,
       "right": null,
       "top": null,
       "visibility": null,
       "width": null
      }
     },
     "c3560d474b6b411e954cda372531f5a0": {
      "model_module": "@jupyter-widgets/controls",
      "model_module_version": "2.0.0",
      "model_name": "HTMLStyleModel",
      "state": {
       "_model_module": "@jupyter-widgets/controls",
       "_model_module_version": "2.0.0",
       "_model_name": "HTMLStyleModel",
       "_view_count": null,
       "_view_module": "@jupyter-widgets/base",
       "_view_module_version": "2.0.0",
       "_view_name": "StyleView",
       "background": null,
       "description_width": "",
       "font_size": null,
       "text_color": null
      }
     },
     "c60ad98685ef448b931c7d385bd566af": {
      "model_module": "@jupyter-widgets/controls",
      "model_module_version": "2.0.0",
      "model_name": "FloatProgressModel",
      "state": {
       "_dom_classes": [],
       "_model_module": "@jupyter-widgets/controls",
       "_model_module_version": "2.0.0",
       "_model_name": "FloatProgressModel",
       "_view_count": null,
       "_view_module": "@jupyter-widgets/controls",
       "_view_module_version": "2.0.0",
       "_view_name": "ProgressView",
       "bar_style": "success",
       "description": "",
       "description_allow_html": false,
       "layout": "IPY_MODEL_7579b9c98a314ae98570aa1fef8faf5f",
       "max": 1466.0,
       "min": 0.0,
       "orientation": "horizontal",
       "style": "IPY_MODEL_b501f8e477644ca19c3c9b7581e588a1",
       "tabbable": null,
       "tooltip": null,
       "value": 1466.0
      }
     },
     "c6d4929a80f144b39ef368b7553813d8": {
      "model_module": "@jupyter-widgets/controls",
      "model_module_version": "2.0.0",
      "model_name": "HTMLModel",
      "state": {
       "_dom_classes": [],
       "_model_module": "@jupyter-widgets/controls",
       "_model_module_version": "2.0.0",
       "_model_name": "HTMLModel",
       "_view_count": null,
       "_view_module": "@jupyter-widgets/controls",
       "_view_module_version": "2.0.0",
       "_view_name": "HTMLView",
       "description": "",
       "description_allow_html": false,
       "layout": "IPY_MODEL_a1e89b64d94648749972badaa8d48d41",
       "placeholder": "​",
       "style": "IPY_MODEL_c3560d474b6b411e954cda372531f5a0",
       "tabbable": null,
       "tooltip": null,
       "value": "special_tokens_map.json: 100%"
      }
     },
     "c9801ab2424e4cf48d2ceba4df34be13": {
      "model_module": "@jupyter-widgets/base",
      "model_module_version": "2.0.0",
      "model_name": "LayoutModel",
      "state": {
       "_model_module": "@jupyter-widgets/base",
       "_model_module_version": "2.0.0",
       "_model_name": "LayoutModel",
       "_view_count": null,
       "_view_module": "@jupyter-widgets/base",
       "_view_module_version": "2.0.0",
       "_view_name": "LayoutView",
       "align_content": null,
       "align_items": null,
       "align_self": null,
       "border_bottom": null,
       "border_left": null,
       "border_right": null,
       "border_top": null,
       "bottom": null,
       "display": null,
       "flex": null,
       "flex_flow": null,
       "grid_area": null,
       "grid_auto_columns": null,
       "grid_auto_flow": null,
       "grid_auto_rows": null,
       "grid_column": null,
       "grid_gap": null,
       "grid_row": null,
       "grid_template_areas": null,
       "grid_template_columns": null,
       "grid_template_rows": null,
       "height": null,
       "justify_content": null,
       "justify_items": null,
       "left": null,
       "margin": null,
       "max_height": null,
       "max_width": null,
       "min_height": null,
       "min_width": null,
       "object_fit": null,
       "object_position": null,
       "order": null,
       "overflow": null,
       "padding": null,
       "right": null,
       "top": null,
       "visibility": null,
       "width": null
      }
     },
     "cbc51912c9d648e2beca841dd6ae0378": {
      "model_module": "@jupyter-widgets/controls",
      "model_module_version": "2.0.0",
      "model_name": "HBoxModel",
      "state": {
       "_dom_classes": [],
       "_model_module": "@jupyter-widgets/controls",
       "_model_module_version": "2.0.0",
       "_model_name": "HBoxModel",
       "_view_count": null,
       "_view_module": "@jupyter-widgets/controls",
       "_view_module_version": "2.0.0",
       "_view_name": "HBoxView",
       "box_style": "",
       "children": [
        "IPY_MODEL_a57546c9e8e64094b8141fa894f6d036",
        "IPY_MODEL_49c223956e3a444580898685e4d02e0c",
        "IPY_MODEL_f13315406c7447048317b45e2f712139"
       ],
       "layout": "IPY_MODEL_9bdb7c9e5e024aa290407d54dc270728",
       "tabbable": null,
       "tooltip": null
      }
     },
     "d4576838b4aa4704b62bc3b350103365": {
      "model_module": "@jupyter-widgets/base",
      "model_module_version": "2.0.0",
      "model_name": "LayoutModel",
      "state": {
       "_model_module": "@jupyter-widgets/base",
       "_model_module_version": "2.0.0",
       "_model_name": "LayoutModel",
       "_view_count": null,
       "_view_module": "@jupyter-widgets/base",
       "_view_module_version": "2.0.0",
       "_view_name": "LayoutView",
       "align_content": null,
       "align_items": null,
       "align_self": null,
       "border_bottom": null,
       "border_left": null,
       "border_right": null,
       "border_top": null,
       "bottom": null,
       "display": null,
       "flex": null,
       "flex_flow": null,
       "grid_area": null,
       "grid_auto_columns": null,
       "grid_auto_flow": null,
       "grid_auto_rows": null,
       "grid_column": null,
       "grid_gap": null,
       "grid_row": null,
       "grid_template_areas": null,
       "grid_template_columns": null,
       "grid_template_rows": null,
       "height": null,
       "justify_content": null,
       "justify_items": null,
       "left": null,
       "margin": null,
       "max_height": null,
       "max_width": null,
       "min_height": null,
       "min_width": null,
       "object_fit": null,
       "object_position": null,
       "order": null,
       "overflow": null,
       "padding": null,
       "right": null,
       "top": null,
       "visibility": null,
       "width": null
      }
     },
     "dbda4c5d5a2448c1a4f5502dd06e7f4c": {
      "model_module": "@jupyter-widgets/controls",
      "model_module_version": "2.0.0",
      "model_name": "HTMLModel",
      "state": {
       "_dom_classes": [],
       "_model_module": "@jupyter-widgets/controls",
       "_model_module_version": "2.0.0",
       "_model_name": "HTMLModel",
       "_view_count": null,
       "_view_module": "@jupyter-widgets/controls",
       "_view_module_version": "2.0.0",
       "_view_name": "HTMLView",
       "description": "",
       "description_allow_html": false,
       "layout": "IPY_MODEL_4032b3551a9641f5b6cb9380e606ac52",
       "placeholder": "​",
       "style": "IPY_MODEL_492a7e228dc2409e8414c56729d5ecdb",
       "tabbable": null,
       "tooltip": null,
       "value": "tokenizer.json: 100%"
      }
     },
     "e6a4ae80376c4e558c0cef294f9626e9": {
      "model_module": "@jupyter-widgets/controls",
      "model_module_version": "2.0.0",
      "model_name": "FloatProgressModel",
      "state": {
       "_dom_classes": [],
       "_model_module": "@jupyter-widgets/controls",
       "_model_module_version": "2.0.0",
       "_model_name": "FloatProgressModel",
       "_view_count": null,
       "_view_module": "@jupyter-widgets/controls",
       "_view_module_version": "2.0.0",
       "_view_name": "ProgressView",
       "bar_style": "success",
       "description": "",
       "description_allow_html": false,
       "layout": "IPY_MODEL_bfd44eb65d2f4daaa7f204117d27a701",
       "max": 9085657.0,
       "min": 0.0,
       "orientation": "horizontal",
       "style": "IPY_MODEL_978ea136c5fd404c963e75c11fda1c4f",
       "tabbable": null,
       "tooltip": null,
       "value": 9085657.0
      }
     },
     "ea84c3b5b08b48f18518720889d6f6e8": {
      "model_module": "@jupyter-widgets/controls",
      "model_module_version": "2.0.0",
      "model_name": "FloatProgressModel",
      "state": {
       "_dom_classes": [],
       "_model_module": "@jupyter-widgets/controls",
       "_model_module_version": "2.0.0",
       "_model_name": "FloatProgressModel",
       "_view_count": null,
       "_view_module": "@jupyter-widgets/controls",
       "_view_module_version": "2.0.0",
       "_view_name": "ProgressView",
       "bar_style": "success",
       "description": "",
       "description_allow_html": false,
       "layout": "IPY_MODEL_b8b2868bd8c04f52b1ce39e246074aa7",
       "max": 54528.0,
       "min": 0.0,
       "orientation": "horizontal",
       "style": "IPY_MODEL_f6074b7e0ca84abe9e824aba3a59e904",
       "tabbable": null,
       "tooltip": null,
       "value": 54528.0
      }
     },
     "edd7caf0fd37425f87a4d5b74093d1f9": {
      "model_module": "@jupyter-widgets/controls",
      "model_module_version": "2.0.0",
      "model_name": "HTMLStyleModel",
      "state": {
       "_model_module": "@jupyter-widgets/controls",
       "_model_module_version": "2.0.0",
       "_model_name": "HTMLStyleModel",
       "_view_count": null,
       "_view_module": "@jupyter-widgets/base",
       "_view_module_version": "2.0.0",
       "_view_name": "StyleView",
       "background": null,
       "description_width": "",
       "font_size": null,
       "text_color": null
      }
     },
     "f13315406c7447048317b45e2f712139": {
      "model_module": "@jupyter-widgets/controls",
      "model_module_version": "2.0.0",
      "model_name": "HTMLModel",
      "state": {
       "_dom_classes": [],
       "_model_module": "@jupyter-widgets/controls",
       "_model_module_version": "2.0.0",
       "_model_name": "HTMLModel",
       "_view_count": null,
       "_view_module": "@jupyter-widgets/controls",
       "_view_module_version": "2.0.0",
       "_view_name": "HTMLView",
       "description": "",
       "description_allow_html": false,
       "layout": "IPY_MODEL_0e61c556d4ca4c02a156ff0d738040f9",
       "placeholder": "​",
       "style": "IPY_MODEL_1cbe97c66814483bb7524a552a998ec5",
       "tabbable": null,
       "tooltip": null,
       "value": " 1466/1466 [00:00&lt;00:00, 16578.28 examples/s]"
      }
     },
     "f3dc0d4be1ff44759d082e602e90ce2d": {
      "model_module": "@jupyter-widgets/controls",
      "model_module_version": "2.0.0",
      "model_name": "HTMLStyleModel",
      "state": {
       "_model_module": "@jupyter-widgets/controls",
       "_model_module_version": "2.0.0",
       "_model_name": "HTMLStyleModel",
       "_view_count": null,
       "_view_module": "@jupyter-widgets/base",
       "_view_module_version": "2.0.0",
       "_view_name": "StyleView",
       "background": null,
       "description_width": "",
       "font_size": null,
       "text_color": null
      }
     },
     "f6074b7e0ca84abe9e824aba3a59e904": {
      "model_module": "@jupyter-widgets/controls",
      "model_module_version": "2.0.0",
      "model_name": "ProgressStyleModel",
      "state": {
       "_model_module": "@jupyter-widgets/controls",
       "_model_module_version": "2.0.0",
       "_model_name": "ProgressStyleModel",
       "_view_count": null,
       "_view_module": "@jupyter-widgets/base",
       "_view_module_version": "2.0.0",
       "_view_name": "StyleView",
       "bar_color": null,
       "description_width": ""
      }
     },
     "ff02459a48ee45feb5e245ee4612dce3": {
      "model_module": "@jupyter-widgets/controls",
      "model_module_version": "2.0.0",
      "model_name": "HTMLModel",
      "state": {
       "_dom_classes": [],
       "_model_module": "@jupyter-widgets/controls",
       "_model_module_version": "2.0.0",
       "_model_name": "HTMLModel",
       "_view_count": null,
       "_view_module": "@jupyter-widgets/controls",
       "_view_module_version": "2.0.0",
       "_view_name": "HTMLView",
       "description": "",
       "description_allow_html": false,
       "layout": "IPY_MODEL_87c16a28bdf343218fcf46ad4995fedd",
       "placeholder": "​",
       "style": "IPY_MODEL_a20d640a1fba428f9796a9a012cb1221",
       "tabbable": null,
       "tooltip": null,
       "value": " 54.5k/54.5k [00:00&lt;00:00, 2.57MB/s]"
      }
     },
     "ff3d3677ad72459ab350d3492a1d1db2": {
      "model_module": "@jupyter-widgets/base",
      "model_module_version": "2.0.0",
      "model_name": "LayoutModel",
      "state": {
       "_model_module": "@jupyter-widgets/base",
       "_model_module_version": "2.0.0",
       "_model_name": "LayoutModel",
       "_view_count": null,
       "_view_module": "@jupyter-widgets/base",
       "_view_module_version": "2.0.0",
       "_view_name": "LayoutView",
       "align_content": null,
       "align_items": null,
       "align_self": null,
       "border_bottom": null,
       "border_left": null,
       "border_right": null,
       "border_top": null,
       "bottom": null,
       "display": null,
       "flex": null,
       "flex_flow": null,
       "grid_area": null,
       "grid_auto_columns": null,
       "grid_auto_flow": null,
       "grid_auto_rows": null,
       "grid_column": null,
       "grid_gap": null,
       "grid_row": null,
       "grid_template_areas": null,
       "grid_template_columns": null,
       "grid_template_rows": null,
       "height": null,
       "justify_content": null,
       "justify_items": null,
       "left": null,
       "margin": null,
       "max_height": null,
       "max_width": null,
       "min_height": null,
       "min_width": null,
       "object_fit": null,
       "object_position": null,
       "order": null,
       "overflow": null,
       "padding": null,
       "right": null,
       "top": null,
       "visibility": null,
       "width": null
      }
     }
    },
    "version_major": 2,
    "version_minor": 0
   }
  }
 },
 "nbformat": 4,
 "nbformat_minor": 5
}
