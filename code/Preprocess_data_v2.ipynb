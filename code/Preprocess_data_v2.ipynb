{
 "cells": [
  {
   "cell_type": "markdown",
   "id": "71468ca0",
   "metadata": {
    "papermill": {
     "duration": 0.006074,
     "end_time": "2025-02-12T11:12:30.450740",
     "exception": false,
     "start_time": "2025-02-12T11:12:30.444666",
     "status": "completed"
    },
    "tags": []
   },
   "source": [
    "# Setup\n",
    "\n",
    "Requirements:\n",
    "* torchao-0.8.0\n",
    "* torchtune-0.6.0\n",
    "* torch-2.4.0"
   ]
  },
  {
   "cell_type": "code",
   "execution_count": 1,
   "id": "1b1b3634",
   "metadata": {
    "execution": {
     "iopub.execute_input": "2025-02-12T11:12:30.462778Z",
     "iopub.status.busy": "2025-02-12T11:12:30.462465Z",
     "iopub.status.idle": "2025-02-12T11:12:42.420670Z",
     "shell.execute_reply": "2025-02-12T11:12:42.419632Z"
    },
    "papermill": {
     "duration": 11.966372,
     "end_time": "2025-02-12T11:12:42.422645",
     "exception": false,
     "start_time": "2025-02-12T11:12:30.456273",
     "status": "completed"
    },
    "tags": []
   },
   "outputs": [],
   "source": [
    "import pandas as pd\n",
    "import numpy as np\n",
    "\n",
    "import json\n",
    "import matplotlib.pyplot as plt\n",
    "import datetime\n",
    "from datasets import Dataset\n",
    "\n",
    "# Transformers\n",
    "from transformers import AutoTokenizer, AutoModelForCausalLM\n",
    "from tqdm import tqdm\n",
    "\n",
    "#import torch.nn.attention.flex_attention\n",
    "#from torchtune.modules.tokenizers import ModelTokenizer\n",
    "#from torchtune.models.llama3 import llama3_tokenizer\n",
    "#from torchtune.data import Message"
   ]
  },
  {
   "cell_type": "code",
   "execution_count": 2,
   "id": "1f2992d5",
   "metadata": {
    "execution": {
     "iopub.execute_input": "2025-02-12T11:12:42.435057Z",
     "iopub.status.busy": "2025-02-12T11:12:42.434566Z",
     "iopub.status.idle": "2025-02-12T11:12:42.716627Z",
     "shell.execute_reply": "2025-02-12T11:12:42.715652Z"
    },
    "papermill": {
     "duration": 0.289843,
     "end_time": "2025-02-12T11:12:42.718288",
     "exception": false,
     "start_time": "2025-02-12T11:12:42.428445",
     "status": "completed"
    },
    "tags": []
   },
   "outputs": [],
   "source": [
    "# Set API Keys\n",
    "from kaggle_secrets import UserSecretsClient # API Loggins\n",
    "user_secrets = UserSecretsClient()\n",
    "\n",
    "## Hugging Face\n",
    "Hugging_Face_token = user_secrets.get_secret(\"Hugging_Face_token\")\n",
    "\n",
    "# Login to Hugging Face\n",
    "from huggingface_hub import login\n",
    "\n",
    "login(Hugging_Face_token)"
   ]
  },
  {
   "cell_type": "markdown",
   "id": "cc2f18bf",
   "metadata": {
    "papermill": {
     "duration": 0.005189,
     "end_time": "2025-02-12T11:12:42.729470",
     "exception": false,
     "start_time": "2025-02-12T11:12:42.724281",
     "status": "completed"
    },
    "tags": []
   },
   "source": [
    "# Load Data"
   ]
  },
  {
   "cell_type": "code",
   "execution_count": 3,
   "id": "bde18eac",
   "metadata": {
    "execution": {
     "iopub.execute_input": "2025-02-12T11:12:42.740637Z",
     "iopub.status.busy": "2025-02-12T11:12:42.740381Z",
     "iopub.status.idle": "2025-02-12T11:13:16.883426Z",
     "shell.execute_reply": "2025-02-12T11:13:16.882502Z"
    },
    "papermill": {
     "duration": 34.15554,
     "end_time": "2025-02-12T11:13:16.890105",
     "exception": false,
     "start_time": "2025-02-12T11:12:42.734565",
     "status": "completed"
    },
    "tags": []
   },
   "outputs": [
    {
     "data": {
      "text/plain": [
       "Index(['date', 'agenda', 'speechnumber', 'speaker', 'party', 'party.facts.id',\n",
       "       'chair', 'terms', 'text'],\n",
       "      dtype='object')"
      ]
     },
     "execution_count": 3,
     "metadata": {},
     "output_type": "execute_result"
    }
   ],
   "source": [
    "#df_HoC_2000s_raw = pd.read_csv('H:/MA_Thesis/data/Rauh_Schwalbach_2020_ParlSpeech/df_HoC_2000s.csv')\n",
    "\n",
    "df_HoC_2000s_raw = pd.read_csv('/kaggle/input/parlspeech/df_HoC_2000s.csv')\n",
    "df_HoC_2000s_raw.columns"
   ]
  },
  {
   "cell_type": "code",
   "execution_count": 4,
   "id": "bed37257",
   "metadata": {
    "execution": {
     "iopub.execute_input": "2025-02-12T11:13:16.901870Z",
     "iopub.status.busy": "2025-02-12T11:13:16.901604Z",
     "iopub.status.idle": "2025-02-12T11:13:16.991886Z",
     "shell.execute_reply": "2025-02-12T11:13:16.990985Z"
    },
    "papermill": {
     "duration": 0.09794,
     "end_time": "2025-02-12T11:13:16.993513",
     "exception": false,
     "start_time": "2025-02-12T11:13:16.895573",
     "status": "completed"
    },
    "tags": []
   },
   "outputs": [
    {
     "data": {
      "text/html": [
       "<div>\n",
       "<style scoped>\n",
       "    .dataframe tbody tr th:only-of-type {\n",
       "        vertical-align: middle;\n",
       "    }\n",
       "\n",
       "    .dataframe tbody tr th {\n",
       "        vertical-align: top;\n",
       "    }\n",
       "\n",
       "    .dataframe thead th {\n",
       "        text-align: right;\n",
       "    }\n",
       "</style>\n",
       "<table border=\"1\" class=\"dataframe\">\n",
       "  <thead>\n",
       "    <tr style=\"text-align: right;\">\n",
       "      <th></th>\n",
       "      <th>date</th>\n",
       "      <th>agenda</th>\n",
       "      <th>speechnumber</th>\n",
       "      <th>speaker</th>\n",
       "      <th>party</th>\n",
       "      <th>text</th>\n",
       "    </tr>\n",
       "  </thead>\n",
       "  <tbody>\n",
       "    <tr>\n",
       "      <th>0</th>\n",
       "      <td>2000-01-10</td>\n",
       "      <td>Severe Disablement Allowance [Oral Answers To ...</td>\n",
       "      <td>1</td>\n",
       "      <td>Andrew George</td>\n",
       "      <td>LibDem</td>\n",
       "      <td>What steps the Government are taking to ensure...</td>\n",
       "    </tr>\n",
       "    <tr>\n",
       "      <th>1</th>\n",
       "      <td>2000-01-10</td>\n",
       "      <td>Severe Disablement Allowance [Oral Answers To ...</td>\n",
       "      <td>2</td>\n",
       "      <td>Hugh Bayley</td>\n",
       "      <td>Lab</td>\n",
       "      <td>Severe disablement allowance does not provide ...</td>\n",
       "    </tr>\n",
       "    <tr>\n",
       "      <th>2</th>\n",
       "      <td>2000-01-10</td>\n",
       "      <td>Severe Disablement Allowance [Oral Answers To ...</td>\n",
       "      <td>3</td>\n",
       "      <td>Andrew George</td>\n",
       "      <td>LibDem</td>\n",
       "      <td>Those who warned the Government against abolit...</td>\n",
       "    </tr>\n",
       "  </tbody>\n",
       "</table>\n",
       "</div>"
      ],
      "text/plain": [
       "         date                                             agenda  \\\n",
       "0  2000-01-10  Severe Disablement Allowance [Oral Answers To ...   \n",
       "1  2000-01-10  Severe Disablement Allowance [Oral Answers To ...   \n",
       "2  2000-01-10  Severe Disablement Allowance [Oral Answers To ...   \n",
       "\n",
       "   speechnumber        speaker   party  \\\n",
       "0             1  Andrew George  LibDem   \n",
       "1             2    Hugh Bayley     Lab   \n",
       "2             3  Andrew George  LibDem   \n",
       "\n",
       "                                                text  \n",
       "0  What steps the Government are taking to ensure...  \n",
       "1  Severe disablement allowance does not provide ...  \n",
       "2  Those who warned the Government against abolit...  "
      ]
     },
     "execution_count": 4,
     "metadata": {},
     "output_type": "execute_result"
    }
   ],
   "source": [
    "df_HoC_2000s = df_HoC_2000s_raw[['date', 'agenda', 'speechnumber', 'speaker', 'party','text']]\n",
    "df_HoC_2000s.columns\n",
    "df_HoC_2000s.head(3)"
   ]
  },
  {
   "cell_type": "markdown",
   "id": "e27062d6",
   "metadata": {
    "papermill": {
     "duration": 0.005539,
     "end_time": "2025-02-12T11:13:17.005597",
     "exception": false,
     "start_time": "2025-02-12T11:13:17.000058",
     "status": "completed"
    },
    "tags": []
   },
   "source": [
    "# Exploratory Data Analaysis"
   ]
  },
  {
   "cell_type": "code",
   "execution_count": 5,
   "id": "954016f4",
   "metadata": {
    "execution": {
     "iopub.execute_input": "2025-02-12T11:13:17.017727Z",
     "iopub.status.busy": "2025-02-12T11:13:17.017456Z",
     "iopub.status.idle": "2025-02-12T11:13:17.119652Z",
     "shell.execute_reply": "2025-02-12T11:13:17.118758Z"
    },
    "papermill": {
     "duration": 0.11005,
     "end_time": "2025-02-12T11:13:17.121118",
     "exception": false,
     "start_time": "2025-02-12T11:13:17.011068",
     "status": "completed"
    },
    "tags": []
   },
   "outputs": [
    {
     "data": {
      "text/plain": [
       "speaker\n",
       "CHAIR             59591\n",
       "David Cameron     13642\n",
       "Theresa May       12984\n",
       "Tony Blair         8272\n",
       "Jack Straw         8142\n",
       "Chris Grayling     6599\n",
       "Chris Bryant       6217\n",
       "Andrew Lansley     5942\n",
       "Philip Hammond     5606\n",
       "Peter Hain         5422\n",
       "Name: count, dtype: int64"
      ]
     },
     "execution_count": 5,
     "metadata": {},
     "output_type": "execute_result"
    }
   ],
   "source": [
    "df_HoC_2000s['speaker'].value_counts().head(10)"
   ]
  },
  {
   "cell_type": "code",
   "execution_count": 6,
   "id": "0bbeae5d",
   "metadata": {
    "execution": {
     "iopub.execute_input": "2025-02-12T11:13:17.133867Z",
     "iopub.status.busy": "2025-02-12T11:13:17.133578Z",
     "iopub.status.idle": "2025-02-12T11:13:17.334248Z",
     "shell.execute_reply": "2025-02-12T11:13:17.333065Z"
    },
    "papermill": {
     "duration": 0.208705,
     "end_time": "2025-02-12T11:13:17.335861",
     "exception": false,
     "start_time": "2025-02-12T11:13:17.127156",
     "status": "completed"
    },
    "tags": []
   },
   "outputs": [
    {
     "name": "stdout",
     "output_type": "stream",
     "text": [
      "David Cameron has 1677960 terms\n",
      "Boris Johnson has 259544 terms\n"
     ]
    }
   ],
   "source": [
    "print(f\"David Cameron has {df_HoC_2000s_raw[df_HoC_2000s_raw['speaker'] == 'David Cameron']['terms'].sum()} terms\")\n",
    "print(f\"Boris Johnson has {df_HoC_2000s_raw[df_HoC_2000s_raw['speaker'] == 'Boris Johnson']['terms'].sum()} terms\")"
   ]
  },
  {
   "cell_type": "code",
   "execution_count": 7,
   "id": "d4d3ab13",
   "metadata": {
    "execution": {
     "iopub.execute_input": "2025-02-12T11:13:17.348825Z",
     "iopub.status.busy": "2025-02-12T11:13:17.348536Z",
     "iopub.status.idle": "2025-02-12T11:13:18.167135Z",
     "shell.execute_reply": "2025-02-12T11:13:18.166018Z"
    },
    "papermill": {
     "duration": 0.826844,
     "end_time": "2025-02-12T11:13:18.169108",
     "exception": false,
     "start_time": "2025-02-12T11:13:17.342264",
     "status": "completed"
    },
    "tags": []
   },
   "outputs": [],
   "source": [
    "df_HoC_2005 = df_HoC_2000s[df_HoC_2000s['date'].str.contains('2005')]\n",
    "df_HoC_2015 = df_HoC_2000s[df_HoC_2000s['date'].str.contains('2015')]"
   ]
  },
  {
   "cell_type": "markdown",
   "id": "0af7be4a",
   "metadata": {
    "papermill": {
     "duration": 0.006071,
     "end_time": "2025-02-12T11:13:18.181147",
     "exception": false,
     "start_time": "2025-02-12T11:13:18.175076",
     "status": "completed"
    },
    "tags": []
   },
   "source": [
    "# Load Tokenizer"
   ]
  },
  {
   "cell_type": "code",
   "execution_count": 8,
   "id": "b81772d8",
   "metadata": {
    "execution": {
     "iopub.execute_input": "2025-02-12T11:13:18.193418Z",
     "iopub.status.busy": "2025-02-12T11:13:18.193113Z",
     "iopub.status.idle": "2025-02-12T11:13:18.196766Z",
     "shell.execute_reply": "2025-02-12T11:13:18.196053Z"
    },
    "papermill": {
     "duration": 0.011053,
     "end_time": "2025-02-12T11:13:18.197917",
     "exception": false,
     "start_time": "2025-02-12T11:13:18.186864",
     "status": "completed"
    },
    "tags": []
   },
   "outputs": [],
   "source": [
    "BASE_MODEL_ID = \"meta-llama/Llama-3.2-3B-Instruct\""
   ]
  },
  {
   "cell_type": "code",
   "execution_count": 9,
   "id": "5afe2513",
   "metadata": {
    "execution": {
     "iopub.execute_input": "2025-02-12T11:13:18.210062Z",
     "iopub.status.busy": "2025-02-12T11:13:18.209815Z",
     "iopub.status.idle": "2025-02-12T11:13:19.876357Z",
     "shell.execute_reply": "2025-02-12T11:13:19.875410Z"
    },
    "papermill": {
     "duration": 1.674127,
     "end_time": "2025-02-12T11:13:19.877946",
     "exception": false,
     "start_time": "2025-02-12T11:13:18.203819",
     "status": "completed"
    },
    "tags": []
   },
   "outputs": [
    {
     "data": {
      "application/vnd.jupyter.widget-view+json": {
       "model_id": "50521c36f81743e3bcc6c4baed50f040",
       "version_major": 2,
       "version_minor": 0
      },
      "text/plain": [
       "tokenizer_config.json:   0%|          | 0.00/54.5k [00:00<?, ?B/s]"
      ]
     },
     "metadata": {},
     "output_type": "display_data"
    },
    {
     "data": {
      "application/vnd.jupyter.widget-view+json": {
       "model_id": "adc8fb579242466a806ac5454e3cddd8",
       "version_major": 2,
       "version_minor": 0
      },
      "text/plain": [
       "tokenizer.json:   0%|          | 0.00/9.09M [00:00<?, ?B/s]"
      ]
     },
     "metadata": {},
     "output_type": "display_data"
    },
    {
     "data": {
      "application/vnd.jupyter.widget-view+json": {
       "model_id": "b74c50f95d0e4504aa5f5fa596ac9166",
       "version_major": 2,
       "version_minor": 0
      },
      "text/plain": [
       "special_tokens_map.json:   0%|          | 0.00/296 [00:00<?, ?B/s]"
      ]
     },
     "metadata": {},
     "output_type": "display_data"
    },
    {
     "data": {
      "text/plain": [
       "131072"
      ]
     },
     "execution_count": 9,
     "metadata": {},
     "output_type": "execute_result"
    }
   ],
   "source": [
    "# Create the tokenizer to measure the length of the text\n",
    "tokenizer = AutoTokenizer.from_pretrained(BASE_MODEL_ID, \n",
    "                                          add_bos_token=False, \n",
    "                                          trust_remote_code=True, \n",
    "                                          use_fast=True, \n",
    "                                          force_download=False)\n",
    "\n",
    "tokenizer.add_special_tokens({'pad_token': '[PAD]'})\n",
    "tokenizer.model_max_length"
   ]
  },
  {
   "cell_type": "code",
   "execution_count": 10,
   "id": "f071aefc",
   "metadata": {
    "execution": {
     "iopub.execute_input": "2025-02-12T11:13:19.891782Z",
     "iopub.status.busy": "2025-02-12T11:13:19.891509Z",
     "iopub.status.idle": "2025-02-12T11:13:20.104357Z",
     "shell.execute_reply": "2025-02-12T11:13:20.103556Z"
    },
    "papermill": {
     "duration": 0.220953,
     "end_time": "2025-02-12T11:13:20.105748",
     "exception": false,
     "start_time": "2025-02-12T11:13:19.884795",
     "status": "completed"
    },
    "tags": []
   },
   "outputs": [
    {
     "data": {
      "text/plain": [
       "(0, 128256)"
      ]
     },
     "execution_count": 10,
     "metadata": {},
     "output_type": "execute_result"
    }
   ],
   "source": [
    "min(tokenizer.vocab.values()), max(tokenizer.vocab.values()) "
   ]
  },
  {
   "cell_type": "code",
   "execution_count": 11,
   "id": "6ad54f18",
   "metadata": {
    "execution": {
     "iopub.execute_input": "2025-02-12T11:13:20.118989Z",
     "iopub.status.busy": "2025-02-12T11:13:20.118692Z",
     "iopub.status.idle": "2025-02-12T11:13:20.157685Z",
     "shell.execute_reply": "2025-02-12T11:13:20.156582Z"
    },
    "papermill": {
     "duration": 0.047091,
     "end_time": "2025-02-12T11:13:20.159114",
     "exception": false,
     "start_time": "2025-02-12T11:13:20.112023",
     "status": "completed"
    },
    "tags": []
   },
   "outputs": [
    {
     "name": "stdout",
     "output_type": "stream",
     "text": [
      "{'bos_token': '<|begin_of_text|>', 'eos_token': '<|eot_id|>', 'pad_token': '[PAD]'}\n",
      "tensor([[128000,   9906,     11,   1268,    527,    499,   3432,     30]])\n"
     ]
    }
   ],
   "source": [
    "print(tokenizer.special_tokens_map)\n",
    "\n",
    "test_text = \"Hello, how are you today?\"\n",
    "tokens = tokenizer.encode(test_text, return_tensors=\"pt\")\n",
    "print(tokens)"
   ]
  },
  {
   "cell_type": "markdown",
   "id": "bc1a3518",
   "metadata": {
    "papermill": {
     "duration": 0.005981,
     "end_time": "2025-02-12T11:13:20.171400",
     "exception": false,
     "start_time": "2025-02-12T11:13:20.165419",
     "status": "completed"
    },
    "tags": []
   },
   "source": [
    "# Prepare Data for Training\n",
    "\n",
    "**References on Preprocessing Dataset for Fine-tuning**\n",
    "- https://pytorch.org/torchtune/0.2/tutorials/chat.html\n",
    "- https://medium.com/@alexandros_chariton/how-to-fine-tune-llama-3-2-instruct-on-your-own-data-a-detailed-guide-e5f522f397d7\n",
    "\n",
    "Yes, I would like to modify how many 'user' messages are included before and after each assistant response?"
   ]
  },
  {
   "cell_type": "code",
   "execution_count": 12,
   "id": "e0716c5f",
   "metadata": {
    "execution": {
     "iopub.execute_input": "2025-02-12T11:13:20.184247Z",
     "iopub.status.busy": "2025-02-12T11:13:20.184009Z",
     "iopub.status.idle": "2025-02-12T11:13:20.187558Z",
     "shell.execute_reply": "2025-02-12T11:13:20.186621Z"
    },
    "papermill": {
     "duration": 0.011465,
     "end_time": "2025-02-12T11:13:20.188912",
     "exception": false,
     "start_time": "2025-02-12T11:13:20.177447",
     "status": "completed"
    },
    "tags": []
   },
   "outputs": [],
   "source": [
    "# Constants\n",
    "TOKEN_LENGTH_LIMIT = 3800\n",
    "MIN_TOKEN_LENGTH = 512\n",
    "\n",
    "MAX_NO_ASSISTANT_THRESHOLD = 10       # Reset conversation if assistant is absent for too long\n",
    "CHAT_OWNER = \"David Cameron\""
   ]
  },
  {
   "cell_type": "code",
   "execution_count": 13,
   "id": "77f35b2c",
   "metadata": {
    "execution": {
     "iopub.execute_input": "2025-02-12T11:13:20.202087Z",
     "iopub.status.busy": "2025-02-12T11:13:20.201856Z",
     "iopub.status.idle": "2025-02-12T11:13:20.208953Z",
     "shell.execute_reply": "2025-02-12T11:13:20.208257Z"
    },
    "papermill": {
     "duration": 0.015364,
     "end_time": "2025-02-12T11:13:20.210201",
     "exception": false,
     "start_time": "2025-02-12T11:13:20.194837",
     "status": "completed"
    },
    "tags": []
   },
   "outputs": [],
   "source": [
    "def preprocess_convo_1(df, output_path):\n",
    "    SYSTEM_PROMPT = \"\"\"You are David Cameron, a politician in the UK's House of Commons.\n",
    "    You are responding to Observations.\n",
    "    Respond exactly as David Cameron would speak, \n",
    "    staying fully in character and address the observation directly.\"\"\"\n",
    "\n",
    "    SYSTEM_PROMPT_TOKEN_LEN = len(tokenizer.encode(SYSTEM_PROMPT))\n",
    "\n",
    "    df = df.assign(role=df[\"speaker\"].apply(lambda x: \"assistant\" if x == CHAT_OWNER else \"user\"))  # Assign roles\n",
    "    grouped = df.groupby([\"date\", \"agenda\"])\n",
    "\n",
    "    conversations = []\n",
    "\n",
    "    for (date, agenda), group in tqdm(grouped):\n",
    "        conversation = [{\"role\": \"system\", \"content\": SYSTEM_PROMPT}]\n",
    "        token_len = SYSTEM_PROMPT_TOKEN_LEN\n",
    "        has_assistant_message = False\n",
    "        user_message_count = 0  \n",
    "\n",
    "        for _, row in group.iterrows():\n",
    "            role, message = row[\"role\"], row[\"text\"]\n",
    "            chat_message = {\"role\": role, \"content\": message}\n",
    "            chat_message_len = len(tokenizer.encode(message))\n",
    "\n",
    "            # Check if adding this message exceeds the token limit\n",
    "            if token_len + chat_message_len > TOKEN_LENGTH_LIMIT or user_message_count >= MAX_NO_ASSISTANT_THRESHOLD:\n",
    "                if token_len >= MIN_TOKEN_LENGTH and has_assistant_message:\n",
    "                    conversations.append({\"conversation\": conversation})\n",
    "\n",
    "                # Restart conversation\n",
    "                conversation = [{\"role\": \"system\", \"content\": SYSTEM_PROMPT}]\n",
    "                token_len = SYSTEM_PROMPT_TOKEN_LEN\n",
    "                has_assistant_message = False\n",
    "                user_message_count = 0  \n",
    "\n",
    "            # Append message to conversation\n",
    "            conversation.append(chat_message)\n",
    "            token_len += chat_message_len\n",
    "\n",
    "            if role == \"assistant\":\n",
    "                has_assistant_message = True\n",
    "                user_message_count = 0  \n",
    "            else:\n",
    "                user_message_count += 1  \n",
    "\n",
    "        # Save the last conversation if it meets the minimum length and contains an assistant message\n",
    "        if token_len >= MIN_TOKEN_LENGTH and has_assistant_message:\n",
    "            conversations.append({\"conversation\": conversation})\n",
    "\n",
    "    # Write to JSONL file\n",
    "    with open(output_path, 'w') as f:\n",
    "        for convo in conversations:\n",
    "            f.write(json.dumps(convo) + '\\n')\n"
   ]
  },
  {
   "cell_type": "code",
   "execution_count": 14,
   "id": "a6e5737f",
   "metadata": {
    "execution": {
     "iopub.execute_input": "2025-02-12T11:13:20.222987Z",
     "iopub.status.busy": "2025-02-12T11:13:20.222748Z",
     "iopub.status.idle": "2025-02-12T11:32:04.443386Z",
     "shell.execute_reply": "2025-02-12T11:32:04.442210Z"
    },
    "papermill": {
     "duration": 1124.228795,
     "end_time": "2025-02-12T11:32:04.444767",
     "exception": false,
     "start_time": "2025-02-12T11:13:20.215972",
     "status": "completed"
    },
    "tags": []
   },
   "outputs": [
    {
     "name": "stderr",
     "output_type": "stream",
     "text": [
      " 99%|█████████▉| 50979/51318 [18:40<00:07, 45.48it/s]\n"
     ]
    }
   ],
   "source": [
    "output_path = '/kaggle/working/preprocessed_DavidCameron.jsonl'\n",
    "preprocess_convo_1(df_HoC_2000s, output_path)"
   ]
  },
  {
   "cell_type": "code",
   "execution_count": 15,
   "id": "cc392007",
   "metadata": {
    "execution": {
     "iopub.execute_input": "2025-02-12T11:32:05.117167Z",
     "iopub.status.busy": "2025-02-12T11:32:05.116815Z",
     "iopub.status.idle": "2025-02-12T11:32:20.540337Z",
     "shell.execute_reply": "2025-02-12T11:32:20.539301Z"
    },
    "papermill": {
     "duration": 15.766089,
     "end_time": "2025-02-12T11:32:20.541994",
     "exception": false,
     "start_time": "2025-02-12T11:32:04.775905",
     "status": "completed"
    },
    "tags": []
   },
   "outputs": [
    {
     "name": "stdout",
     "output_type": "stream",
     "text": [
      "Min tokens: 506, Max tokens: 4758, Avg tokens: 2875.7849854227406\n"
     ]
    }
   ],
   "source": [
    "# Check token lengths in dataset\n",
    "total_tokens = []\n",
    "with open(output_path, 'r') as f:\n",
    "    for line in f:\n",
    "        data = json.loads(line)\n",
    "        conversation = \" \".join([msg[\"content\"] for msg in data[\"conversation\"]])\n",
    "        token_count = len(tokenizer.encode(conversation))\n",
    "        total_tokens.append(token_count)\n",
    "\n",
    "print(f\"Min tokens: {min(total_tokens)}, Max tokens: {max(total_tokens)}, Avg tokens: {sum(total_tokens)/len(total_tokens)}\")"
   ]
  },
  {
   "cell_type": "code",
   "execution_count": 16,
   "id": "69875709",
   "metadata": {
    "execution": {
     "iopub.execute_input": "2025-02-12T11:32:21.257091Z",
     "iopub.status.busy": "2025-02-12T11:32:21.256738Z",
     "iopub.status.idle": "2025-02-12T11:32:21.262122Z",
     "shell.execute_reply": "2025-02-12T11:32:21.261118Z"
    },
    "papermill": {
     "duration": 0.336574,
     "end_time": "2025-02-12T11:32:21.263648",
     "exception": false,
     "start_time": "2025-02-12T11:32:20.927074",
     "status": "completed"
    },
    "tags": []
   },
   "outputs": [
    {
     "name": "stdout",
     "output_type": "stream",
     "text": [
      "Number of conversations exceeding 4096 tokens: 1\n"
     ]
    }
   ],
   "source": [
    "over_limit = [tokens for tokens in total_tokens if tokens > 4096]\n",
    "print(f\"Number of conversations exceeding 4096 tokens: {len(over_limit)}\")"
   ]
  },
  {
   "cell_type": "code",
   "execution_count": 17,
   "id": "ab95d602",
   "metadata": {
    "execution": {
     "iopub.execute_input": "2025-02-12T11:32:21.923309Z",
     "iopub.status.busy": "2025-02-12T11:32:21.922987Z",
     "iopub.status.idle": "2025-02-12T11:32:22.261583Z",
     "shell.execute_reply": "2025-02-12T11:32:22.260543Z"
    },
    "papermill": {
     "duration": 0.672774,
     "end_time": "2025-02-12T11:32:22.263232",
     "exception": false,
     "start_time": "2025-02-12T11:32:21.590458",
     "status": "completed"
    },
    "tags": []
   },
   "outputs": [
    {
     "data": {
      "image/png": "[encoded data removed]",
      "text/plain": [
       "<Figure size 1000x600 with 1 Axes>"
      ]
     },
     "metadata": {},
     "output_type": "display_data"
    }
   ],
   "source": [
    "# Plot the histogram of 'Token Lengths'\n",
    "plt.figure(figsize=(10, 6))\n",
    "plt.hist(total_tokens, bins=20, edgecolor='black', alpha=0.7)\n",
    "plt.xlabel(\"Token Count\")\n",
    "plt.ylabel(\"Frequency\")\n",
    "plt.title(\"Distribution of Token Counts in Preprocessed Conversations\")\n",
    "plt.grid(axis='y', linestyle='--', alpha=0.7)\n",
    "plt.show()\n"
   ]
  },
  {
   "cell_type": "code",
   "execution_count": 18,
   "id": "7ba8bf25",
   "metadata": {
    "collapsed": true,
    "execution": {
     "iopub.execute_input": "2025-02-12T11:32:22.969025Z",
     "iopub.status.busy": "2025-02-12T11:32:22.968703Z",
     "iopub.status.idle": "2025-02-12T11:32:23.046517Z",
     "shell.execute_reply": "2025-02-12T11:32:23.045596Z"
    },
    "jupyter": {
     "outputs_hidden": true
    },
    "papermill": {
     "duration": 0.407595,
     "end_time": "2025-02-12T11:32:23.047880",
     "exception": false,
     "start_time": "2025-02-12T11:32:22.640285",
     "status": "completed"
    },
    "tags": []
   },
   "outputs": [
    {
     "name": "stdout",
     "output_type": "stream",
     "text": [
      "Total dialog blocks: 1372\n"
     ]
    },
    {
     "data": {
      "text/plain": [
       "{'conversation': [{'role': 'system',\n",
       "   'content': \"You are David Cameron, a politician in the UK's House of Commons.\\n    You are responding to Observations.\\n    Respond exactly as David Cameron would speak, \\n    staying fully in character and address the observation directly.\"},\n",
       "  {'role': 'user',\n",
       "   'content': 'Does the Secretary of State recognise that, although it was understandable in the early days that responsibilities were confused, we are so many weeks into the crisis that it is inexcusable that trading standards departments and her Department seem to have different criteria for their disinfecting and movement licensing responsibilities? How can better co-ordination be ensured?'},\n",
       "  {'role': 'user',\n",
       "   'content': 'I was not aware that such disparities were continuing. I say to the hon. Gentleman and every Member that, on this or any other issue that arises in observing biosecurity and treating the outbreak, my Department will be only too pleased to hear concrete examples of difficulties that Members believe are continuing to arise. We shall pursue and attempt to deal with them.'},\n",
       "  {'role': 'user',\n",
       "   'content': \"On movements, can the Secretary of State clear up a problem? Some time ago, she announced that movements from controlled to non-controlled areas would be relaxed, which meant that animals could be taken to more distant abattoirs. One problem with that is that her officials require that the vehicles involved should not stop on the journey. Drivers' hours regulations mean that they have to stop after four and a half hours, so, effectively, the relaxation is helping no farmers in the north-east of England.\"},\n",
       "  {'role': 'user',\n",
       "   'content': \"I am slightly surprised to hear that because that is a substantial amount of time. Again, if the hon. Gentleman will be kind enough to give my Department details of particular cases that have come to his attention, we shall certainly consider the issue that he raises. We shall seek the continued assistance and support of the National Farmers Union and other such groups to improve co-operation between the Department and farmers locally in carrying out culling on contiguous premises as quickly as possible. We are keen to continue to provide farmers with as much information as we can on what they need to do to have the best chance of continuing to avoid the disease and, in the unfortunate event of stock having to be destroyed, how they can help to protect their neighbours by working with the Department's staff at all times. Looking further ahead, I am also examining ways to improve the incentives for farmers and others to maintain good biosecurity standards. The system that applies in the Netherlands, where levels of slaughter compensation are conditional on farm hygiene standards and other criteria, could not be introduced here immediately because it would require changes to the Animal Health Act 1981. However, it is an interesting idea that I want to consider and discuss with the farming industry and others as a possibility. In the same context, I want to examine the arrangements for cleansing and disinfecting infected premises. We need to find ways to ensure that farmers and all who come on and off farms have an incentive to maintain high biosecurity standards. It is not entirely clear that the present system, whereby the taxpayer automatically picks up the entire cost of the cleansing and disinfection operation, is the best way to achieve that. I would like to discuss that with farming industry leaders.\"},\n",
       "  {'role': 'user',\n",
       "   'content': \"Will the Secretary of State undertake to look into the case of my constituent, Mr. Lewis, who was told by her Department that he could move his cattle and apply for a licence? He was then told by the local vet that the Department was wrong and then told by a trading standards officer that the Department was right. Now the Department has admitted that it was wrong. Is it not vital that the Department gets the information right when it is dealing with people's livelihoods in a desperate crisis?\"},\n",
       "  {'role': 'user',\n",
       "   'content': 'Yes, the hon. Gentleman is right. It is important that people try to give correct information and I fully appreciate that nothing spreads more difficulty and confusion than people getting a conflicting story. Again, concrete examples brought to the attention of my Department will help to ensure that that happens as rarely as possible.'},\n",
       "  {'role': 'user',\n",
       "   'content': 'If the hon. Gentlemen will forgive me, I must give way briefly as I am mindful of time and this is a short debate. I give way first to the hon. Member for Witney (Mr. Cameron).'},\n",
       "  {'role': 'assistant',\n",
       "   'content': \"Will the right hon. Lady and her Department give careful consideration to the implications of foot and mouth for zoos and wildlife parks, such as the Cotswold wildlife park in my constituency? The park was badly affected by foot and mouth and had to close. It was not told exactly what to do when the disease broke out. It wanted a decision about vaccination, but no decision was made. It had a meeting with Ministers-the Under-Secretary of State for the Home Department, the hon. Member for Coventry, North-East (Mr. Ainsworth) has now departed-but nothing seems to have been done. I know that these issues are small in comparison with the farming industry as a whole, but they matter to wildlife parks and zoos. Should they not be considered, not only by the right hon. Lady's Department but in the full independent public inquiry that the Government ought to establish?\"},\n",
       "  {'role': 'user',\n",
       "   'content': 'Order. I think that, for the sake of good order, the Secretary of State should deal with the first intervention now, and perhaps respond to the hon. Gentleman later.'},\n",
       "  {'role': 'user',\n",
       "   'content': 'I shall do so if that is your preference, Mr. Deputy Speaker. I know that it is sometimes convenient for a couple of interventions to be dealt with together. I have taken on board the point made by the hon. Member for Witney (Mr. Cameron). If we can add anything to what has already been said, my right hon. Friend the Minister for Rural Affairs will deal with it-but this is exactly the kind of issue that we need to look at in the future, irrespective of the form taken by examination of these events.'},\n",
       "  {'role': 'user',\n",
       "   'content': \"May I ask the right hon. Lady to ensure that there will be no further confusion between officials from the Department and officials from the devolved Administration in Cardiff? It has been the devil of a job to obtain correct information, and the problems have been exacerbated by the Department's saying that this is a devolved matter while those in Cardiff have said that it is a matter for the Department. The right hon. Lady's predecessor could not answer a number of the questions either. I am not sniping; I am genuinely asking the right hon. Lady whether the lines of demarcation can be made clear, so that the problems are not exacerbated further.\"},\n",
       "  {'role': 'user',\n",
       "   'content': 'I assure the hon. Gentleman that our aim is always to maintain clear demarcation lines, clear understanding and clear agreement between us and the devolved bodies. As he knows, my right hon. Friend the Minister is an expert in these matters. He will certainly encourage productive liaison and relationships. The farming industry and other sections of the rural economy are likely to face further severe difficulties in the autumn, when traditionally there are a large number of livestock movements. However successful we are in bringing the tail of the outbreak to a halt in July or August, there will still be a need for substantial controls over movement of livestock in the autumn and winter to ensure that we keep a grip on the disease, given that undisclosed disease could still be present in the national sheep flock at that time. The more speedily we eradicate the disease, the sooner we can consider greater flexibility of movement. The Government are working hard with industry representatives to plan for the autumn, to establish what movements could take place without an unacceptable increase in disease risk. I hope to be able to say more later this month. At the same time, we are assessing the implications of the likely restrictions in autumn livestock movements for support arrangements in the livestock sector and have had preliminary discussions, which are continuing, with farming leaders. We shall be using the increased capacity available for serological testing of sheep to continue to the staged clearance of infected areas, alongside a planned approach to testing in disease hot spots. That is designed to help us obtain a better picture of the level of disease in sheep in particular ahead of the autumn livestock movements, and also to make it easier for us to demonstrate to our European Union partners, in due course, that we have a basis for the phased resumption of exports. Let me say in parentheses that although much is said in the House about how the Government have not done enough or not done it fast enough by those who wish solely to impute blame to the Government, enormous credit is due to all involved in the hugely increased capacity for serological testing, given its scope for tackling the disease. I speak from memory, but I believe that when the disease broke out we had the capacity to run about 400 tests a week. We have now reached the 100,000 mark or thereabouts, and are heading for a target of between 140,000 and 180,000 by the autumn, probably by October. As I have said, enormous credit is due for that, but it has not always been forthcoming.'},\n",
       "  {'role': 'user', 'content': 'Will my right hon. Friend give way?'},\n",
       "  {'role': 'user', 'content': 'Yes, for the very last time.'},\n",
       "  {'role': 'user',\n",
       "   'content': 'My right hon. Friend has just looked forward to the autumn. Will she look forward a little further? Given the crisis in agriculture that has been happening over a number of years, and the hunger for change that this particular crisis has caused stakeholders in the countryside, can she say a word about the independent commission on food and farming that is currently envisaged?'},\n",
       "  {'role': 'user',\n",
       "   'content': 'I can say a word, but it will not be much more than that. I can certainly confirm that the Government have every intention of setting up such a commission and are in continuing discussions about it. I agree that there is a hunger for a more sustained and thorough look at the long-term prospects for the countryside and the agriculture industry, and I assure my hon. Friend that we are more than anxious to foster the debate that is taking place. We are working closely with our European partners, especially the Commission. Jim Scudamore, the chief veterinary officer, and David Hunter, director of the departmental agriculture group, will be in Brussels tomorrow to update the Commission on what we are doing to eradicate the disease, and to discuss the difficulties that we shall face in the autumn.'},\n",
       "  {'role': 'user', 'content': 'Will the right hon. Lady give way?'},\n",
       "  {'role': 'user',\n",
       "   'content': 'I hope the hon. Gentleman will forgive me if I do not. I really ought to finish as this is a very short debate. We have always said that there will be an inquiry when the outbreak is over and that it will be thorough but not long drawn out. We all want to get at the facts and to identify what could have been done better, but also to identify what was handled extremely well-although the exact nature and form of the inquiry remain, as ever, a matter for the Prime Minister Without prejudice to the issue of an inquiry, we have also always said that there are lessons to be learned from the epidemic, including on disease control policy for future outbreaks. We need to consider the case for better animal identification, especially for sheep, improved movement records, the possibility of controls on the movement of cattle and sheep, as there are already for pigs, and stronger controls on the import of meat. My Department is already co-ordinating a cross-Whitehall initiative to improve activity in this regard. In the longer term we need to look at better biosecurity by markets, dealers and farmers. The Commission has announced a review that will cover some, if not all, of these issues and we are helping to organise a conference in Brussels in the autumn to provide a forum for discussing future foot and mouth disease policy options, including vaccination. I acknowledge the real problems in rural areas, from the immediate consequences and aftermath of the disease to the long-standing deterioration in rural services over which the Conservative party presided with so much complacency for so long. We are not complacent. We are determined to work with all who have real concern for rural areas to deliver real, long-term improvement. It is on that, not on the empty rhetoric of Opposition Members, that in time we shall be prepared to be judged.'}]}"
      ]
     },
     "execution_count": 18,
     "metadata": {},
     "output_type": "execute_result"
    }
   ],
   "source": [
    "# Inspect a Few Samples\n",
    "dialog_blocks = []\n",
    "with open(output_path, 'r') as f:\n",
    "    for line in f:\n",
    "        dialog_blocks.append(json.loads(line))  # Parse each line as a JSON object\n",
    "\n",
    "# Display the number of dialog blocks\n",
    "print(f\"Total dialog blocks: {len(dialog_blocks)}\")\n",
    "dialog_blocks[2]"
   ]
  },
  {
   "cell_type": "markdown",
   "id": "150a7d28",
   "metadata": {
    "papermill": {
     "duration": 0.330114,
     "end_time": "2025-02-12T11:32:23.706488",
     "exception": false,
     "start_time": "2025-02-12T11:32:23.376374",
     "status": "completed"
    },
    "tags": []
   },
   "source": [
    "# Prepare & Tokenize"
   ]
  },
  {
   "cell_type": "code",
   "execution_count": 19,
   "id": "4ffcb218",
   "metadata": {
    "execution": {
     "iopub.execute_input": "2025-02-12T11:32:24.461147Z",
     "iopub.status.busy": "2025-02-12T11:32:24.460828Z",
     "iopub.status.idle": "2025-02-12T11:32:33.617367Z",
     "shell.execute_reply": "2025-02-12T11:32:33.616449Z"
    },
    "papermill": {
     "duration": 9.533182,
     "end_time": "2025-02-12T11:32:33.618839",
     "exception": false,
     "start_time": "2025-02-12T11:32:24.085657",
     "status": "completed"
    },
    "tags": []
   },
   "outputs": [
    {
     "data": {
      "application/vnd.jupyter.widget-view+json": {
       "model_id": "c6f571405ccd4092b45eacada9024223",
       "version_major": 2,
       "version_minor": 0
      },
      "text/plain": [
       "Map:   0%|          | 0/1372 [00:00<?, ? examples/s]"
      ]
     },
     "metadata": {},
     "output_type": "display_data"
    },
    {
     "data": {
      "application/vnd.jupyter.widget-view+json": {
       "model_id": "e8925f55edcf4ed8a1ea0ea721b2803d",
       "version_major": 2,
       "version_minor": 0
      },
      "text/plain": [
       "Saving the dataset (0/1 shards):   0%|          | 0/1372 [00:00<?, ? examples/s]"
      ]
     },
     "metadata": {},
     "output_type": "display_data"
    }
   ],
   "source": [
    "today_date = datetime.datetime.now().strftime(\"%d %b %Y\")\n",
    "\n",
    "# Load the preprocessed JSONL dataset\n",
    "with open(output_path, \"r\") as f:\n",
    "    raw_data = [json.loads(line) for line in f]\n",
    "\n",
    "# Convert into a dataset format that follows the guide\n",
    "formatted_data = []\n",
    "\n",
    "for convo in raw_data:\n",
    "    messages = []\n",
    "    \n",
    "    for turn in convo[\"conversation\"]:\n",
    "        if turn[\"role\"] == \"system\":\n",
    "            messages.append({\"role\": \"system\", \"content\": turn[\"content\"]})\n",
    "        elif turn[\"role\"] == \"user\":\n",
    "            messages.append({\"role\": \"user\", \"content\": turn[\"content\"]})\n",
    "        elif turn[\"role\"] == \"assistant\":\n",
    "            messages.append({\"role\": \"assistant\", \"content\": turn[\"content\"]})\n",
    "    \n",
    "    # Apply chat template\n",
    "    prompt = tokenizer.apply_chat_template(messages, tokenize=False, add_generation_prompt=True)\n",
    "    prompt = prompt.replace(f\"Cutting Knowledge Date: December 2023\\nToday Date: {today_date}\\n\\n\",\"\")\n",
    "    \n",
    "    formatted_data.append({\"prompt\": prompt})\n",
    "\n",
    "# Convert to Hugging Face Dataset\n",
    "dataset = Dataset.from_list(formatted_data)\n",
    "\n",
    "def tokenize_function(example):\n",
    "    tokens = tokenizer(example['prompt'], \n",
    "                       add_special_tokens=False,\n",
    "                       padding=\"longest\", \n",
    "                       truncation=True, \n",
    "                       max_length=4096)\n",
    "    \n",
    "    tokens['labels'] = [-100 if token == tokenizer.pad_token_id else token for token in tokens['input_ids']    ]\n",
    "\n",
    "    return tokens\n",
    "\n",
    "# Apply tokenization\n",
    "tokenized_dataset = dataset.map(tokenize_function, batched=True)\n",
    "tokenized_dataset.save_to_disk(\"/kaggle/working/tokenized_dataset_DavidCameron\")"
   ]
  },
  {
   "cell_type": "code",
   "execution_count": 20,
   "id": "79891a52",
   "metadata": {
    "execution": {
     "iopub.execute_input": "2025-02-12T11:32:34.315098Z",
     "iopub.status.busy": "2025-02-12T11:32:34.314787Z",
     "iopub.status.idle": "2025-02-12T11:32:34.319929Z",
     "shell.execute_reply": "2025-02-12T11:32:34.318994Z"
    },
    "papermill": {
     "duration": 0.33658,
     "end_time": "2025-02-12T11:32:34.321491",
     "exception": false,
     "start_time": "2025-02-12T11:32:33.984911",
     "status": "completed"
    },
    "tags": []
   },
   "outputs": [
    {
     "data": {
      "text/plain": [
       "Dataset({\n",
       "    features: ['prompt', 'input_ids', 'attention_mask', 'labels'],\n",
       "    num_rows: 1372\n",
       "})"
      ]
     },
     "execution_count": 20,
     "metadata": {},
     "output_type": "execute_result"
    }
   ],
   "source": [
    "tokenized_dataset"
   ]
  },
  {
   "cell_type": "code",
   "execution_count": 21,
   "id": "305ff91b",
   "metadata": {
    "execution": {
     "iopub.execute_input": "2025-02-12T11:32:35.026209Z",
     "iopub.status.busy": "2025-02-12T11:32:35.025894Z",
     "iopub.status.idle": "2025-02-12T11:32:35.029169Z",
     "shell.execute_reply": "2025-02-12T11:32:35.028408Z"
    },
    "papermill": {
     "duration": 0.33591,
     "end_time": "2025-02-12T11:32:35.030541",
     "exception": false,
     "start_time": "2025-02-12T11:32:34.694631",
     "status": "completed"
    },
    "tags": []
   },
   "outputs": [],
   "source": [
    "#decoded_text = tokenizer.decode(tokenized_dataset[2][\"input_ids\"])\n",
    "#decoded_text"
   ]
  },
  {
   "cell_type": "markdown",
   "id": "fad74e64",
   "metadata": {
    "papermill": {
     "duration": 0.328758,
     "end_time": "2025-02-12T11:32:35.693959",
     "exception": false,
     "start_time": "2025-02-12T11:32:35.365201",
     "status": "completed"
    },
    "tags": []
   },
   "source": [
    "# Visualization & Insights\n",
    "\n"
   ]
  },
  {
   "cell_type": "code",
   "execution_count": 22,
   "id": "75903636",
   "metadata": {
    "execution": {
     "iopub.execute_input": "2025-02-12T11:32:36.404597Z",
     "iopub.status.busy": "2025-02-12T11:32:36.404256Z",
     "iopub.status.idle": "2025-02-12T11:32:44.079835Z",
     "shell.execute_reply": "2025-02-12T11:32:44.078799Z"
    },
    "papermill": {
     "duration": 8.010021,
     "end_time": "2025-02-12T11:32:44.081304",
     "exception": false,
     "start_time": "2025-02-12T11:32:36.071283",
     "status": "completed"
    },
    "tags": []
   },
   "outputs": [
    {
     "data": {
      "image/png": "[encoded data removed]",
      "text/plain": [
       "<Figure size 800x500 with 1 Axes>"
      ]
     },
     "metadata": {},
     "output_type": "display_data"
    }
   ],
   "source": [
    "# Extract token lengths\n",
    "token_lengths = [len(sample[\"input_ids\"]) for sample in tokenized_dataset]\n",
    "\n",
    "# Plot histogram\n",
    "plt.figure(figsize=(8, 5))\n",
    "plt.hist(token_lengths, bins=50, color=\"blue\", edgecolor=\"black\", alpha=0.7)\n",
    "plt.xlabel(\"Token Length\")\n",
    "plt.ylabel(\"Frequency\")\n",
    "plt.title(\"Distribution of Tokenized Sequence Lengths\")\n",
    "plt.axvline(x=4096, color=\"red\", linestyle=\"dashed\", label=\"Max Length (4096)\")\n",
    "plt.legend()\n",
    "plt.show()"
   ]
  },
  {
   "cell_type": "code",
   "execution_count": 23,
   "id": "563fae86",
   "metadata": {
    "execution": {
     "iopub.execute_input": "2025-02-12T11:32:44.751282Z",
     "iopub.status.busy": "2025-02-12T11:32:44.750940Z",
     "iopub.status.idle": "2025-02-12T11:32:52.260271Z",
     "shell.execute_reply": "2025-02-12T11:32:52.259287Z"
    },
    "papermill": {
     "duration": 7.842012,
     "end_time": "2025-02-12T11:32:52.261789",
     "exception": false,
     "start_time": "2025-02-12T11:32:44.419777",
     "status": "completed"
    },
    "tags": []
   },
   "outputs": [
    {
     "data": {
      "image/png": "[encoded data removed]",
      "text/plain": [
       "<Figure size 800x500 with 1 Axes>"
      ]
     },
     "metadata": {},
     "output_type": "display_data"
    }
   ],
   "source": [
    "# Calculate padding ratios\n",
    "padding_ratios = [(sample[\"input_ids\"].count(tokenizer.pad_token_id) / len(sample[\"input_ids\"])) \n",
    "                  for sample in tokenized_dataset]\n",
    "\n",
    "# Plot distribution of padding percentages\n",
    "plt.figure(figsize=(8, 5))\n",
    "plt.hist(padding_ratios, bins=30, color=\"orange\", edgecolor=\"black\", alpha=0.7)\n",
    "plt.xlabel(\"Padding Ratio\")\n",
    "plt.ylabel(\"Frequency\")\n",
    "plt.title(\"Padding Proportion in Tokenized Samples\")\n",
    "plt.show()"
   ]
  },
  {
   "cell_type": "code",
   "execution_count": 24,
   "id": "23fed799",
   "metadata": {
    "execution": {
     "iopub.execute_input": "2025-02-12T11:32:52.976481Z",
     "iopub.status.busy": "2025-02-12T11:32:52.976114Z",
     "iopub.status.idle": "2025-02-12T11:33:56.192191Z",
     "shell.execute_reply": "2025-02-12T11:33:56.191109Z"
    },
    "papermill": {
     "duration": 63.934578,
     "end_time": "2025-02-12T11:33:56.534747",
     "exception": false,
     "start_time": "2025-02-12T11:32:52.600169",
     "status": "completed"
    },
    "tags": []
   },
   "outputs": [
    {
     "data": {
      "image/png": "[encoded data removed]",
      "text/plain": [
       "<Figure size 800x500 with 1 Axes>"
      ]
     },
     "metadata": {},
     "output_type": "display_data"
    }
   ],
   "source": [
    "user_tokens = []\n",
    "assistant_tokens = []\n",
    "\n",
    "for sample in tokenized_dataset:\n",
    "    decoded_text = tokenizer.decode(sample[\"input_ids\"])\n",
    "    user_tokens.append(decoded_text.count(\"<|start_header_id|>user\"))\n",
    "    assistant_tokens.append(decoded_text.count(\"<|start_header_id|>assistant\"))\n",
    "\n",
    "plt.figure(figsize=(8, 5))\n",
    "plt.hist(user_tokens, bins=30, color=\"blue\", alpha=0.5, label=\"User Tokens\")\n",
    "plt.hist(assistant_tokens, bins=30, color=\"green\", alpha=0.5, label=\"Assistant Tokens\")\n",
    "plt.xlabel(\"Tokens Per Sample\")\n",
    "plt.ylabel(\"Frequency\")\n",
    "plt.title(\"Distribution of User vs. Assistant Tokens\")\n",
    "plt.legend()\n",
    "plt.show()"
   ]
  }
 ],
 "metadata": {
  "kaggle": {
   "accelerator": "nvidiaTeslaT4",
   "dataSources": [
    {
     "datasetId": 6361952,
     "sourceId": 10280888,
     "sourceType": "datasetVersion"
    }
   ],
   "isGpuEnabled": true,
   "isInternetEnabled": true,
   "language": "python",
   "sourceType": "notebook"
  },
  "kernelspec": {
   "display_name": "Python 3",
   "language": "python",
   "name": "python3"
  },
  "language_info": {
   "codemirror_mode": {
    "name": "ipython",
    "version": 3
   },
   "file_extension": ".py",
   "mimetype": "text/x-python",
   "name": "python",
   "nbconvert_exporter": "python",
   "pygments_lexer": "ipython3",
   "version": "3.10.12"
  },
  "papermill": {
   "default_parameters": {},
   "duration": 1292.525877,
   "end_time": "2025-02-12T11:34:00.147425",
   "environment_variables": {},
   "exception": null,
   "input_path": "__notebook__.ipynb",
   "output_path": "__notebook__.ipynb",
   "parameters": {},
   "start_time": "2025-02-12T11:12:27.621548",
   "version": "2.6.0"
  },
  "widgets": {
   "application/vnd.jupyter.widget-state+json": {
    "state": {
     "085a7fd1cc5e4fbdaf55f46fd23536e7": {
      "model_module": "@jupyter-widgets/base",
      "model_module_version": "2.0.0",
      "model_name": "LayoutModel",
      "state": {
       "_model_module": "@jupyter-widgets/base",
       "_model_module_version": "2.0.0",
       "_model_name": "LayoutModel",
       "_view_count": null,
       "_view_module": "@jupyter-widgets/base",
       "_view_module_version": "2.0.0",
       "_view_name": "LayoutView",
       "align_content": null,
       "align_items": null,
       "align_self": null,
       "border_bottom": null,
       "border_left": null,
       "border_right": null,
       "border_top": null,
       "bottom": null,
       "display": null,
       "flex": null,
       "flex_flow": null,
       "grid_area": null,
       "grid_auto_columns": null,
       "grid_auto_flow": null,
       "grid_auto_rows": null,
       "grid_column": null,
       "grid_gap": null,
       "grid_row": null,
       "grid_template_areas": null,
       "grid_template_columns": null,
       "grid_template_rows": null,
       "height": null,
       "justify_content": null,
       "justify_items": null,
       "left": null,
       "margin": null,
       "max_height": null,
       "max_width": null,
       "min_height": null,
       "min_width": null,
       "object_fit": null,
       "object_position": null,
       "order": null,
       "overflow": null,
       "padding": null,
       "right": null,
       "top": null,
       "visibility": null,
       "width": null
      }
     },
     "0ef6a55e672b4ea299e715081de86165": {
      "model_module": "@jupyter-widgets/controls",
      "model_module_version": "2.0.0",
      "model_name": "HTMLModel",
      "state": {
       "_dom_classes": [],
       "_model_module": "@jupyter-widgets/controls",
       "_model_module_version": "2.0.0",
       "_model_name": "HTMLModel",
       "_view_count": null,
       "_view_module": "@jupyter-widgets/controls",
       "_view_module_version": "2.0.0",
       "_view_name": "HTMLView",
       "description": "",
       "description_allow_html": false,
       "layout": "IPY_MODEL_971a8e9009034ae9a18264714e46f660",
       "placeholder": "​",
       "style": "IPY_MODEL_ece8aaf931184843833bcfaf4d1e475d",
       "tabbable": null,
       "tooltip": null,
       "value": " 9.09M/9.09M [00:00&lt;00:00, 39.6MB/s]"
      }
     },
     "0f7b27f227a749aaaf7d1500c290c377": {
      "model_module": "@jupyter-widgets/controls",
      "model_module_version": "2.0.0",
      "model_name": "FloatProgressModel",
      "state": {
       "_dom_classes": [],
       "_model_module": "@jupyter-widgets/controls",
       "_model_module_version": "2.0.0",
       "_model_name": "FloatProgressModel",
       "_view_count": null,
       "_view_module": "@jupyter-widgets/controls",
       "_view_module_version": "2.0.0",
       "_view_name": "ProgressView",
       "bar_style": "success",
       "description": "",
       "description_allow_html": false,
       "layout": "IPY_MODEL_25ae93e623a045a2b46150ba6cac2b2d",
       "max": 9085657.0,
       "min": 0.0,
       "orientation": "horizontal",
       "style": "IPY_MODEL_a5d8f31488ef4e6aa51100db7ab04286",
       "tabbable": null,
       "tooltip": null,
       "value": 9085657.0
      }
     },
     "121d92ed5d34496d9263ae05ab666b7e": {
      "model_module": "@jupyter-widgets/controls",
      "model_module_version": "2.0.0",
      "model_name": "HTMLModel",
      "state": {
       "_dom_classes": [],
       "_model_module": "@jupyter-widgets/controls",
       "_model_module_version": "2.0.0",
       "_model_name": "HTMLModel",
       "_view_count": null,
       "_view_module": "@jupyter-widgets/controls",
       "_view_module_version": "2.0.0",
       "_view_name": "HTMLView",
       "description": "",
       "description_allow_html": false,
       "layout": "IPY_MODEL_5bcc9c4d456047dc8ab10967c2258f8a",
       "placeholder": "​",
       "style": "IPY_MODEL_dd328e6793a84a6e864780a1035e2fa0",
       "tabbable": null,
       "tooltip": null,
       "value": "tokenizer.json: 100%"
      }
     },
     "1e339b8e241648f2bb225139552f1ea1": {
      "model_module": "@jupyter-widgets/controls",
      "model_module_version": "2.0.0",
      "model_name": "HTMLModel",
      "state": {
       "_dom_classes": [],
       "_model_module": "@jupyter-widgets/controls",
       "_model_module_version": "2.0.0",
       "_model_name": "HTMLModel",
       "_view_count": null,
       "_view_module": "@jupyter-widgets/controls",
       "_view_module_version": "2.0.0",
       "_view_name": "HTMLView",
       "description": "",
       "description_allow_html": false,
       "layout": "IPY_MODEL_c843938cea884d488e896b233e564990",
       "placeholder": "​",
       "style": "IPY_MODEL_568f1a14d7e64b2b94b31ba88e92c07f",
       "tabbable": null,
       "tooltip": null,
       "value": "special_tokens_map.json: 100%"
      }
     },
     "25ae93e623a045a2b46150ba6cac2b2d": {
      "model_module": "@jupyter-widgets/base",
      "model_module_version": "2.0.0",
      "model_name": "LayoutModel",
      "state": {
       "_model_module": "@jupyter-widgets/base",
       "_model_module_version": "2.0.0",
       "_model_name": "LayoutModel",
       "_view_count": null,
       "_view_module": "@jupyter-widgets/base",
       "_view_module_version": "2.0.0",
       "_view_name": "LayoutView",
       "align_content": null,
       "align_items": null,
       "align_self": null,
       "border_bottom": null,
       "border_left": null,
       "border_right": null,
       "border_top": null,
       "bottom": null,
       "display": null,
       "flex": null,
       "flex_flow": null,
       "grid_area": null,
       "grid_auto_columns": null,
       "grid_auto_flow": null,
       "grid_auto_rows": null,
       "grid_column": null,
       "grid_gap": null,
       "grid_row": null,
       "grid_template_areas": null,
       "grid_template_columns": null,
       "grid_template_rows": null,
       "height": null,
       "justify_content": null,
       "justify_items": null,
       "left": null,
       "margin": null,
       "max_height": null,
       "max_width": null,
       "min_height": null,
       "min_width": null,
       "object_fit": null,
       "object_position": null,
       "order": null,
       "overflow": null,
       "padding": null,
       "right": null,
       "top": null,
       "visibility": null,
       "width": null
      }
     },
     "274ace4e4c1e4836ba2e24e44ef53a67": {
      "model_module": "@jupyter-widgets/base",
      "model_module_version": "2.0.0",
      "model_name": "LayoutModel",
      "state": {
       "_model_module": "@jupyter-widgets/base",
       "_model_module_version": "2.0.0",
       "_model_name": "LayoutModel",
       "_view_count": null,
       "_view_module": "@jupyter-widgets/base",
       "_view_module_version": "2.0.0",
       "_view_name": "LayoutView",
       "align_content": null,
       "align_items": null,
       "align_self": null,
       "border_bottom": null,
       "border_left": null,
       "border_right": null,
       "border_top": null,
       "bottom": null,
       "display": null,
       "flex": null,
       "flex_flow": null,
       "grid_area": null,
       "grid_auto_columns": null,
       "grid_auto_flow": null,
       "grid_auto_rows": null,
       "grid_column": null,
       "grid_gap": null,
       "grid_row": null,
       "grid_template_areas": null,
       "grid_template_columns": null,
       "grid_template_rows": null,
       "height": null,
       "justify_content": null,
       "justify_items": null,
       "left": null,
       "margin": null,
       "max_height": null,
       "max_width": null,
       "min_height": null,
       "min_width": null,
       "object_fit": null,
       "object_position": null,
       "order": null,
       "overflow": null,
       "padding": null,
       "right": null,
       "top": null,
       "visibility": null,
       "width": null
      }
     },
     "37b663258e4e4313879d9c5cb6a010e8": {
      "model_module": "@jupyter-widgets/controls",
      "model_module_version": "2.0.0",
      "model_name": "HTMLStyleModel",
      "state": {
       "_model_module": "@jupyter-widgets/controls",
       "_model_module_version": "2.0.0",
       "_model_name": "HTMLStyleModel",
       "_view_count": null,
       "_view_module": "@jupyter-widgets/base",
       "_view_module_version": "2.0.0",
       "_view_name": "StyleView",
       "background": null,
       "description_width": "",
       "font_size": null,
       "text_color": null
      }
     },
     "3dcc1b27f5734019b489fcaf3acc1906": {
      "model_module": "@jupyter-widgets/controls",
      "model_module_version": "2.0.0",
      "model_name": "ProgressStyleModel",
      "state": {
       "_model_module": "@jupyter-widgets/controls",
       "_model_module_version": "2.0.0",
       "_model_name": "ProgressStyleModel",
       "_view_count": null,
       "_view_module": "@jupyter-widgets/base",
       "_view_module_version": "2.0.0",
       "_view_name": "StyleView",
       "bar_color": null,
       "description_width": ""
      }
     },
     "420ef14c3a20472799c3ff4dd8b0ad28": {
      "model_module": "@jupyter-widgets/controls",
      "model_module_version": "2.0.0",
      "model_name": "FloatProgressModel",
      "state": {
       "_dom_classes": [],
       "_model_module": "@jupyter-widgets/controls",
       "_model_module_version": "2.0.0",
       "_model_name": "FloatProgressModel",
       "_view_count": null,
       "_view_module": "@jupyter-widgets/controls",
       "_view_module_version": "2.0.0",
       "_view_name": "ProgressView",
       "bar_style": "success",
       "description": "",
       "description_allow_html": false,
       "layout": "IPY_MODEL_274ace4e4c1e4836ba2e24e44ef53a67",
       "max": 1372.0,
       "min": 0.0,
       "orientation": "horizontal",
       "style": "IPY_MODEL_c8be49aa656f4c63ba7723990cfd733f",
       "tabbable": null,
       "tooltip": null,
       "value": 1372.0
      }
     },
     "422163a5f537408e84395dbd3c058eba": {
      "model_module": "@jupyter-widgets/controls",
      "model_module_version": "2.0.0",
      "model_name": "ProgressStyleModel",
      "state": {
       "_model_module": "@jupyter-widgets/controls",
       "_model_module_version": "2.0.0",
       "_model_name": "ProgressStyleModel",
       "_view_count": null,
       "_view_module": "@jupyter-widgets/base",
       "_view_module_version": "2.0.0",
       "_view_name": "StyleView",
       "bar_color": null,
       "description_width": ""
      }
     },
     "50521c36f81743e3bcc6c4baed50f040": {
      "model_module": "@jupyter-widgets/controls",
      "model_module_version": "2.0.0",
      "model_name": "HBoxModel",
      "state": {
       "_dom_classes": [],
       "_model_module": "@jupyter-widgets/controls",
       "_model_module_version": "2.0.0",
       "_model_name": "HBoxModel",
       "_view_count": null,
       "_view_module": "@jupyter-widgets/controls",
       "_view_module_version": "2.0.0",
       "_view_name": "HBoxView",
       "box_style": "",
       "children": [
        "IPY_MODEL_836462ba457541b0866d513afef40ca0",
        "IPY_MODEL_b5d7899ab13a46edaa96cefe0eeaea50",
        "IPY_MODEL_bc61db2507564816b228a385062dba2b"
       ],
       "layout": "IPY_MODEL_f5b4cd04e5924f538e0f585706ed5708",
       "tabbable": null,
       "tooltip": null
      }
     },
     "51deb25681544912811115f266921f3d": {
      "model_module": "@jupyter-widgets/controls",
      "model_module_version": "2.0.0",
      "model_name": "HTMLStyleModel",
      "state": {
       "_model_module": "@jupyter-widgets/controls",
       "_model_module_version": "2.0.0",
       "_model_name": "HTMLStyleModel",
       "_view_count": null,
       "_view_module": "@jupyter-widgets/base",
       "_view_module_version": "2.0.0",
       "_view_name": "StyleView",
       "background": null,
       "description_width": "",
       "font_size": null,
       "text_color": null
      }
     },
     "568f1a14d7e64b2b94b31ba88e92c07f": {
      "model_module": "@jupyter-widgets/controls",
      "model_module_version": "2.0.0",
      "model_name": "HTMLStyleModel",
      "state": {
       "_model_module": "@jupyter-widgets/controls",
       "_model_module_version": "2.0.0",
       "_model_name": "HTMLStyleModel",
       "_view_count": null,
       "_view_module": "@jupyter-widgets/base",
       "_view_module_version": "2.0.0",
       "_view_name": "StyleView",
       "background": null,
       "description_width": "",
       "font_size": null,
       "text_color": null
      }
     },
     "5714f770263e42908a6ce5b75f278498": {
      "model_module": "@jupyter-widgets/controls",
      "model_module_version": "2.0.0",
      "model_name": "FloatProgressModel",
      "state": {
       "_dom_classes": [],
       "_model_module": "@jupyter-widgets/controls",
       "_model_module_version": "2.0.0",
       "_model_name": "FloatProgressModel",
       "_view_count": null,
       "_view_module": "@jupyter-widgets/controls",
       "_view_module_version": "2.0.0",
       "_view_name": "ProgressView",
       "bar_style": "success",
       "description": "",
       "description_allow_html": false,
       "layout": "IPY_MODEL_c6296ae2fb6b45c6976aa89cf69a09e3",
       "max": 296.0,
       "min": 0.0,
       "orientation": "horizontal",
       "style": "IPY_MODEL_422163a5f537408e84395dbd3c058eba",
       "tabbable": null,
       "tooltip": null,
       "value": 296.0
      }
     },
     "5bcc9c4d456047dc8ab10967c2258f8a": {
      "model_module": "@jupyter-widgets/base",
      "model_module_version": "2.0.0",
      "model_name": "LayoutModel",
      "state": {
       "_model_module": "@jupyter-widgets/base",
       "_model_module_version": "2.0.0",
       "_model_name": "LayoutModel",
       "_view_count": null,
       "_view_module": "@jupyter-widgets/base",
       "_view_module_version": "2.0.0",
       "_view_name": "LayoutView",
       "align_content": null,
       "align_items": null,
       "align_self": null,
       "border_bottom": null,
       "border_left": null,
       "border_right": null,
       "border_top": null,
       "bottom": null,
       "display": null,
       "flex": null,
       "flex_flow": null,
       "grid_area": null,
       "grid_auto_columns": null,
       "grid_auto_flow": null,
       "grid_auto_rows": null,
       "grid_column": null,
       "grid_gap": null,
       "grid_row": null,
       "grid_template_areas": null,
       "grid_template_columns": null,
       "grid_template_rows": null,
       "height": null,
       "justify_content": null,
       "justify_items": null,
       "left": null,
       "margin": null,
       "max_height": null,
       "max_width": null,
       "min_height": null,
       "min_width": null,
       "object_fit": null,
       "object_position": null,
       "order": null,
       "overflow": null,
       "padding": null,
       "right": null,
       "top": null,
       "visibility": null,
       "width": null
      }
     },
     "5d852ed237ab48c79c9555d979dcfb27": {
      "model_module": "@jupyter-widgets/controls",
      "model_module_version": "2.0.0",
      "model_name": "HTMLStyleModel",
      "state": {
       "_model_module": "@jupyter-widgets/controls",
       "_model_module_version": "2.0.0",
       "_model_name": "HTMLStyleModel",
       "_view_count": null,
       "_view_module": "@jupyter-widgets/base",
       "_view_module_version": "2.0.0",
       "_view_name": "StyleView",
       "background": null,
       "description_width": "",
       "font_size": null,
       "text_color": null
      }
     },
     "5ebc05d62a5242f68e8003b237519214": {
      "model_module": "@jupyter-widgets/controls",
      "model_module_version": "2.0.0",
      "model_name": "FloatProgressModel",
      "state": {
       "_dom_classes": [],
       "_model_module": "@jupyter-widgets/controls",
       "_model_module_version": "2.0.0",
       "_model_name": "FloatProgressModel",
       "_view_count": null,
       "_view_module": "@jupyter-widgets/controls",
       "_view_module_version": "2.0.0",
       "_view_name": "ProgressView",
       "bar_style": "success",
       "description": "",
       "description_allow_html": false,
       "layout": "IPY_MODEL_fdc059dde9524113819b8ab51078a114",
       "max": 1372.0,
       "min": 0.0,
       "orientation": "horizontal",
       "style": "IPY_MODEL_3dcc1b27f5734019b489fcaf3acc1906",
       "tabbable": null,
       "tooltip": null,
       "value": 1372.0
      }
     },
     "6324df89dec24687ab99863e1e8d097c": {
      "model_module": "@jupyter-widgets/controls",
      "model_module_version": "2.0.0",
      "model_name": "ProgressStyleModel",
      "state": {
       "_model_module": "@jupyter-widgets/controls",
       "_model_module_version": "2.0.0",
       "_model_name": "ProgressStyleModel",
       "_view_count": null,
       "_view_module": "@jupyter-widgets/base",
       "_view_module_version": "2.0.0",
       "_view_name": "StyleView",
       "bar_color": null,
       "description_width": ""
      }
     },
     "71120423912d4da6aa5013859f66d227": {
      "model_module": "@jupyter-widgets/controls",
      "model_module_version": "2.0.0",
      "model_name": "HTMLModel",
      "state": {
       "_dom_classes": [],
       "_model_module": "@jupyter-widgets/controls",
       "_model_module_version": "2.0.0",
       "_model_name": "HTMLModel",
       "_view_count": null,
       "_view_module": "@jupyter-widgets/controls",
       "_view_module_version": "2.0.0",
       "_view_name": "HTMLView",
       "description": "",
       "description_allow_html": false,
       "layout": "IPY_MODEL_fec810fd102741fbb682e34d7f28bf73",
       "placeholder": "​",
       "style": "IPY_MODEL_5d852ed237ab48c79c9555d979dcfb27",
       "tabbable": null,
       "tooltip": null,
       "value": "Map: 100%"
      }
     },
     "73c79361d6c74b5e85564b3e5c32ec7b": {
      "model_module": "@jupyter-widgets/base",
      "model_module_version": "2.0.0",
      "model_name": "LayoutModel",
      "state": {
       "_model_module": "@jupyter-widgets/base",
       "_model_module_version": "2.0.0",
       "_model_name": "LayoutModel",
       "_view_count": null,
       "_view_module": "@jupyter-widgets/base",
       "_view_module_version": "2.0.0",
       "_view_name": "LayoutView",
       "align_content": null,
       "align_items": null,
       "align_self": null,
       "border_bottom": null,
       "border_left": null,
       "border_right": null,
       "border_top": null,
       "bottom": null,
       "display": null,
       "flex": null,
       "flex_flow": null,
       "grid_area": null,
       "grid_auto_columns": null,
       "grid_auto_flow": null,
       "grid_auto_rows": null,
       "grid_column": null,
       "grid_gap": null,
       "grid_row": null,
       "grid_template_areas": null,
       "grid_template_columns": null,
       "grid_template_rows": null,
       "height": null,
       "justify_content": null,
       "justify_items": null,
       "left": null,
       "margin": null,
       "max_height": null,
       "max_width": null,
       "min_height": null,
       "min_width": null,
       "object_fit": null,
       "object_position": null,
       "order": null,
       "overflow": null,
       "padding": null,
       "right": null,
       "top": null,
       "visibility": null,
       "width": null
      }
     },
     "76e1a2c4d7524e30a066b3705696b1ef": {
      "model_module": "@jupyter-widgets/base",
      "model_module_version": "2.0.0",
      "model_name": "LayoutModel",
      "state": {
       "_model_module": "@jupyter-widgets/base",
       "_model_module_version": "2.0.0",
       "_model_name": "LayoutModel",
       "_view_count": null,
       "_view_module": "@jupyter-widgets/base",
       "_view_module_version": "2.0.0",
       "_view_name": "LayoutView",
       "align_content": null,
       "align_items": null,
       "align_self": null,
       "border_bottom": null,
       "border_left": null,
       "border_right": null,
       "border_top": null,
       "bottom": null,
       "display": null,
       "flex": null,
       "flex_flow": null,
       "grid_area": null,
       "grid_auto_columns": null,
       "grid_auto_flow": null,
       "grid_auto_rows": null,
       "grid_column": null,
       "grid_gap": null,
       "grid_row": null,
       "grid_template_areas": null,
       "grid_template_columns": null,
       "grid_template_rows": null,
       "height": null,
       "justify_content": null,
       "justify_items": null,
       "left": null,
       "margin": null,
       "max_height": null,
       "max_width": null,
       "min_height": null,
       "min_width": null,
       "object_fit": null,
       "object_position": null,
       "order": null,
       "overflow": null,
       "padding": null,
       "right": null,
       "top": null,
       "visibility": null,
       "width": null
      }
     },
     "7cb6d0245a2c46b99f554468059c3c8b": {
      "model_module": "@jupyter-widgets/base",
      "model_module_version": "2.0.0",
      "model_name": "LayoutModel",
      "state": {
       "_model_module": "@jupyter-widgets/base",
       "_model_module_version": "2.0.0",
       "_model_name": "LayoutModel",
       "_view_count": null,
       "_view_module": "@jupyter-widgets/base",
       "_view_module_version": "2.0.0",
       "_view_name": "LayoutView",
       "align_content": null,
       "align_items": null,
       "align_self": null,
       "border_bottom": null,
       "border_left": null,
       "border_right": null,
       "border_top": null,
       "bottom": null,
       "display": null,
       "flex": null,
       "flex_flow": null,
       "grid_area": null,
       "grid_auto_columns": null,
       "grid_auto_flow": null,
       "grid_auto_rows": null,
       "grid_column": null,
       "grid_gap": null,
       "grid_row": null,
       "grid_template_areas": null,
       "grid_template_columns": null,
       "grid_template_rows": null,
       "height": null,
       "justify_content": null,
       "justify_items": null,
       "left": null,
       "margin": null,
       "max_height": null,
       "max_width": null,
       "min_height": null,
       "min_width": null,
       "object_fit": null,
       "object_position": null,
       "order": null,
       "overflow": null,
       "padding": null,
       "right": null,
       "top": null,
       "visibility": null,
       "width": null
      }
     },
     "836462ba457541b0866d513afef40ca0": {
      "model_module": "@jupyter-widgets/controls",
      "model_module_version": "2.0.0",
      "model_name": "HTMLModel",
      "state": {
       "_dom_classes": [],
       "_model_module": "@jupyter-widgets/controls",
       "_model_module_version": "2.0.0",
       "_model_name": "HTMLModel",
       "_view_count": null,
       "_view_module": "@jupyter-widgets/controls",
       "_view_module_version": "2.0.0",
       "_view_name": "HTMLView",
       "description": "",
       "description_allow_html": false,
       "layout": "IPY_MODEL_7cb6d0245a2c46b99f554468059c3c8b",
       "placeholder": "​",
       "style": "IPY_MODEL_cdfa019240794b0393ba4d5ca94fe581",
       "tabbable": null,
       "tooltip": null,
       "value": "tokenizer_config.json: 100%"
      }
     },
     "9221745926fd46b69529056485a44d96": {
      "model_module": "@jupyter-widgets/base",
      "model_module_version": "2.0.0",
      "model_name": "LayoutModel",
      "state": {
       "_model_module": "@jupyter-widgets/base",
       "_model_module_version": "2.0.0",
       "_model_name": "LayoutModel",
       "_view_count": null,
       "_view_module": "@jupyter-widgets/base",
       "_view_module_version": "2.0.0",
       "_view_name": "LayoutView",
       "align_content": null,
       "align_items": null,
       "align_self": null,
       "border_bottom": null,
       "border_left": null,
       "border_right": null,
       "border_top": null,
       "bottom": null,
       "display": null,
       "flex": null,
       "flex_flow": null,
       "grid_area": null,
       "grid_auto_columns": null,
       "grid_auto_flow": null,
       "grid_auto_rows": null,
       "grid_column": null,
       "grid_gap": null,
       "grid_row": null,
       "grid_template_areas": null,
       "grid_template_columns": null,
       "grid_template_rows": null,
       "height": null,
       "justify_content": null,
       "justify_items": null,
       "left": null,
       "margin": null,
       "max_height": null,
       "max_width": null,
       "min_height": null,
       "min_width": null,
       "object_fit": null,
       "object_position": null,
       "order": null,
       "overflow": null,
       "padding": null,
       "right": null,
       "top": null,
       "visibility": null,
       "width": null
      }
     },
     "94acc4661d6848d293fa8fcbcb202592": {
      "model_module": "@jupyter-widgets/base",
      "model_module_version": "2.0.0",
      "model_name": "LayoutModel",
      "state": {
       "_model_module": "@jupyter-widgets/base",
       "_model_module_version": "2.0.0",
       "_model_name": "LayoutModel",
       "_view_count": null,
       "_view_module": "@jupyter-widgets/base",
       "_view_module_version": "2.0.0",
       "_view_name": "LayoutView",
       "align_content": null,
       "align_items": null,
       "align_self": null,
       "border_bottom": null,
       "border_left": null,
       "border_right": null,
       "border_top": null,
       "bottom": null,
       "display": null,
       "flex": null,
       "flex_flow": null,
       "grid_area": null,
       "grid_auto_columns": null,
       "grid_auto_flow": null,
       "grid_auto_rows": null,
       "grid_column": null,
       "grid_gap": null,
       "grid_row": null,
       "grid_template_areas": null,
       "grid_template_columns": null,
       "grid_template_rows": null,
       "height": null,
       "justify_content": null,
       "justify_items": null,
       "left": null,
       "margin": null,
       "max_height": null,
       "max_width": null,
       "min_height": null,
       "min_width": null,
       "object_fit": null,
       "object_position": null,
       "order": null,
       "overflow": null,
       "padding": null,
       "right": null,
       "top": null,
       "visibility": null,
       "width": null
      }
     },
     "971a8e9009034ae9a18264714e46f660": {
      "model_module": "@jupyter-widgets/base",
      "model_module_version": "2.0.0",
      "model_name": "LayoutModel",
      "state": {
       "_model_module": "@jupyter-widgets/base",
       "_model_module_version": "2.0.0",
       "_model_name": "LayoutModel",
       "_view_count": null,
       "_view_module": "@jupyter-widgets/base",
       "_view_module_version": "2.0.0",
       "_view_name": "LayoutView",
       "align_content": null,
       "align_items": null,
       "align_self": null,
       "border_bottom": null,
       "border_left": null,
       "border_right": null,
       "border_top": null,
       "bottom": null,
       "display": null,
       "flex": null,
       "flex_flow": null,
       "grid_area": null,
       "grid_auto_columns": null,
       "grid_auto_flow": null,
       "grid_auto_rows": null,
       "grid_column": null,
       "grid_gap": null,
       "grid_row": null,
       "grid_template_areas": null,
       "grid_template_columns": null,
       "grid_template_rows": null,
       "height": null,
       "justify_content": null,
       "justify_items": null,
       "left": null,
       "margin": null,
       "max_height": null,
       "max_width": null,
       "min_height": null,
       "min_width": null,
       "object_fit": null,
       "object_position": null,
       "order": null,
       "overflow": null,
       "padding": null,
       "right": null,
       "top": null,
       "visibility": null,
       "width": null
      }
     },
     "977f84a9df004463a07e6d71c0aea441": {
      "model_module": "@jupyter-widgets/controls",
      "model_module_version": "2.0.0",
      "model_name": "HTMLStyleModel",
      "state": {
       "_model_module": "@jupyter-widgets/controls",
       "_model_module_version": "2.0.0",
       "_model_name": "HTMLStyleModel",
       "_view_count": null,
       "_view_module": "@jupyter-widgets/base",
       "_view_module_version": "2.0.0",
       "_view_name": "StyleView",
       "background": null,
       "description_width": "",
       "font_size": null,
       "text_color": null
      }
     },
     "97ac0296e56048e1b1dc81b14b8974b4": {
      "model_module": "@jupyter-widgets/controls",
      "model_module_version": "2.0.0",
      "model_name": "HTMLStyleModel",
      "state": {
       "_model_module": "@jupyter-widgets/controls",
       "_model_module_version": "2.0.0",
       "_model_name": "HTMLStyleModel",
       "_view_count": null,
       "_view_module": "@jupyter-widgets/base",
       "_view_module_version": "2.0.0",
       "_view_name": "StyleView",
       "background": null,
       "description_width": "",
       "font_size": null,
       "text_color": null
      }
     },
     "98116649cee64ef28c94bd382b204cbe": {
      "model_module": "@jupyter-widgets/base",
      "model_module_version": "2.0.0",
      "model_name": "LayoutModel",
      "state": {
       "_model_module": "@jupyter-widgets/base",
       "_model_module_version": "2.0.0",
       "_model_name": "LayoutModel",
       "_view_count": null,
       "_view_module": "@jupyter-widgets/base",
       "_view_module_version": "2.0.0",
       "_view_name": "LayoutView",
       "align_content": null,
       "align_items": null,
       "align_self": null,
       "border_bottom": null,
       "border_left": null,
       "border_right": null,
       "border_top": null,
       "bottom": null,
       "display": null,
       "flex": null,
       "flex_flow": null,
       "grid_area": null,
       "grid_auto_columns": null,
       "grid_auto_flow": null,
       "grid_auto_rows": null,
       "grid_column": null,
       "grid_gap": null,
       "grid_row": null,
       "grid_template_areas": null,
       "grid_template_columns": null,
       "grid_template_rows": null,
       "height": null,
       "justify_content": null,
       "justify_items": null,
       "left": null,
       "margin": null,
       "max_height": null,
       "max_width": null,
       "min_height": null,
       "min_width": null,
       "object_fit": null,
       "object_position": null,
       "order": null,
       "overflow": null,
       "padding": null,
       "right": null,
       "top": null,
       "visibility": null,
       "width": null
      }
     },
     "99e1525bcbb648f1b41092885878b14a": {
      "model_module": "@jupyter-widgets/base",
      "model_module_version": "2.0.0",
      "model_name": "LayoutModel",
      "state": {
       "_model_module": "@jupyter-widgets/base",
       "_model_module_version": "2.0.0",
       "_model_name": "LayoutModel",
       "_view_count": null,
       "_view_module": "@jupyter-widgets/base",
       "_view_module_version": "2.0.0",
       "_view_name": "LayoutView",
       "align_content": null,
       "align_items": null,
       "align_self": null,
       "border_bottom": null,
       "border_left": null,
       "border_right": null,
       "border_top": null,
       "bottom": null,
       "display": null,
       "flex": null,
       "flex_flow": null,
       "grid_area": null,
       "grid_auto_columns": null,
       "grid_auto_flow": null,
       "grid_auto_rows": null,
       "grid_column": null,
       "grid_gap": null,
       "grid_row": null,
       "grid_template_areas": null,
       "grid_template_columns": null,
       "grid_template_rows": null,
       "height": null,
       "justify_content": null,
       "justify_items": null,
       "left": null,
       "margin": null,
       "max_height": null,
       "max_width": null,
       "min_height": null,
       "min_width": null,
       "object_fit": null,
       "object_position": null,
       "order": null,
       "overflow": null,
       "padding": null,
       "right": null,
       "top": null,
       "visibility": null,
       "width": null
      }
     },
     "a5d8f31488ef4e6aa51100db7ab04286": {
      "model_module": "@jupyter-widgets/controls",
      "model_module_version": "2.0.0",
      "model_name": "ProgressStyleModel",
      "state": {
       "_model_module": "@jupyter-widgets/controls",
       "_model_module_version": "2.0.0",
       "_model_name": "ProgressStyleModel",
       "_view_count": null,
       "_view_module": "@jupyter-widgets/base",
       "_view_module_version": "2.0.0",
       "_view_name": "StyleView",
       "bar_color": null,
       "description_width": ""
      }
     },
     "ac1726bb88534e10aac1588100981101": {
      "model_module": "@jupyter-widgets/controls",
      "model_module_version": "2.0.0",
      "model_name": "HTMLStyleModel",
      "state": {
       "_model_module": "@jupyter-widgets/controls",
       "_model_module_version": "2.0.0",
       "_model_name": "HTMLStyleModel",
       "_view_count": null,
       "_view_module": "@jupyter-widgets/base",
       "_view_module_version": "2.0.0",
       "_view_name": "StyleView",
       "background": null,
       "description_width": "",
       "font_size": null,
       "text_color": null
      }
     },
     "adc8fb579242466a806ac5454e3cddd8": {
      "model_module": "@jupyter-widgets/controls",
      "model_module_version": "2.0.0",
      "model_name": "HBoxModel",
      "state": {
       "_dom_classes": [],
       "_model_module": "@jupyter-widgets/controls",
       "_model_module_version": "2.0.0",
       "_model_name": "HBoxModel",
       "_view_count": null,
       "_view_module": "@jupyter-widgets/controls",
       "_view_module_version": "2.0.0",
       "_view_name": "HBoxView",
       "box_style": "",
       "children": [
        "IPY_MODEL_121d92ed5d34496d9263ae05ab666b7e",
        "IPY_MODEL_0f7b27f227a749aaaf7d1500c290c377",
        "IPY_MODEL_0ef6a55e672b4ea299e715081de86165"
       ],
       "layout": "IPY_MODEL_94acc4661d6848d293fa8fcbcb202592",
       "tabbable": null,
       "tooltip": null
      }
     },
     "b306ea22323d4225b4f6495d26e8bf78": {
      "model_module": "@jupyter-widgets/base",
      "model_module_version": "2.0.0",
      "model_name": "LayoutModel",
      "state": {
       "_model_module": "@jupyter-widgets/base",
       "_model_module_version": "2.0.0",
       "_model_name": "LayoutModel",
       "_view_count": null,
       "_view_module": "@jupyter-widgets/base",
       "_view_module_version": "2.0.0",
       "_view_name": "LayoutView",
       "align_content": null,
       "align_items": null,
       "align_self": null,
       "border_bottom": null,
       "border_left": null,
       "border_right": null,
       "border_top": null,
       "bottom": null,
       "display": null,
       "flex": null,
       "flex_flow": null,
       "grid_area": null,
       "grid_auto_columns": null,
       "grid_auto_flow": null,
       "grid_auto_rows": null,
       "grid_column": null,
       "grid_gap": null,
       "grid_row": null,
       "grid_template_areas": null,
       "grid_template_columns": null,
       "grid_template_rows": null,
       "height": null,
       "justify_content": null,
       "justify_items": null,
       "left": null,
       "margin": null,
       "max_height": null,
       "max_width": null,
       "min_height": null,
       "min_width": null,
       "object_fit": null,
       "object_position": null,
       "order": null,
       "overflow": null,
       "padding": null,
       "right": null,
       "top": null,
       "visibility": null,
       "width": null
      }
     },
     "b51d94af8b3841ee975edee1b2bdcd8d": {
      "model_module": "@jupyter-widgets/controls",
      "model_module_version": "2.0.0",
      "model_name": "HTMLModel",
      "state": {
       "_dom_classes": [],
       "_model_module": "@jupyter-widgets/controls",
       "_model_module_version": "2.0.0",
       "_model_name": "HTMLModel",
       "_view_count": null,
       "_view_module": "@jupyter-widgets/controls",
       "_view_module_version": "2.0.0",
       "_view_name": "HTMLView",
       "description": "",
       "description_allow_html": false,
       "layout": "IPY_MODEL_9221745926fd46b69529056485a44d96",
       "placeholder": "​",
       "style": "IPY_MODEL_ac1726bb88534e10aac1588100981101",
       "tabbable": null,
       "tooltip": null,
       "value": " 1372/1372 [00:00&lt;00:00, 14919.46 examples/s]"
      }
     },
     "b5d7899ab13a46edaa96cefe0eeaea50": {
      "model_module": "@jupyter-widgets/controls",
      "model_module_version": "2.0.0",
      "model_name": "FloatProgressModel",
      "state": {
       "_dom_classes": [],
       "_model_module": "@jupyter-widgets/controls",
       "_model_module_version": "2.0.0",
       "_model_name": "FloatProgressModel",
       "_view_count": null,
       "_view_module": "@jupyter-widgets/controls",
       "_view_module_version": "2.0.0",
       "_view_name": "ProgressView",
       "bar_style": "success",
       "description": "",
       "description_allow_html": false,
       "layout": "IPY_MODEL_b306ea22323d4225b4f6495d26e8bf78",
       "max": 54528.0,
       "min": 0.0,
       "orientation": "horizontal",
       "style": "IPY_MODEL_6324df89dec24687ab99863e1e8d097c",
       "tabbable": null,
       "tooltip": null,
       "value": 54528.0
      }
     },
     "b74c50f95d0e4504aa5f5fa596ac9166": {
      "model_module": "@jupyter-widgets/controls",
      "model_module_version": "2.0.0",
      "model_name": "HBoxModel",
      "state": {
       "_dom_classes": [],
       "_model_module": "@jupyter-widgets/controls",
       "_model_module_version": "2.0.0",
       "_model_name": "HBoxModel",
       "_view_count": null,
       "_view_module": "@jupyter-widgets/controls",
       "_view_module_version": "2.0.0",
       "_view_name": "HBoxView",
       "box_style": "",
       "children": [
        "IPY_MODEL_1e339b8e241648f2bb225139552f1ea1",
        "IPY_MODEL_5714f770263e42908a6ce5b75f278498",
        "IPY_MODEL_fd03757ae8774a1ba0a7adc91b72998e"
       ],
       "layout": "IPY_MODEL_bc418251e794469ba6317e9a6671487b",
       "tabbable": null,
       "tooltip": null
      }
     },
     "bc418251e794469ba6317e9a6671487b": {
      "model_module": "@jupyter-widgets/base",
      "model_module_version": "2.0.0",
      "model_name": "LayoutModel",
      "state": {
       "_model_module": "@jupyter-widgets/base",
       "_model_module_version": "2.0.0",
       "_model_name": "LayoutModel",
       "_view_count": null,
       "_view_module": "@jupyter-widgets/base",
       "_view_module_version": "2.0.0",
       "_view_name": "LayoutView",
       "align_content": null,
       "align_items": null,
       "align_self": null,
       "border_bottom": null,
       "border_left": null,
       "border_right": null,
       "border_top": null,
       "bottom": null,
       "display": null,
       "flex": null,
       "flex_flow": null,
       "grid_area": null,
       "grid_auto_columns": null,
       "grid_auto_flow": null,
       "grid_auto_rows": null,
       "grid_column": null,
       "grid_gap": null,
       "grid_row": null,
       "grid_template_areas": null,
       "grid_template_columns": null,
       "grid_template_rows": null,
       "height": null,
       "justify_content": null,
       "justify_items": null,
       "left": null,
       "margin": null,
       "max_height": null,
       "max_width": null,
       "min_height": null,
       "min_width": null,
       "object_fit": null,
       "object_position": null,
       "order": null,
       "overflow": null,
       "padding": null,
       "right": null,
       "top": null,
       "visibility": null,
       "width": null
      }
     },
     "bc61db2507564816b228a385062dba2b": {
      "model_module": "@jupyter-widgets/controls",
      "model_module_version": "2.0.0",
      "model_name": "HTMLModel",
      "state": {
       "_dom_classes": [],
       "_model_module": "@jupyter-widgets/controls",
       "_model_module_version": "2.0.0",
       "_model_name": "HTMLModel",
       "_view_count": null,
       "_view_module": "@jupyter-widgets/controls",
       "_view_module_version": "2.0.0",
       "_view_name": "HTMLView",
       "description": "",
       "description_allow_html": false,
       "layout": "IPY_MODEL_c08715e10e424ecea929b1169c01fdda",
       "placeholder": "​",
       "style": "IPY_MODEL_97ac0296e56048e1b1dc81b14b8974b4",
       "tabbable": null,
       "tooltip": null,
       "value": " 54.5k/54.5k [00:00&lt;00:00, 4.16MB/s]"
      }
     },
     "c08715e10e424ecea929b1169c01fdda": {
      "model_module": "@jupyter-widgets/base",
      "model_module_version": "2.0.0",
      "model_name": "LayoutModel",
      "state": {
       "_model_module": "@jupyter-widgets/base",
       "_model_module_version": "2.0.0",
       "_model_name": "LayoutModel",
       "_view_count": null,
       "_view_module": "@jupyter-widgets/base",
       "_view_module_version": "2.0.0",
       "_view_name": "LayoutView",
       "align_content": null,
       "align_items": null,
       "align_self": null,
       "border_bottom": null,
       "border_left": null,
       "border_right": null,
       "border_top": null,
       "bottom": null,
       "display": null,
       "flex": null,
       "flex_flow": null,
       "grid_area": null,
       "grid_auto_columns": null,
       "grid_auto_flow": null,
       "grid_auto_rows": null,
       "grid_column": null,
       "grid_gap": null,
       "grid_row": null,
       "grid_template_areas": null,
       "grid_template_columns": null,
       "grid_template_rows": null,
       "height": null,
       "justify_content": null,
       "justify_items": null,
       "left": null,
       "margin": null,
       "max_height": null,
       "max_width": null,
       "min_height": null,
       "min_width": null,
       "object_fit": null,
       "object_position": null,
       "order": null,
       "overflow": null,
       "padding": null,
       "right": null,
       "top": null,
       "visibility": null,
       "width": null
      }
     },
     "c6296ae2fb6b45c6976aa89cf69a09e3": {
      "model_module": "@jupyter-widgets/base",
      "model_module_version": "2.0.0",
      "model_name": "LayoutModel",
      "state": {
       "_model_module": "@jupyter-widgets/base",
       "_model_module_version": "2.0.0",
       "_model_name": "LayoutModel",
       "_view_count": null,
       "_view_module": "@jupyter-widgets/base",
       "_view_module_version": "2.0.0",
       "_view_name": "LayoutView",
       "align_content": null,
       "align_items": null,
       "align_self": null,
       "border_bottom": null,
       "border_left": null,
       "border_right": null,
       "border_top": null,
       "bottom": null,
       "display": null,
       "flex": null,
       "flex_flow": null,
       "grid_area": null,
       "grid_auto_columns": null,
       "grid_auto_flow": null,
       "grid_auto_rows": null,
       "grid_column": null,
       "grid_gap": null,
       "grid_row": null,
       "grid_template_areas": null,
       "grid_template_columns": null,
       "grid_template_rows": null,
       "height": null,
       "justify_content": null,
       "justify_items": null,
       "left": null,
       "margin": null,
       "max_height": null,
       "max_width": null,
       "min_height": null,
       "min_width": null,
       "object_fit": null,
       "object_position": null,
       "order": null,
       "overflow": null,
       "padding": null,
       "right": null,
       "top": null,
       "visibility": null,
       "width": null
      }
     },
     "c6f571405ccd4092b45eacada9024223": {
      "model_module": "@jupyter-widgets/controls",
      "model_module_version": "2.0.0",
      "model_name": "HBoxModel",
      "state": {
       "_dom_classes": [],
       "_model_module": "@jupyter-widgets/controls",
       "_model_module_version": "2.0.0",
       "_model_name": "HBoxModel",
       "_view_count": null,
       "_view_module": "@jupyter-widgets/controls",
       "_view_module_version": "2.0.0",
       "_view_name": "HBoxView",
       "box_style": "",
       "children": [
        "IPY_MODEL_71120423912d4da6aa5013859f66d227",
        "IPY_MODEL_420ef14c3a20472799c3ff4dd8b0ad28",
        "IPY_MODEL_f156ee23bbbf4eb7929b8da485f2fd39"
       ],
       "layout": "IPY_MODEL_98116649cee64ef28c94bd382b204cbe",
       "tabbable": null,
       "tooltip": null
      }
     },
     "c843938cea884d488e896b233e564990": {
      "model_module": "@jupyter-widgets/base",
      "model_module_version": "2.0.0",
      "model_name": "LayoutModel",
      "state": {
       "_model_module": "@jupyter-widgets/base",
       "_model_module_version": "2.0.0",
       "_model_name": "LayoutModel",
       "_view_count": null,
       "_view_module": "@jupyter-widgets/base",
       "_view_module_version": "2.0.0",
       "_view_name": "LayoutView",
       "align_content": null,
       "align_items": null,
       "align_self": null,
       "border_bottom": null,
       "border_left": null,
       "border_right": null,
       "border_top": null,
       "bottom": null,
       "display": null,
       "flex": null,
       "flex_flow": null,
       "grid_area": null,
       "grid_auto_columns": null,
       "grid_auto_flow": null,
       "grid_auto_rows": null,
       "grid_column": null,
       "grid_gap": null,
       "grid_row": null,
       "grid_template_areas": null,
       "grid_template_columns": null,
       "grid_template_rows": null,
       "height": null,
       "justify_content": null,
       "justify_items": null,
       "left": null,
       "margin": null,
       "max_height": null,
       "max_width": null,
       "min_height": null,
       "min_width": null,
       "object_fit": null,
       "object_position": null,
       "order": null,
       "overflow": null,
       "padding": null,
       "right": null,
       "top": null,
       "visibility": null,
       "width": null
      }
     },
     "c8be49aa656f4c63ba7723990cfd733f": {
      "model_module": "@jupyter-widgets/controls",
      "model_module_version": "2.0.0",
      "model_name": "ProgressStyleModel",
      "state": {
       "_model_module": "@jupyter-widgets/controls",
       "_model_module_version": "2.0.0",
       "_model_name": "ProgressStyleModel",
       "_view_count": null,
       "_view_module": "@jupyter-widgets/base",
       "_view_module_version": "2.0.0",
       "_view_name": "StyleView",
       "bar_color": null,
       "description_width": ""
      }
     },
     "cdfa019240794b0393ba4d5ca94fe581": {
      "model_module": "@jupyter-widgets/controls",
      "model_module_version": "2.0.0",
      "model_name": "HTMLStyleModel",
      "state": {
       "_model_module": "@jupyter-widgets/controls",
       "_model_module_version": "2.0.0",
       "_model_name": "HTMLStyleModel",
       "_view_count": null,
       "_view_module": "@jupyter-widgets/base",
       "_view_module_version": "2.0.0",
       "_view_name": "StyleView",
       "background": null,
       "description_width": "",
       "font_size": null,
       "text_color": null
      }
     },
     "dd328e6793a84a6e864780a1035e2fa0": {
      "model_module": "@jupyter-widgets/controls",
      "model_module_version": "2.0.0",
      "model_name": "HTMLStyleModel",
      "state": {
       "_model_module": "@jupyter-widgets/controls",
       "_model_module_version": "2.0.0",
       "_model_name": "HTMLStyleModel",
       "_view_count": null,
       "_view_module": "@jupyter-widgets/base",
       "_view_module_version": "2.0.0",
       "_view_name": "StyleView",
       "background": null,
       "description_width": "",
       "font_size": null,
       "text_color": null
      }
     },
     "dfb7e8a5e3c74c639ae388bcf496e6c2": {
      "model_module": "@jupyter-widgets/controls",
      "model_module_version": "2.0.0",
      "model_name": "HTMLModel",
      "state": {
       "_dom_classes": [],
       "_model_module": "@jupyter-widgets/controls",
       "_model_module_version": "2.0.0",
       "_model_name": "HTMLModel",
       "_view_count": null,
       "_view_module": "@jupyter-widgets/controls",
       "_view_module_version": "2.0.0",
       "_view_name": "HTMLView",
       "description": "",
       "description_allow_html": false,
       "layout": "IPY_MODEL_76e1a2c4d7524e30a066b3705696b1ef",
       "placeholder": "​",
       "style": "IPY_MODEL_37b663258e4e4313879d9c5cb6a010e8",
       "tabbable": null,
       "tooltip": null,
       "value": "Saving the dataset (1/1 shards): 100%"
      }
     },
     "e8925f55edcf4ed8a1ea0ea721b2803d": {
      "model_module": "@jupyter-widgets/controls",
      "model_module_version": "2.0.0",
      "model_name": "HBoxModel",
      "state": {
       "_dom_classes": [],
       "_model_module": "@jupyter-widgets/controls",
       "_model_module_version": "2.0.0",
       "_model_name": "HBoxModel",
       "_view_count": null,
       "_view_module": "@jupyter-widgets/controls",
       "_view_module_version": "2.0.0",
       "_view_name": "HBoxView",
       "box_style": "",
       "children": [
        "IPY_MODEL_dfb7e8a5e3c74c639ae388bcf496e6c2",
        "IPY_MODEL_5ebc05d62a5242f68e8003b237519214",
        "IPY_MODEL_b51d94af8b3841ee975edee1b2bdcd8d"
       ],
       "layout": "IPY_MODEL_73c79361d6c74b5e85564b3e5c32ec7b",
       "tabbable": null,
       "tooltip": null
      }
     },
     "ece8aaf931184843833bcfaf4d1e475d": {
      "model_module": "@jupyter-widgets/controls",
      "model_module_version": "2.0.0",
      "model_name": "HTMLStyleModel",
      "state": {
       "_model_module": "@jupyter-widgets/controls",
       "_model_module_version": "2.0.0",
       "_model_name": "HTMLStyleModel",
       "_view_count": null,
       "_view_module": "@jupyter-widgets/base",
       "_view_module_version": "2.0.0",
       "_view_name": "StyleView",
       "background": null,
       "description_width": "",
       "font_size": null,
       "text_color": null
      }
     },
     "f156ee23bbbf4eb7929b8da485f2fd39": {
      "model_module": "@jupyter-widgets/controls",
      "model_module_version": "2.0.0",
      "model_name": "HTMLModel",
      "state": {
       "_dom_classes": [],
       "_model_module": "@jupyter-widgets/controls",
       "_model_module_version": "2.0.0",
       "_model_name": "HTMLModel",
       "_view_count": null,
       "_view_module": "@jupyter-widgets/controls",
       "_view_module_version": "2.0.0",
       "_view_name": "HTMLView",
       "description": "",
       "description_allow_html": false,
       "layout": "IPY_MODEL_085a7fd1cc5e4fbdaf55f46fd23536e7",
       "placeholder": "​",
       "style": "IPY_MODEL_977f84a9df004463a07e6d71c0aea441",
       "tabbable": null,
       "tooltip": null,
       "value": " 1372/1372 [00:08&lt;00:00, 168.06 examples/s]"
      }
     },
     "f5b4cd04e5924f538e0f585706ed5708": {
      "model_module": "@jupyter-widgets/base",
      "model_module_version": "2.0.0",
      "model_name": "LayoutModel",
      "state": {
       "_model_module": "@jupyter-widgets/base",
       "_model_module_version": "2.0.0",
       "_model_name": "LayoutModel",
       "_view_count": null,
       "_view_module": "@jupyter-widgets/base",
       "_view_module_version": "2.0.0",
       "_view_name": "LayoutView",
       "align_content": null,
       "align_items": null,
       "align_self": null,
       "border_bottom": null,
       "border_left": null,
       "border_right": null,
       "border_top": null,
       "bottom": null,
       "display": null,
       "flex": null,
       "flex_flow": null,
       "grid_area": null,
       "grid_auto_columns": null,
       "grid_auto_flow": null,
       "grid_auto_rows": null,
       "grid_column": null,
       "grid_gap": null,
       "grid_row": null,
       "grid_template_areas": null,
       "grid_template_columns": null,
       "grid_template_rows": null,
       "height": null,
       "justify_content": null,
       "justify_items": null,
       "left": null,
       "margin": null,
       "max_height": null,
       "max_width": null,
       "min_height": null,
       "min_width": null,
       "object_fit": null,
       "object_position": null,
       "order": null,
       "overflow": null,
       "padding": null,
       "right": null,
       "top": null,
       "visibility": null,
       "width": null
      }
     },
     "fd03757ae8774a1ba0a7adc91b72998e": {
      "model_module": "@jupyter-widgets/controls",
      "model_module_version": "2.0.0",
      "model_name": "HTMLModel",
      "state": {
       "_dom_classes": [],
       "_model_module": "@jupyter-widgets/controls",
       "_model_module_version": "2.0.0",
       "_model_name": "HTMLModel",
       "_view_count": null,
       "_view_module": "@jupyter-widgets/controls",
       "_view_module_version": "2.0.0",
       "_view_name": "HTMLView",
       "description": "",
       "description_allow_html": false,
       "layout": "IPY_MODEL_99e1525bcbb648f1b41092885878b14a",
       "placeholder": "​",
       "style": "IPY_MODEL_51deb25681544912811115f266921f3d",
       "tabbable": null,
       "tooltip": null,
       "value": " 296/296 [00:00&lt;00:00, 27.8kB/s]"
      }
     },
     "fdc059dde9524113819b8ab51078a114": {
      "model_module": "@jupyter-widgets/base",
      "model_module_version": "2.0.0",
      "model_name": "LayoutModel",
      "state": {
       "_model_module": "@jupyter-widgets/base",
       "_model_module_version": "2.0.0",
       "_model_name": "LayoutModel",
       "_view_count": null,
       "_view_module": "@jupyter-widgets/base",
       "_view_module_version": "2.0.0",
       "_view_name": "LayoutView",
       "align_content": null,
       "align_items": null,
       "align_self": null,
       "border_bottom": null,
       "border_left": null,
       "border_right": null,
       "border_top": null,
       "bottom": null,
       "display": null,
       "flex": null,
       "flex_flow": null,
       "grid_area": null,
       "grid_auto_columns": null,
       "grid_auto_flow": null,
       "grid_auto_rows": null,
       "grid_column": null,
       "grid_gap": null,
       "grid_row": null,
       "grid_template_areas": null,
       "grid_template_columns": null,
       "grid_template_rows": null,
       "height": null,
       "justify_content": null,
       "justify_items": null,
       "left": null,
       "margin": null,
       "max_height": null,
       "max_width": null,
       "min_height": null,
       "min_width": null,
       "object_fit": null,
       "object_position": null,
       "order": null,
       "overflow": null,
       "padding": null,
       "right": null,
       "top": null,
       "visibility": null,
       "width": null
      }
     },
     "fec810fd102741fbb682e34d7f28bf73": {
      "model_module": "@jupyter-widgets/base",
      "model_module_version": "2.0.0",
      "model_name": "LayoutModel",
      "state": {
       "_model_module": "@jupyter-widgets/base",
       "_model_module_version": "2.0.0",
       "_model_name": "LayoutModel",
       "_view_count": null,
       "_view_module": "@jupyter-widgets/base",
       "_view_module_version": "2.0.0",
       "_view_name": "LayoutView",
       "align_content": null,
       "align_items": null,
       "align_self": null,
       "border_bottom": null,
       "border_left": null,
       "border_right": null,
       "border_top": null,
       "bottom": null,
       "display": null,
       "flex": null,
       "flex_flow": null,
       "grid_area": null,
       "grid_auto_columns": null,
       "grid_auto_flow": null,
       "grid_auto_rows": null,
       "grid_column": null,
       "grid_gap": null,
       "grid_row": null,
       "grid_template_areas": null,
       "grid_template_columns": null,
       "grid_template_rows": null,
       "height": null,
       "justify_content": null,
       "justify_items": null,
       "left": null,
       "margin": null,
       "max_height": null,
       "max_width": null,
       "min_height": null,
       "min_width": null,
       "object_fit": null,
       "object_position": null,
       "order": null,
       "overflow": null,
       "padding": null,
       "right": null,
       "top": null,
       "visibility": null,
       "width": null
      }
     }
    },
    "version_major": 2,
    "version_minor": 0
   }
  }
 },
 "nbformat": 4,
 "nbformat_minor": 5
}
