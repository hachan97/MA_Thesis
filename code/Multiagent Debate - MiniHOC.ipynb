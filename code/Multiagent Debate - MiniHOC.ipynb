{
 "cells": [
  {
   "cell_type": "markdown",
   "metadata": {},
   "source": [
    "# Setup"
   ]
  },
  {
   "cell_type": "code",
   "execution_count": 1,
   "metadata": {},
   "outputs": [],
   "source": [
    "from datetime import datetime, timedelta\n",
    "from typing import List\n",
    "\n",
    "from langchain.docstore import InMemoryDocstore\n",
    "from langchain.retrievers import TimeWeightedVectorStoreRetriever\n",
    "from langchain_community.vectorstores import FAISS\n",
    "from langchain_openai import ChatOpenAI, OpenAIEmbeddings\n",
    "from termcolor import colored"
   ]
  },
  {
   "cell_type": "code",
   "execution_count": 2,
   "metadata": {},
   "outputs": [],
   "source": [
    "import functools\n",
    "import random\n",
    "from collections import OrderedDict\n",
    "from typing import Callable, List\n",
    "\n",
    "import tenacity\n",
    "from langchain.output_parsers import RegexParser\n",
    "from langchain.prompts import (\n",
    "    PromptTemplate,\n",
    ")\n",
    "from langchain.schema import (\n",
    "    HumanMessage,\n",
    "    SystemMessage,\n",
    ")\n",
    "from langchain_openai import ChatOpenAI"
   ]
  },
  {
   "cell_type": "code",
   "execution_count": 15,
   "metadata": {},
   "outputs": [],
   "source": [
    "import random\n",
    "import math\n",
    "import faiss\n",
    "from langchain_experimental.generative_agents import GenerativeAgent, GenerativeAgentMemory"
   ]
  },
  {
   "cell_type": "code",
   "execution_count": 4,
   "metadata": {},
   "outputs": [],
   "source": [
    "# Define the model to GPT 3.5 turbo\n",
    "LLM = ChatOpenAI(model=\"gpt-3.5-turbo\", max_tokens=1500) "
   ]
  },
  {
   "cell_type": "markdown",
   "metadata": {},
   "source": [
    "# Create Agent\n",
    "\n",
    "- [GenerativeAgentMemory](https://python.langchain.com/api_reference/experimental/generative_agents/langchain_experimental.generative_agents.memory.GenerativeAgentMemory.html): **Memory** for the generative agent \n",
    "   - `llm`\n",
    "   - `memory_retriever` = create_new_memory_retriever()\n",
    "   - `current_plan`\n",
    "   - `reflection_threshold`\n",
    "   - `add_memory` add observation/memory\n",
    "\n",
    "- [GenerativeAgent](https://python.langchain.com/api_reference/experimental/generative_agents.html): Agent as a character with **memory** and innate **characteristics**,  \n",
    "   - basics like `name`, `age` and `llm`\n",
    "   - `memory` object that combines relevance, recency, and ‘importance’\n",
    "   - `summary` and `summary_refresh_seconds` to set how frequently to re-generate the summary\n",
    "   - `summarize_related_memories`: Summarize memories that are most relevant to an observation\n",
    "   - `status` fix-objectives / traits of the character you wish not to change\n",
    "   - `traits` set Permanent traits to ascribe to the character \n",
    "   - `generate_dialogue_response`"
   ]
  },
  {
   "cell_type": "code",
   "execution_count": 5,
   "metadata": {},
   "outputs": [],
   "source": [
    "# Relevance Score function - relevance_score_fn()\n",
    "def relevance_score_fn(score: float) -> float:\n",
    "    \"\"\"Return a similarity score on a scale [0, 1].\"\"\"\n",
    "    return 1.0 - score / math.sqrt(2)"
   ]
  },
  {
   "cell_type": "code",
   "execution_count": 6,
   "metadata": {},
   "outputs": [],
   "source": [
    "# Memory Retriever function - create_new_memory_retriever()\n",
    "def create_new_memory_retriever():\n",
    "    \"\"\"Create a new vector store retriever unique to the agent.\"\"\"\n",
    "    embeddings_model = OpenAIEmbeddings()  # Define your embedding model\n",
    "    \n",
    "    # Initialize the vectorstore as empty\n",
    "    embedding_size = 1536  # embedding dimension\n",
    "    index = faiss.IndexFlatL2(embedding_size)\n",
    "    vectorstore = FAISS(\n",
    "        embeddings_model.embed_query,\n",
    "        index,\n",
    "        InMemoryDocstore({}),  # empty Memory docstore\n",
    "        {},  # index-to-document store ID mapping\n",
    "        relevance_score_fn=relevance_score_fn,\n",
    "    )\n",
    "\n",
    "    # Time-weighted scoring mechanism\n",
    "    return TimeWeightedVectorStoreRetriever(\n",
    "        vectorstore=vectorstore,\n",
    "        other_score_keys=[\"importance\"],\n",
    "        k=15  # retrieve up to 15 relevant memories\n",
    "    )"
   ]
  },
  {
   "cell_type": "code",
   "execution_count": 7,
   "metadata": {},
   "outputs": [],
   "source": [
    "# Agent Creation function - create_debate_agent()\n",
    "def create_debate_agent(name, age, traits, status, \n",
    "                        #reflection_threshold, \n",
    "                        llm):\n",
    "    \n",
    "    memory = GenerativeAgentMemory(\n",
    "        llm=llm,\n",
    "        memory_retriever=create_new_memory_retriever(),\n",
    "        verbose=False,\n",
    "        #reflection_threshold=reflection_threshold,  # adjust as needed for reflection frequency\n",
    "    )\n",
    "\n",
    "    agent = GenerativeAgent(\n",
    "        name=name,\n",
    "        age=age,\n",
    "        traits=traits,\n",
    "        status=status,\n",
    "        memory_retriever=create_new_memory_retriever(),\n",
    "        llm=llm,\n",
    "        memory=memory,\n",
    "    )\n",
    "    return agent"
   ]
  },
  {
   "cell_type": "code",
   "execution_count": 22,
   "metadata": {},
   "outputs": [
    {
     "name": "stderr",
     "output_type": "stream",
     "text": [
      "`embedding_function` is expected to be an Embeddings object, support for passing in a function will soon be removed.\n",
      "`embedding_function` is expected to be an Embeddings object, support for passing in a function will soon be removed.\n",
      "`embedding_function` is expected to be an Embeddings object, support for passing in a function will soon be removed.\n",
      "`embedding_function` is expected to be an Embeddings object, support for passing in a function will soon be removed.\n",
      "`embedding_function` is expected to be an Embeddings object, support for passing in a function will soon be removed.\n",
      "`embedding_function` is expected to be an Embeddings object, support for passing in a function will soon be removed.\n",
      "`embedding_function` is expected to be an Embeddings object, support for passing in a function will soon be removed.\n",
      "`embedding_function` is expected to be an Embeddings object, support for passing in a function will soon be removed.\n",
      "`embedding_function` is expected to be an Embeddings object, support for passing in a function will soon be removed.\n",
      "`embedding_function` is expected to be an Embeddings object, support for passing in a function will soon be removed.\n"
     ]
    }
   ],
   "source": [
    "# Create three debate agents (MPs) with their respective characteristics\n",
    "\n",
    "Trott = create_debate_agent(name=\"Laura Trott\", age=38, llm = LLM,\n",
    "                            traits= \"highly disciplined, sharp, and pragmatic. Strategic, focus on “quiet competence” rather than loud rhetoric, detail-oriented and a stickler for facts\",\n",
    "                            status=\"Conservative MP\")\n",
    "\n",
    "Johnson = create_debate_agent(name=\"Boris Johnson\", age=57, llm = LLM,\n",
    "                            traits=\"charismatic, chaotic, opportunistic, larger-than-life personality, thrives on spectacle and Blitz-spirit optimism, mixes humor with charm and a dash of bluster, unpredictable yet captivating, a showman who values headlines over substance\",\n",
    "                            status=\"Conservative MP\")\n",
    "\n",
    "Farage = create_debate_agent(name=\"Nigel Farage\", age=60, llm = LLM,\n",
    "                             traits=\"unapologetically bold, confrontational, divisive, a provocateur, skilled at stirring public opinion with blunt populist rhetoric, political brawle, highly skilled at galvanizing crowds\",\n",
    "                             status=\"Former UKIP leader, Brexit Party leader, and political commentator\")\n",
    "\n",
    "Sunak = create_debate_agent(name=\"Rishi Sunak\", age=44, llm = LLM,\n",
    "                            traits=\"technocratic, astute, polished, financially extremely wealthy, meticulous, highly analytical, known as the Fiscal-Guardian, out of touch with the middle-class\",\n",
    "                            status=\"Conservative MP, Former Prime Minister\")\n",
    "\n",
    "Starmer = create_debate_agent(name=\"Sir Keir Starmer\", age=61, llm = LLM,\n",
    "                              traits=\"methodical, earnest, intense focus on justice and reform, calm demeanor, seeks accountability, values facts over flair, deliver points with precision rather than emotion\",\n",
    "                              status=\"Leader of the Labour Party\")"
   ]
  },
  {
   "cell_type": "code",
   "execution_count": 23,
   "metadata": {},
   "outputs": [],
   "source": [
    "# Creat Memory objects for each agent\n",
    "Trott_memory = Trott.memory\n",
    "Johnson_memory = Johnson.memory\n",
    "Farage_memory = Farage.memory   \n",
    "Sunak_memory = Sunak.memory\n",
    "Starmer_memory = Starmer.memory"
   ]
  },
  {
   "cell_type": "code",
   "execution_count": 24,
   "metadata": {},
   "outputs": [],
   "source": [
    "# Base Observations \n",
    "Trott_observations = [\n",
    "    \"Trott attended Oxted School, studied history and economics at Oxford University\",\n",
    "    \"Trott is preparing for a debate on the economy\",\n",
    "    \"Trott advocates for responsible budgeting and cautious government spending\",\n",
    "    \"Trott emphasize business growth and pragmatic economic solutions\",\n",
    "    \"Trott generally conservative but supports progressive stances on education and family policies\",\n",
    "    \"Trott focuses on pragmatic rather than ideological approaches\",\n",
    "]\n",
    "\n",
    "Johnson_observations = [\n",
    "    \"Johnson attended Eton College, studied Classics Oxford University\",\n",
    "    \"Johnson is Pro-Brexit and economically nationalist\",\n",
    "    \"Johnson advocates for deregulation, minimal government intervention, and strong support for British businesses\",\n",
    "    \"Johnson is a populist, often aligning with traditional conservative values, though flexible when politically advantageous\",\n",
    "    \"Johnson is support strong national identity and sovereignty\",\n",
    "]\n",
    "\n",
    "Farage_observations = [\n",
    "    \"Farage attended Dulwich College but did not attend university\",\n",
    "    \"Farage is strongly Eurosceptic, advocates for British sovereignty, deregulation, and cutting ties with EU economic policies\",\n",
    "    \"Farage prioritizes domestic industry and independence from European influence\",\n",
    "    \"Farage is a Nationalist, anti-globalist, and socially conservative\",\n",
    "    \"Farage advocates for strict immigration controls and promotes traditional British values\"\n",
    "]\n",
    "\n",
    "Sunak_observations = [\n",
    "    \"Sunak studied Philosophy, Politics, and Economics at Oxford University and later earned an MBA from Stanford University\",\n",
    "    \"Sunak is fiscal conservative with a focus on budget balancing\",\n",
    "    \"Sunak advocates for responsible spending and a cautious approach to government intervention\",\n",
    "    \"Sunak prioritizes stability over drastic reforms\",\n",
    "    \"Sunak focus on pragmatism over ideology, holds relatively conservative views on social issues, often supporting traditional family values\",\n",
    "]\n",
    "\n",
    "Starmer_observations = [\n",
    "    \"Starmer attended Reigate Grammar School, studied law at the University of Leeds and completed studies at Oxford University\",\n",
    "    \"Starmer focuses on investment in public services, especially the NHS, and progressive taxation\",\n",
    "    \"Starmer prioritizes worker rights and social equality, advocating for a balanced but progressive approach\",\n",
    "    \"Starmer supports expanded public services, social justice, and inclusivity\",\n",
    "    \"Starmer Focuses on social reform and government accountability\",\n",
    "]"
   ]
  },
  {
   "cell_type": "code",
   "execution_count": 25,
   "metadata": {},
   "outputs": [],
   "source": [
    "# Loop through the observations and add to memory\n",
    "# Add the observations to the memory using the 'add_memory()' function\n",
    "\n",
    "for observation in Trott_observations:\n",
    "    Trott_memory.add_memory(observation)\n",
    "\n",
    "for observation in Johnson_observations:    \n",
    "    Johnson_memory.add_memory(observation)\n",
    "\n",
    "for observation in Farage_observations:\n",
    "    Farage_memory.add_memory(observation)\n",
    "\n",
    "for observation in Sunak_observations:\n",
    "    Sunak_memory.add_memory(observation)\n",
    "\n",
    "for observation in Starmer_observations:\n",
    "    Starmer.memory.add_memory(observation)"
   ]
  },
  {
   "cell_type": "markdown",
   "metadata": {},
   "source": [
    "# Create Simulation"
   ]
  },
  {
   "cell_type": "markdown",
   "metadata": {},
   "source": [
    "## Framework 1"
   ]
  },
  {
   "cell_type": "code",
   "execution_count": 13,
   "metadata": {},
   "outputs": [],
   "source": [
    "# Function to run the House of Commons-style debate\n",
    "def run_house_of_commons_debate(agents: List[GenerativeAgent],\n",
    "                                initial_observation: str) -> None:\n",
    "    \n",
    "    observation = initial_observation\n",
    "    turns = 0\n",
    "    max_turns = 20  # Define a max limit to avoid infinite loops\n",
    "    \n",
    "    # Start the debate with an initial observation\n",
    "    print(f\"Initial observation: {observation}\")\n",
    "    \n",
    "    while turns < max_turns:\n",
    "        break_debate = False\n",
    "        \n",
    "        # Each agent independently reacts to the observation\n",
    "        for agent in agents:\n",
    "            stay_in_dialogue, response = agent.generate_dialogue_response(observation)\n",
    "            \n",
    "            # Record observation in agent's memory\n",
    "            agent.memory.add_memory(response)\n",
    "            print(f\"{agent.name} says: {response}\")\n",
    "            \n",
    "            # Update observation for the next agent\n",
    "            observation = response\n",
    "            \n",
    "            if not stay_in_dialogue:\n",
    "                break_debate = True  # Exit if agent signals end of debate\n",
    "        \n",
    "        if break_debate:\n",
    "            print(\"Debate ended by an agent.\")\n",
    "            break\n",
    "        \n",
    "        turns += 1"
   ]
  },
  {
   "cell_type": "code",
   "execution_count": 14,
   "metadata": {},
   "outputs": [
    {
     "name": "stdout",
     "output_type": "stream",
     "text": [
      "Initial observation: Donald Trump has been elected as President of the United States for the second time. Should the UK rejoin the European Union?\n",
      "Laura Trott says: Laura Trott said \"As a conservative MP, I believe in carefully considering all options and weighing the potential benefits and drawbacks of rejoining the European Union. It would be important to assess the economic implications, the impact on our sovereignty, and the potential benefits for businesses and citizens. Ultimately, any decision should be made in the best interest of the UK and its people.\"\n",
      "Boris Johnson says: Boris Johnson said \"Well, Laura, I appreciate your thoughtful approach to such an important decision. As a staunch supporter of Brexit, I believe that leaving the EU was the right choice for our country's sovereignty and future opportunities. However, I understand the need to carefully consider all options and weigh the potential benefits and drawbacks. It's crucial that any decision made is in the best interest of the UK and its people. Thank you for sharing your perspective.\"\n",
      "Nigel Farage says: Nigel Farage said \"Boris, while I appreciate your diplomatic response, I must remind you that a true Brexit means complete independence from EU influence. We cannot afford to compromise on our sovereignty and national identity. We must stand firm in our beliefs and push for a clean break from the EU. The people of this country are counting on us to deliver on our promises. Goodbye.\"\n",
      "Rishi Sunak says: Rishi Sunak said \"Nigel, I understand your passion for complete independence, but we must also consider the practical implications and potential consequences of a clean break from the EU. It's important to balance our desire for sovereignty with the need for stability and economic prosperity. Let's work together to find a solution that best serves the interests of the country as a whole.\"\n",
      "Sir Keir Starmer says: Sir Keir Starmer said \"I appreciate your perspective, Rishi. However, I believe that it is crucial to prioritize the interests of the working people and ensure that any decisions made are in the best interest of the country's future. We must strive for a fair and just society, where everyone has equal opportunities and access to essential services. Let's continue to have constructive discussions on how we can achieve these goals together.\"\n",
      "Laura Trott says: Laura Trott said \"I understand your perspective, Sir Keir. While we may have different approaches, I believe we both want what's best for the country. Let's continue to have constructive discussions and find common ground where we can. Thank you for sharing your thoughts.\"\n",
      "Boris Johnson says: Boris Johnson said \"I agree, Laura. Finding common ground and working together for the best interests of our country is crucial. Let's keep the dialogue open and continue to explore all options. Thank you for your thoughtful approach.\"\n",
      "Nigel Farage says: Nigel Farage said \"Well, Boris, it seems we have reached an impasse in our views on Brexit. I will continue to advocate for a clean break from the EU and uphold traditional British values. Thank you for the discussion, but I must stay true to my beliefs. Goodbye.\"\n",
      "Rishi Sunak says: Rishi Sunak said \"I understand your commitment to your beliefs, Nigel. Let's continue to engage in constructive dialogue and work towards finding common ground for the benefit of our country. Goodbye.\"\n",
      "Sir Keir Starmer says: Sir Keir Starmer said \"Thank you for the discussion, Rishi. Let's keep working towards our common goals for the country's future. Goodbye.\"\n",
      "Debate ended by an agent.\n"
     ]
    }
   ],
   "source": [
    "# List of agents in the debate\n",
    "agents = [Trott, Johnson, Farage, Sunak, Starmer]\n",
    "\n",
    "# Define the initial debate topic\n",
    "initial_observation = \"Donald Trump has been elected as President of the United States for the second time. Should the UK rejoin the European Union?\"\n",
    "\n",
    "# Run the debate\n",
    "run_house_of_commons_debate(agents, initial_observation)"
   ]
  },
  {
   "cell_type": "markdown",
   "metadata": {},
   "source": [
    "## Framework 2"
   ]
  },
  {
   "cell_type": "code",
   "execution_count": 21,
   "metadata": {},
   "outputs": [],
   "source": [
    "# List of agents in the debate\n",
    "agents = [Trott, Johnson, Farage, Sunak, Starmer]\n",
    "\n",
    "# Define the initial debate topic\n",
    "initial_observation = \"Donald Trump has been elected as President of the United States for the second time. Should the UK rejoin the European Union?\""
   ]
  },
  {
   "cell_type": "code",
   "execution_count": 30,
   "metadata": {},
   "outputs": [],
   "source": [
    "def personal_idea_generalization(agent, observation):\n",
    "    # Generate initial thoughts based on traits and status\n",
    "    return agent.generate_dialogue_response(observation)\n",
    "\n",
    "def presentation_round(agents, observation):\n",
    "    random.shuffle(agents)\n",
    "    for agent in agents:\n",
    "        idea = personal_idea_generalization(agent, observation)\n",
    "        print(f\"{agent.name} presents: {idea}\")\n",
    "\n",
    "        for other_agent in agents:\n",
    "            if other_agent != agent:\n",
    "                other_agent.memory.add_memory(idea)\n",
    "\n",
    "def discussion_round(agents):\n",
    "    for _ in range(3):  # Each agent has three speaking opportunities\n",
    "        for agent in agents:\n",
    "\n",
    "            # Listen to presentations in memory\n",
    "            memories = agent.memory.retrieve(\"presentations\")\n",
    "            \n",
    "            # Reflect and generate response\n",
    "            response = agent.generate_dialogue_response(\" \".join(memories))\n",
    "            print(f\"{agent.name} speaks: {response}\")\n",
    "            for other_agent in agents:\n",
    "                if other_agent != agent:\n",
    "                    other_agent.memory.add_memory(response)\n"
   ]
  },
  {
   "cell_type": "code",
   "execution_count": 31,
   "metadata": {},
   "outputs": [
    {
     "name": "stdout",
     "output_type": "stream",
     "text": [
      "Personal Idea Generalization:\n",
      "Rishi Sunak initial idea: (True, 'Rishi Sunak said \"Given the recent developments in the United States, it\\'s clear that the global political landscape is evolving rapidly. As we consider the potential implications of rejoining the European Union, we must approach this decision with caution and prudence. It\\'s essential to weigh the benefits and drawbacks carefully, keeping in mind the best interests of our country and its citizens. Let\\'s continue to engage in constructive dialogue and work towards finding a solution that serves the needs of the UK as a whole.\"')\n",
      "Sir Keir Starmer initial idea: (True, 'Sir Keir Starmer said \"While the decision to rejoin the European Union is a complex and multifaceted issue, I believe it is crucial for the UK to carefully consider all the potential benefits and drawbacks. As a leader, my priority is to ensure that any decision made is in the best interest of the country\\'s future and the well-being of its citizens. Let\\'s continue to engage in meaningful discussions and explore all possible options before reaching a final conclusion.\"')\n",
      "Laura Trott initial idea: (True, 'Laura Trott said \"As a conservative MP, I believe in carefully considering all options and weighing the potential benefits and drawbacks of rejoining the European Union. It would be important to assess the economic implications, the impact on our sovereignty, and the potential benefits for businesses and citizens. Ultimately, any decision should be made in the best interest of the UK and its people.\"')\n",
      "Nigel Farage initial idea: (True, 'Nigel Farage said \"Absolutely not! Rejoining the EU would be a betrayal of everything we fought for with Brexit. We must uphold our sovereignty and independence from European influence. The UK should continue to stand on its own and forge its own path in the world.\"')\n",
      "Boris Johnson initial idea: (True, 'Boris Johnson said \"As the Prime Minister of the United Kingdom, I believe that our decision to leave the European Union was the right choice for our country\\'s sovereignty and future opportunities. While I understand the importance of carefully considering all options, I stand by our decision to support Brexit. It\\'s crucial that any decision made is in the best interest of the UK and its people. Thank you for sharing your perspective.\"')\n",
      "\n",
      "Presentation Round:\n",
      "Sir Keir Starmer presents: (True, 'Sir Keir Starmer said \"While the decision to rejoin the European Union is a complex and multifaceted issue, I believe it is crucial for the UK to carefully consider all the potential benefits and drawbacks. As a leader, my priority is to ensure that any decision made is in the best interest of the country\\'s future and the well-being of its citizens. Let\\'s continue to engage in meaningful discussions and explore all possible options before reaching a final conclusion.\"')\n"
     ]
    },
    {
     "ename": "ValidationError",
     "evalue": "1 validation error for Document\npage_content\n  Input should be a valid string [type=string_type, input_value=(True, 'Sir Keir Starmer ...g a final conclusion.\"'), input_type=tuple]\n    For further information visit https://errors.pydantic.dev/2.9/v/string_type",
     "output_type": "error",
     "traceback": [
      "\u001b[1;31m---------------------------------------------------------------------------\u001b[0m",
      "\u001b[1;31mValidationError\u001b[0m                           Traceback (most recent call last)",
      "Cell \u001b[1;32mIn[31], line 8\u001b[0m\n\u001b[0;32m      5\u001b[0m     \u001b[38;5;28mprint\u001b[39m(\u001b[38;5;124mf\u001b[39m\u001b[38;5;124m\"\u001b[39m\u001b[38;5;132;01m{\u001b[39;00magent\u001b[38;5;241m.\u001b[39mname\u001b[38;5;132;01m}\u001b[39;00m\u001b[38;5;124m initial idea: \u001b[39m\u001b[38;5;132;01m{\u001b[39;00midea\u001b[38;5;132;01m}\u001b[39;00m\u001b[38;5;124m\"\u001b[39m)\n\u001b[0;32m      7\u001b[0m \u001b[38;5;28mprint\u001b[39m(\u001b[38;5;124m\"\u001b[39m\u001b[38;5;130;01m\\n\u001b[39;00m\u001b[38;5;124mPresentation Round:\u001b[39m\u001b[38;5;124m\"\u001b[39m)\n\u001b[1;32m----> 8\u001b[0m \u001b[43mpresentation_round\u001b[49m\u001b[43m(\u001b[49m\u001b[43magents\u001b[49m\u001b[43m,\u001b[49m\u001b[43m \u001b[49m\u001b[43minitial_observation\u001b[49m\u001b[43m)\u001b[49m\n\u001b[0;32m     10\u001b[0m \u001b[38;5;28mprint\u001b[39m(\u001b[38;5;124m\"\u001b[39m\u001b[38;5;130;01m\\n\u001b[39;00m\u001b[38;5;124mDiscussion Round:\u001b[39m\u001b[38;5;124m\"\u001b[39m)\n\u001b[0;32m     11\u001b[0m discussion_round(agents)\n",
      "Cell \u001b[1;32mIn[30], line 13\u001b[0m, in \u001b[0;36mpresentation_round\u001b[1;34m(agents, observation)\u001b[0m\n\u001b[0;32m     11\u001b[0m \u001b[38;5;28;01mfor\u001b[39;00m other_agent \u001b[38;5;129;01min\u001b[39;00m agents:\n\u001b[0;32m     12\u001b[0m     \u001b[38;5;28;01mif\u001b[39;00m other_agent \u001b[38;5;241m!=\u001b[39m agent:\n\u001b[1;32m---> 13\u001b[0m         \u001b[43mother_agent\u001b[49m\u001b[38;5;241;43m.\u001b[39;49m\u001b[43mmemory\u001b[49m\u001b[38;5;241;43m.\u001b[39;49m\u001b[43madd_memory\u001b[49m\u001b[43m(\u001b[49m\u001b[43midea\u001b[49m\u001b[43m)\u001b[49m\n",
      "File \u001b[1;32mh:\\MA_Thesis\\venv\\Lib\\site-packages\\langchain_experimental\\generative_agents\\memory.py:201\u001b[0m, in \u001b[0;36mGenerativeAgentMemory.add_memory\u001b[1;34m(self, memory_content, now)\u001b[0m\n\u001b[0;32m    199\u001b[0m importance_score \u001b[38;5;241m=\u001b[39m \u001b[38;5;28mself\u001b[39m\u001b[38;5;241m.\u001b[39m_score_memory_importance(memory_content)\n\u001b[0;32m    200\u001b[0m \u001b[38;5;28mself\u001b[39m\u001b[38;5;241m.\u001b[39maggregate_importance \u001b[38;5;241m+\u001b[39m\u001b[38;5;241m=\u001b[39m importance_score\n\u001b[1;32m--> 201\u001b[0m document \u001b[38;5;241m=\u001b[39m \u001b[43mDocument\u001b[49m\u001b[43m(\u001b[49m\n\u001b[0;32m    202\u001b[0m \u001b[43m    \u001b[49m\u001b[43mpage_content\u001b[49m\u001b[38;5;241;43m=\u001b[39;49m\u001b[43mmemory_content\u001b[49m\u001b[43m,\u001b[49m\u001b[43m \u001b[49m\u001b[43mmetadata\u001b[49m\u001b[38;5;241;43m=\u001b[39;49m\u001b[43m{\u001b[49m\u001b[38;5;124;43m\"\u001b[39;49m\u001b[38;5;124;43mimportance\u001b[39;49m\u001b[38;5;124;43m\"\u001b[39;49m\u001b[43m:\u001b[49m\u001b[43m \u001b[49m\u001b[43mimportance_score\u001b[49m\u001b[43m}\u001b[49m\n\u001b[0;32m    203\u001b[0m \u001b[43m\u001b[49m\u001b[43m)\u001b[49m\n\u001b[0;32m    204\u001b[0m result \u001b[38;5;241m=\u001b[39m \u001b[38;5;28mself\u001b[39m\u001b[38;5;241m.\u001b[39mmemory_retriever\u001b[38;5;241m.\u001b[39madd_documents([document], current_time\u001b[38;5;241m=\u001b[39mnow)\n\u001b[0;32m    206\u001b[0m \u001b[38;5;66;03m# After an agent has processed a certain amount of memories (as measured by\u001b[39;00m\n\u001b[0;32m    207\u001b[0m \u001b[38;5;66;03m# aggregate importance), it is time to reflect on recent events to add\u001b[39;00m\n\u001b[0;32m    208\u001b[0m \u001b[38;5;66;03m# more synthesized memories to the agent's memory stream.\u001b[39;00m\n",
      "File \u001b[1;32mh:\\MA_Thesis\\venv\\Lib\\site-packages\\langchain_core\\documents\\base.py:285\u001b[0m, in \u001b[0;36mDocument.__init__\u001b[1;34m(self, page_content, **kwargs)\u001b[0m\n\u001b[0;32m    282\u001b[0m \u001b[38;5;250m\u001b[39m\u001b[38;5;124;03m\"\"\"Pass page_content in as positional or named arg.\"\"\"\u001b[39;00m\n\u001b[0;32m    283\u001b[0m \u001b[38;5;66;03m# my-py is complaining that page_content is not defined on the base class.\u001b[39;00m\n\u001b[0;32m    284\u001b[0m \u001b[38;5;66;03m# Here, we're relying on pydantic base class to handle the validation.\u001b[39;00m\n\u001b[1;32m--> 285\u001b[0m \u001b[38;5;28;43msuper\u001b[39;49m\u001b[43m(\u001b[49m\u001b[43m)\u001b[49m\u001b[38;5;241;43m.\u001b[39;49m\u001b[38;5;21;43m__init__\u001b[39;49m\u001b[43m(\u001b[49m\u001b[43mpage_content\u001b[49m\u001b[38;5;241;43m=\u001b[39;49m\u001b[43mpage_content\u001b[49m\u001b[43m,\u001b[49m\u001b[43m \u001b[49m\u001b[38;5;241;43m*\u001b[39;49m\u001b[38;5;241;43m*\u001b[39;49m\u001b[43mkwargs\u001b[49m\u001b[43m)\u001b[49m\n",
      "File \u001b[1;32mh:\\MA_Thesis\\venv\\Lib\\site-packages\\langchain_core\\load\\serializable.py:111\u001b[0m, in \u001b[0;36mSerializable.__init__\u001b[1;34m(self, *args, **kwargs)\u001b[0m\n\u001b[0;32m    109\u001b[0m \u001b[38;5;28;01mdef\u001b[39;00m \u001b[38;5;21m__init__\u001b[39m(\u001b[38;5;28mself\u001b[39m, \u001b[38;5;241m*\u001b[39margs: Any, \u001b[38;5;241m*\u001b[39m\u001b[38;5;241m*\u001b[39mkwargs: Any) \u001b[38;5;241m-\u001b[39m\u001b[38;5;241m>\u001b[39m \u001b[38;5;28;01mNone\u001b[39;00m:\n\u001b[0;32m    110\u001b[0m \u001b[38;5;250m    \u001b[39m\u001b[38;5;124;03m\"\"\"\"\"\"\u001b[39;00m\n\u001b[1;32m--> 111\u001b[0m     \u001b[38;5;28;43msuper\u001b[39;49m\u001b[43m(\u001b[49m\u001b[43m)\u001b[49m\u001b[38;5;241;43m.\u001b[39;49m\u001b[38;5;21;43m__init__\u001b[39;49m\u001b[43m(\u001b[49m\u001b[38;5;241;43m*\u001b[39;49m\u001b[43margs\u001b[49m\u001b[43m,\u001b[49m\u001b[43m \u001b[49m\u001b[38;5;241;43m*\u001b[39;49m\u001b[38;5;241;43m*\u001b[39;49m\u001b[43mkwargs\u001b[49m\u001b[43m)\u001b[49m\n",
      "File \u001b[1;32mh:\\MA_Thesis\\venv\\Lib\\site-packages\\pydantic\\main.py:212\u001b[0m, in \u001b[0;36mBaseModel.__init__\u001b[1;34m(self, **data)\u001b[0m\n\u001b[0;32m    210\u001b[0m \u001b[38;5;66;03m# `__tracebackhide__` tells pytest and some other tools to omit this function from tracebacks\u001b[39;00m\n\u001b[0;32m    211\u001b[0m __tracebackhide__ \u001b[38;5;241m=\u001b[39m \u001b[38;5;28;01mTrue\u001b[39;00m\n\u001b[1;32m--> 212\u001b[0m validated_self \u001b[38;5;241m=\u001b[39m \u001b[38;5;28;43mself\u001b[39;49m\u001b[38;5;241;43m.\u001b[39;49m\u001b[43m__pydantic_validator__\u001b[49m\u001b[38;5;241;43m.\u001b[39;49m\u001b[43mvalidate_python\u001b[49m\u001b[43m(\u001b[49m\u001b[43mdata\u001b[49m\u001b[43m,\u001b[49m\u001b[43m \u001b[49m\u001b[43mself_instance\u001b[49m\u001b[38;5;241;43m=\u001b[39;49m\u001b[38;5;28;43mself\u001b[39;49m\u001b[43m)\u001b[49m\n\u001b[0;32m    213\u001b[0m \u001b[38;5;28;01mif\u001b[39;00m \u001b[38;5;28mself\u001b[39m \u001b[38;5;129;01mis\u001b[39;00m \u001b[38;5;129;01mnot\u001b[39;00m validated_self:\n\u001b[0;32m    214\u001b[0m     warnings\u001b[38;5;241m.\u001b[39mwarn(\n\u001b[0;32m    215\u001b[0m         \u001b[38;5;124m'\u001b[39m\u001b[38;5;124mA custom validator is returning a value other than `self`.\u001b[39m\u001b[38;5;130;01m\\n\u001b[39;00m\u001b[38;5;124m'\u001b[39m\n\u001b[0;32m    216\u001b[0m         \u001b[38;5;124m\"\u001b[39m\u001b[38;5;124mReturning anything other than `self` from a top level model validator isn\u001b[39m\u001b[38;5;124m'\u001b[39m\u001b[38;5;124mt supported when validating via `__init__`.\u001b[39m\u001b[38;5;130;01m\\n\u001b[39;00m\u001b[38;5;124m\"\u001b[39m\n\u001b[0;32m    217\u001b[0m         \u001b[38;5;124m'\u001b[39m\u001b[38;5;124mSee the `model_validator` docs (https://docs.pydantic.dev/latest/concepts/validators/#model-validators) for more details.\u001b[39m\u001b[38;5;124m'\u001b[39m,\n\u001b[0;32m    218\u001b[0m         category\u001b[38;5;241m=\u001b[39m\u001b[38;5;28;01mNone\u001b[39;00m,\n\u001b[0;32m    219\u001b[0m     )\n",
      "\u001b[1;31mValidationError\u001b[0m: 1 validation error for Document\npage_content\n  Input should be a valid string [type=string_type, input_value=(True, 'Sir Keir Starmer ...g a final conclusion.\"'), input_type=tuple]\n    For further information visit https://errors.pydantic.dev/2.9/v/string_type"
     ]
    }
   ],
   "source": [
    "# Run the debate simulation\n",
    "print(\"Personal Idea Generalization:\")\n",
    "for agent in agents:\n",
    "    idea = personal_idea_generalization(agent, initial_observation)\n",
    "    print(f\"{agent.name} initial idea: {idea}\")\n",
    "\n",
    "print(\"\\nPresentation Round:\")\n",
    "presentation_round(agents, initial_observation)\n",
    "\n",
    "print(\"\\nDiscussion Round:\")\n",
    "discussion_round(agents)"
   ]
  }
 ],
 "metadata": {
  "kernelspec": {
   "display_name": "venv",
   "language": "python",
   "name": "python3"
  },
  "language_info": {
   "codemirror_mode": {
    "name": "ipython",
    "version": 3
   },
   "file_extension": ".py",
   "mimetype": "text/x-python",
   "name": "python",
   "nbconvert_exporter": "python",
   "pygments_lexer": "ipython3",
   "version": "3.12.6"
  }
 },
 "nbformat": 4,
 "nbformat_minor": 2
}
