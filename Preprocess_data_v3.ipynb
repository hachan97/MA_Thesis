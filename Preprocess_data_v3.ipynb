{
 "cells": [
  {
   "cell_type": "markdown",
   "id": "128d005b",
   "metadata": {
    "papermill": {
     "duration": 0.005454,
     "end_time": "2025-02-14T13:48:05.259243",
     "exception": false,
     "start_time": "2025-02-14T13:48:05.253789",
     "status": "completed"
    },
    "tags": []
   },
   "source": [
    "# Setup\n",
    "\n",
    "**THINGS TO FIX**:\n",
    "- ...\n",
    "- ..."
   ]
  },
  {
   "cell_type": "code",
   "execution_count": 1,
   "id": "7bd65e9e",
   "metadata": {
    "execution": {
     "iopub.execute_input": "2025-02-14T13:48:05.269780Z",
     "iopub.status.busy": "2025-02-14T13:48:05.269548Z",
     "iopub.status.idle": "2025-02-14T13:48:15.942666Z",
     "shell.execute_reply": "2025-02-14T13:48:15.942025Z"
    },
    "papermill": {
     "duration": 10.680103,
     "end_time": "2025-02-14T13:48:15.944385",
     "exception": false,
     "start_time": "2025-02-14T13:48:05.264282",
     "status": "completed"
    },
    "tags": []
   },
   "outputs": [],
   "source": [
    "import pandas as pd\n",
    "import numpy as np\n",
    "\n",
    "import json\n",
    "import matplotlib.pyplot as plt\n",
    "import datetime\n",
    "from datasets import Dataset\n",
    "\n",
    "# Transformers\n",
    "from transformers import AutoTokenizer, AutoModelForCausalLM\n",
    "from tqdm import tqdm\n",
    "\n",
    "#import torch.nn.attention.flex_attention\n",
    "#from torchtune.modules.tokenizers import ModelTokenizer\n",
    "#from torchtune.models.llama3 import llama3_tokenizer\n",
    "#from torchtune.data import Message"
   ]
  },
  {
   "cell_type": "code",
   "execution_count": 2,
   "id": "a502b83d",
   "metadata": {
    "execution": {
     "iopub.execute_input": "2025-02-14T13:48:15.955615Z",
     "iopub.status.busy": "2025-02-14T13:48:15.955238Z",
     "iopub.status.idle": "2025-02-14T13:48:16.229770Z",
     "shell.execute_reply": "2025-02-14T13:48:16.229155Z"
    },
    "papermill": {
     "duration": 0.281832,
     "end_time": "2025-02-14T13:48:16.231417",
     "exception": false,
     "start_time": "2025-02-14T13:48:15.949585",
     "status": "completed"
    },
    "tags": []
   },
   "outputs": [],
   "source": [
    "# Set API Keys\n",
    "from kaggle_secrets import UserSecretsClient # API Loggins\n",
    "user_secrets = UserSecretsClient()\n",
    "\n",
    "## Hugging Face\n",
    "Hugging_Face_token = user_secrets.get_secret(\"Hugging_Face_token\")\n",
    "\n",
    "# Login to Hugging Face\n",
    "from huggingface_hub import login\n",
    "\n",
    "login(Hugging_Face_token)"
   ]
  },
  {
   "cell_type": "markdown",
   "id": "54642ec8",
   "metadata": {
    "papermill": {
     "duration": 0.004713,
     "end_time": "2025-02-14T13:48:16.241449",
     "exception": false,
     "start_time": "2025-02-14T13:48:16.236736",
     "status": "completed"
    },
    "tags": []
   },
   "source": [
    "# Load Data"
   ]
  },
  {
   "cell_type": "code",
   "execution_count": 3,
   "id": "9d5418fd",
   "metadata": {
    "execution": {
     "iopub.execute_input": "2025-02-14T13:48:16.251723Z",
     "iopub.status.busy": "2025-02-14T13:48:16.251507Z",
     "iopub.status.idle": "2025-02-14T13:48:49.595794Z",
     "shell.execute_reply": "2025-02-14T13:48:49.594904Z"
    },
    "papermill": {
     "duration": 33.355934,
     "end_time": "2025-02-14T13:48:49.602214",
     "exception": false,
     "start_time": "2025-02-14T13:48:16.246280",
     "status": "completed"
    },
    "tags": []
   },
   "outputs": [
    {
     "data": {
      "text/plain": [
       "Index(['date', 'agenda', 'speechnumber', 'speaker', 'party', 'party.facts.id',\n",
       "       'chair', 'terms', 'text'],\n",
       "      dtype='object')"
      ]
     },
     "execution_count": 3,
     "metadata": {},
     "output_type": "execute_result"
    }
   ],
   "source": [
    "#df_HoC_2000s_raw = pd.read_csv('H:/MA_Thesis/data/Rauh_Schwalbach_2020_ParlSpeech/df_HoC_2000s.csv')\n",
    "\n",
    "df_HoC_2000s_raw = pd.read_csv('/kaggle/input/parlspeech/df_HoC_2000s.csv')\n",
    "df_HoC_2000s_raw.columns"
   ]
  },
  {
   "cell_type": "code",
   "execution_count": 4,
   "id": "49841267",
   "metadata": {
    "execution": {
     "iopub.execute_input": "2025-02-14T13:48:49.612926Z",
     "iopub.status.busy": "2025-02-14T13:48:49.612681Z",
     "iopub.status.idle": "2025-02-14T13:48:49.692657Z",
     "shell.execute_reply": "2025-02-14T13:48:49.691836Z"
    },
    "papermill": {
     "duration": 0.086685,
     "end_time": "2025-02-14T13:48:49.693962",
     "exception": false,
     "start_time": "2025-02-14T13:48:49.607277",
     "status": "completed"
    },
    "tags": []
   },
   "outputs": [
    {
     "data": {
      "text/html": [
       "<div>\n",
       "<style scoped>\n",
       "    .dataframe tbody tr th:only-of-type {\n",
       "        vertical-align: middle;\n",
       "    }\n",
       "\n",
       "    .dataframe tbody tr th {\n",
       "        vertical-align: top;\n",
       "    }\n",
       "\n",
       "    .dataframe thead th {\n",
       "        text-align: right;\n",
       "    }\n",
       "</style>\n",
       "<table border=\"1\" class=\"dataframe\">\n",
       "  <thead>\n",
       "    <tr style=\"text-align: right;\">\n",
       "      <th></th>\n",
       "      <th>date</th>\n",
       "      <th>agenda</th>\n",
       "      <th>speechnumber</th>\n",
       "      <th>speaker</th>\n",
       "      <th>party</th>\n",
       "      <th>text</th>\n",
       "    </tr>\n",
       "  </thead>\n",
       "  <tbody>\n",
       "    <tr>\n",
       "      <th>0</th>\n",
       "      <td>2000-01-10</td>\n",
       "      <td>Severe Disablement Allowance [Oral Answers To ...</td>\n",
       "      <td>1</td>\n",
       "      <td>Andrew George</td>\n",
       "      <td>LibDem</td>\n",
       "      <td>What steps the Government are taking to ensure...</td>\n",
       "    </tr>\n",
       "    <tr>\n",
       "      <th>1</th>\n",
       "      <td>2000-01-10</td>\n",
       "      <td>Severe Disablement Allowance [Oral Answers To ...</td>\n",
       "      <td>2</td>\n",
       "      <td>Hugh Bayley</td>\n",
       "      <td>Lab</td>\n",
       "      <td>Severe disablement allowance does not provide ...</td>\n",
       "    </tr>\n",
       "    <tr>\n",
       "      <th>2</th>\n",
       "      <td>2000-01-10</td>\n",
       "      <td>Severe Disablement Allowance [Oral Answers To ...</td>\n",
       "      <td>3</td>\n",
       "      <td>Andrew George</td>\n",
       "      <td>LibDem</td>\n",
       "      <td>Those who warned the Government against abolit...</td>\n",
       "    </tr>\n",
       "  </tbody>\n",
       "</table>\n",
       "</div>"
      ],
      "text/plain": [
       "         date                                             agenda  \\\n",
       "0  2000-01-10  Severe Disablement Allowance [Oral Answers To ...   \n",
       "1  2000-01-10  Severe Disablement Allowance [Oral Answers To ...   \n",
       "2  2000-01-10  Severe Disablement Allowance [Oral Answers To ...   \n",
       "\n",
       "   speechnumber        speaker   party  \\\n",
       "0             1  Andrew George  LibDem   \n",
       "1             2    Hugh Bayley     Lab   \n",
       "2             3  Andrew George  LibDem   \n",
       "\n",
       "                                                text  \n",
       "0  What steps the Government are taking to ensure...  \n",
       "1  Severe disablement allowance does not provide ...  \n",
       "2  Those who warned the Government against abolit...  "
      ]
     },
     "execution_count": 4,
     "metadata": {},
     "output_type": "execute_result"
    }
   ],
   "source": [
    "df_HoC_2000s = df_HoC_2000s_raw[['date', 'agenda', 'speechnumber', 'speaker', 'party','text']]\n",
    "df_HoC_2000s.columns\n",
    "df_HoC_2000s.head(3)"
   ]
  },
  {
   "cell_type": "markdown",
   "id": "aa5735fb",
   "metadata": {
    "papermill": {
     "duration": 0.004905,
     "end_time": "2025-02-14T13:48:49.704187",
     "exception": false,
     "start_time": "2025-02-14T13:48:49.699282",
     "status": "completed"
    },
    "tags": []
   },
   "source": [
    "# Exploratory Data Analaysis"
   ]
  },
  {
   "cell_type": "code",
   "execution_count": 5,
   "id": "56be6cc9",
   "metadata": {
    "execution": {
     "iopub.execute_input": "2025-02-14T13:48:49.714723Z",
     "iopub.status.busy": "2025-02-14T13:48:49.714491Z",
     "iopub.status.idle": "2025-02-14T13:48:49.804867Z",
     "shell.execute_reply": "2025-02-14T13:48:49.804113Z"
    },
    "papermill": {
     "duration": 0.097054,
     "end_time": "2025-02-14T13:48:49.806177",
     "exception": false,
     "start_time": "2025-02-14T13:48:49.709123",
     "status": "completed"
    },
    "tags": []
   },
   "outputs": [
    {
     "data": {
      "text/plain": [
       "speaker\n",
       "CHAIR             59591\n",
       "David Cameron     13642\n",
       "Theresa May       12984\n",
       "Tony Blair         8272\n",
       "Jack Straw         8142\n",
       "Chris Grayling     6599\n",
       "Chris Bryant       6217\n",
       "Andrew Lansley     5942\n",
       "Philip Hammond     5606\n",
       "Peter Hain         5422\n",
       "Name: count, dtype: int64"
      ]
     },
     "execution_count": 5,
     "metadata": {},
     "output_type": "execute_result"
    }
   ],
   "source": [
    "# Most Frequent Speaker\n",
    "df_HoC_2000s['speaker'].value_counts().head(10)"
   ]
  },
  {
   "cell_type": "code",
   "execution_count": 6,
   "id": "b14293b3",
   "metadata": {
    "execution": {
     "iopub.execute_input": "2025-02-14T13:48:49.817287Z",
     "iopub.status.busy": "2025-02-14T13:48:49.817054Z",
     "iopub.status.idle": "2025-02-14T13:48:49.991662Z",
     "shell.execute_reply": "2025-02-14T13:48:49.990878Z"
    },
    "papermill": {
     "duration": 0.181548,
     "end_time": "2025-02-14T13:48:49.993073",
     "exception": false,
     "start_time": "2025-02-14T13:48:49.811525",
     "status": "completed"
    },
    "tags": []
   },
   "outputs": [
    {
     "name": "stdout",
     "output_type": "stream",
     "text": [
      "David Cameron has 1677960 terms\n",
      "Boris Johnson has 259544 terms\n"
     ]
    }
   ],
   "source": [
    "print(f\"David Cameron has {df_HoC_2000s_raw[df_HoC_2000s_raw['speaker'] == 'David Cameron']['terms'].sum()} terms\")\n",
    "print(f\"Boris Johnson has {df_HoC_2000s_raw[df_HoC_2000s_raw['speaker'] == 'Boris Johnson']['terms'].sum()} terms\")"
   ]
  },
  {
   "cell_type": "code",
   "execution_count": 7,
   "id": "0e7c658f",
   "metadata": {
    "execution": {
     "iopub.execute_input": "2025-02-14T13:48:50.004866Z",
     "iopub.status.busy": "2025-02-14T13:48:50.004605Z",
     "iopub.status.idle": "2025-02-14T13:48:50.007824Z",
     "shell.execute_reply": "2025-02-14T13:48:50.006995Z"
    },
    "papermill": {
     "duration": 0.010379,
     "end_time": "2025-02-14T13:48:50.009193",
     "exception": false,
     "start_time": "2025-02-14T13:48:49.998814",
     "status": "completed"
    },
    "tags": []
   },
   "outputs": [],
   "source": [
    "#df_HoC_2005 = df_HoC_2000s[df_HoC_2000s['date'].str.contains('2005')]\n",
    "#df_HoC_2015 = df_HoC_2000s[df_HoC_2000s['date'].str.contains('2015')]\n",
    "#df_HoC_2011 = df_HoC_2000s[df_HoC_2000s['date'].str.contains('2011')]"
   ]
  },
  {
   "cell_type": "markdown",
   "id": "f7a41e94",
   "metadata": {
    "papermill": {
     "duration": 0.005275,
     "end_time": "2025-02-14T13:48:50.019601",
     "exception": false,
     "start_time": "2025-02-14T13:48:50.014326",
     "status": "completed"
    },
    "tags": []
   },
   "source": [
    "# Load Tokenizer"
   ]
  },
  {
   "cell_type": "code",
   "execution_count": 8,
   "id": "b68566c5",
   "metadata": {
    "execution": {
     "iopub.execute_input": "2025-02-14T13:48:50.030891Z",
     "iopub.status.busy": "2025-02-14T13:48:50.030687Z",
     "iopub.status.idle": "2025-02-14T13:48:50.033710Z",
     "shell.execute_reply": "2025-02-14T13:48:50.033084Z"
    },
    "papermill": {
     "duration": 0.009819,
     "end_time": "2025-02-14T13:48:50.034834",
     "exception": false,
     "start_time": "2025-02-14T13:48:50.025015",
     "status": "completed"
    },
    "tags": []
   },
   "outputs": [],
   "source": [
    "BASE_MODEL_ID = \"meta-llama/Llama-3.2-3B-Instruct\""
   ]
  },
  {
   "cell_type": "code",
   "execution_count": 9,
   "id": "c90116a5",
   "metadata": {
    "execution": {
     "iopub.execute_input": "2025-02-14T13:48:50.045885Z",
     "iopub.status.busy": "2025-02-14T13:48:50.045670Z",
     "iopub.status.idle": "2025-02-14T13:48:51.826271Z",
     "shell.execute_reply": "2025-02-14T13:48:51.825350Z"
    },
    "papermill": {
     "duration": 1.787679,
     "end_time": "2025-02-14T13:48:51.827795",
     "exception": false,
     "start_time": "2025-02-14T13:48:50.040116",
     "status": "completed"
    },
    "tags": []
   },
   "outputs": [
    {
     "data": {
      "application/vnd.jupyter.widget-view+json": {
       "model_id": "766d6daa6a114e699f30eab9c64417af",
       "version_major": 2,
       "version_minor": 0
      },
      "text/plain": [
       "tokenizer_config.json:   0%|          | 0.00/54.5k [00:00<?, ?B/s]"
      ]
     },
     "metadata": {},
     "output_type": "display_data"
    },
    {
     "data": {
      "application/vnd.jupyter.widget-view+json": {
       "model_id": "9c4d33160bf54eb280bcc20f69c32aa1",
       "version_major": 2,
       "version_minor": 0
      },
      "text/plain": [
       "tokenizer.json:   0%|          | 0.00/9.09M [00:00<?, ?B/s]"
      ]
     },
     "metadata": {},
     "output_type": "display_data"
    },
    {
     "data": {
      "application/vnd.jupyter.widget-view+json": {
       "model_id": "e93bc726b97648558a91b80b3a925f42",
       "version_major": 2,
       "version_minor": 0
      },
      "text/plain": [
       "special_tokens_map.json:   0%|          | 0.00/296 [00:00<?, ?B/s]"
      ]
     },
     "metadata": {},
     "output_type": "display_data"
    },
    {
     "data": {
      "text/plain": [
       "131072"
      ]
     },
     "execution_count": 9,
     "metadata": {},
     "output_type": "execute_result"
    }
   ],
   "source": [
    "# Create the tokenizer to measure the length of the text\n",
    "tokenizer = AutoTokenizer.from_pretrained(BASE_MODEL_ID, \n",
    "                                          add_bos_token=False, \n",
    "                                          trust_remote_code=True, \n",
    "                                          use_fast=True, \n",
    "                                          force_download=False)\n",
    "\n",
    "tokenizer.add_special_tokens({'pad_token': '[PAD]'})\n",
    "tokenizer.model_max_length"
   ]
  },
  {
   "cell_type": "code",
   "execution_count": 10,
   "id": "75d76e0c",
   "metadata": {
    "execution": {
     "iopub.execute_input": "2025-02-14T13:48:51.840605Z",
     "iopub.status.busy": "2025-02-14T13:48:51.840376Z",
     "iopub.status.idle": "2025-02-14T13:48:52.029385Z",
     "shell.execute_reply": "2025-02-14T13:48:52.028677Z"
    },
    "papermill": {
     "duration": 0.196485,
     "end_time": "2025-02-14T13:48:52.030646",
     "exception": false,
     "start_time": "2025-02-14T13:48:51.834161",
     "status": "completed"
    },
    "tags": []
   },
   "outputs": [
    {
     "data": {
      "text/plain": [
       "(0, 128256)"
      ]
     },
     "execution_count": 10,
     "metadata": {},
     "output_type": "execute_result"
    }
   ],
   "source": [
    "min(tokenizer.vocab.values()), max(tokenizer.vocab.values()) "
   ]
  },
  {
   "cell_type": "code",
   "execution_count": 11,
   "id": "49cc713b",
   "metadata": {
    "execution": {
     "iopub.execute_input": "2025-02-14T13:48:52.043564Z",
     "iopub.status.busy": "2025-02-14T13:48:52.043309Z",
     "iopub.status.idle": "2025-02-14T13:48:52.079734Z",
     "shell.execute_reply": "2025-02-14T13:48:52.078967Z"
    },
    "papermill": {
     "duration": 0.044155,
     "end_time": "2025-02-14T13:48:52.081042",
     "exception": false,
     "start_time": "2025-02-14T13:48:52.036887",
     "status": "completed"
    },
    "tags": []
   },
   "outputs": [
    {
     "name": "stdout",
     "output_type": "stream",
     "text": [
      "{'bos_token': '<|begin_of_text|>', 'eos_token': '<|eot_id|>', 'pad_token': '[PAD]'}\n",
      "tensor([[128000,   9906,     11,   1268,    527,    499,   3432,     30]])\n"
     ]
    }
   ],
   "source": [
    "print(tokenizer.special_tokens_map)\n",
    "\n",
    "test_text = \"Hello, how are you today?\"\n",
    "tokens = tokenizer.encode(test_text, return_tensors=\"pt\")\n",
    "print(tokens)"
   ]
  },
  {
   "cell_type": "markdown",
   "id": "cf892836",
   "metadata": {
    "papermill": {
     "duration": 0.005257,
     "end_time": "2025-02-14T13:48:52.092086",
     "exception": false,
     "start_time": "2025-02-14T13:48:52.086829",
     "status": "completed"
    },
    "tags": []
   },
   "source": [
    "# Prepare Data for Training\n",
    "\n",
    "**References on Preprocessing Dataset for Fine-tuning**\n",
    "- https://pytorch.org/torchtune/0.2/tutorials/chat.html\n",
    "- https://medium.com/@alexandros_chariton/how-to-fine-tune-llama-3-2-instruct-on-your-own-data-a-detailed-guide-e5f522f397d7\n",
    "\n",
    "Yes, I would like to modify how many 'user' messages are included before and after each assistant response?"
   ]
  },
  {
   "cell_type": "code",
   "execution_count": 12,
   "id": "702736f8",
   "metadata": {
    "execution": {
     "iopub.execute_input": "2025-02-14T13:48:52.103749Z",
     "iopub.status.busy": "2025-02-14T13:48:52.103531Z",
     "iopub.status.idle": "2025-02-14T13:48:52.106732Z",
     "shell.execute_reply": "2025-02-14T13:48:52.106074Z"
    },
    "papermill": {
     "duration": 0.010293,
     "end_time": "2025-02-14T13:48:52.107917",
     "exception": false,
     "start_time": "2025-02-14T13:48:52.097624",
     "status": "completed"
    },
    "tags": []
   },
   "outputs": [],
   "source": [
    "# Constants\n",
    "TOKEN_LENGTH_LIMIT = 3500\n",
    "MIN_TOKEN_LENGTH = 512\n",
    "\n",
    "MAX_NO_ASSISTANT_THRESHOLD = 10       # Reset conversation if assistant is absent for too long\n",
    "CHAT_OWNER = \"David Cameron\""
   ]
  },
  {
   "cell_type": "code",
   "execution_count": 13,
   "id": "6165d3ca",
   "metadata": {
    "execution": {
     "iopub.execute_input": "2025-02-14T13:48:52.119775Z",
     "iopub.status.busy": "2025-02-14T13:48:52.119562Z",
     "iopub.status.idle": "2025-02-14T13:48:52.126055Z",
     "shell.execute_reply": "2025-02-14T13:48:52.125397Z"
    },
    "papermill": {
     "duration": 0.013929,
     "end_time": "2025-02-14T13:48:52.127329",
     "exception": false,
     "start_time": "2025-02-14T13:48:52.113400",
     "status": "completed"
    },
    "tags": []
   },
   "outputs": [],
   "source": [
    "def preprocess_convo_1(df, output_path):\n",
    "    SYSTEM_PROMPT = \"\"\"You are David Cameron, a politician in the UK's House of Commons.\n",
    "    You are responding to Observations.\n",
    "    Respond exactly as David Cameron would speak, \n",
    "    staying fully in character and address the observation directly.\"\"\"\n",
    "\n",
    "    SYSTEM_PROMPT_TOKEN_LEN = len(tokenizer.encode(SYSTEM_PROMPT))\n",
    "\n",
    "    df = df.assign(role=df[\"speaker\"].apply(lambda x: \"assistant\" if x == CHAT_OWNER else \"user\"))  # Assign roles\n",
    "    grouped = df.groupby([\"date\", \"agenda\"])\n",
    "\n",
    "    conversations = []\n",
    "\n",
    "    for (date, agenda), group in tqdm(grouped):\n",
    "        conversation = [{\"role\": \"system\", \"content\": SYSTEM_PROMPT}]\n",
    "        token_len = SYSTEM_PROMPT_TOKEN_LEN\n",
    "        has_assistant_message = False\n",
    "        user_message_count = 0  \n",
    "\n",
    "        for _, row in group.iterrows():\n",
    "            role, message = row[\"role\"], row[\"text\"]\n",
    "            chat_message = {\"role\": role, \"content\": message}\n",
    "\n",
    "            # Simulate applying chat template before checking length\n",
    "            temp_messages = conversation + [chat_message]\n",
    "            temp_prompt = tokenizer.apply_chat_template(temp_messages, tokenize=False, add_generation_prompt=True)\n",
    "            temp_token_len = len(tokenizer.encode(temp_prompt))\n",
    "\n",
    "            # Check if adding this message exceeds the token limit\n",
    "            if temp_token_len > TOKEN_LENGTH_LIMIT or user_message_count >= MAX_NO_ASSISTANT_THRESHOLD:\n",
    "                if token_len >= MIN_TOKEN_LENGTH and has_assistant_message:\n",
    "                    conversations.append({\"conversation\": conversation})\n",
    "\n",
    "                # Restart conversation\n",
    "                conversation = [{\"role\": \"system\", \"content\": SYSTEM_PROMPT}]\n",
    "                token_len = SYSTEM_PROMPT_TOKEN_LEN\n",
    "                has_assistant_message = False\n",
    "                user_message_count = 0  \n",
    "\n",
    "            # Append message to conversation\n",
    "            conversation.append(chat_message)\n",
    "            token_len = temp_token_len  # Update token count\n",
    "\n",
    "            if role == \"assistant\":\n",
    "                has_assistant_message = True\n",
    "                user_message_count = 0  \n",
    "            else:\n",
    "                user_message_count += 1  \n",
    "\n",
    "        # Save the last conversation if it meets the minimum length and contains an assistant message\n",
    "        if token_len >= MIN_TOKEN_LENGTH and has_assistant_message:\n",
    "            conversations.append({\"conversation\": conversation})\n",
    "\n",
    "    # Write to JSONL file\n",
    "    with open(output_path, 'w') as f:\n",
    "        for convo in conversations:\n",
    "            f.write(json.dumps(convo) + '\\n')\n"
   ]
  },
  {
   "cell_type": "code",
   "execution_count": 14,
   "id": "69975f45",
   "metadata": {
    "execution": {
     "iopub.execute_input": "2025-02-14T13:48:52.139070Z",
     "iopub.status.busy": "2025-02-14T13:48:52.138838Z",
     "iopub.status.idle": "2025-02-14T15:14:18.763995Z",
     "shell.execute_reply": "2025-02-14T15:14:18.762949Z"
    },
    "papermill": {
     "duration": 5126.632545,
     "end_time": "2025-02-14T15:14:18.765305",
     "exception": false,
     "start_time": "2025-02-14T13:48:52.132760",
     "status": "completed"
    },
    "tags": []
   },
   "outputs": [
    {
     "name": "stderr",
     "output_type": "stream",
     "text": [
      " 99%|█████████▉| 50979/51318 [1:25:23<00:34,  9.95it/s]\n"
     ]
    }
   ],
   "source": [
    "output_path = '/kaggle/working/preprocessed_DavidCameron.jsonl'\n",
    "preprocess_convo_1(df_HoC_2000s, output_path)"
   ]
  },
  {
   "cell_type": "code",
   "execution_count": 15,
   "id": "aab6547d",
   "metadata": {
    "execution": {
     "iopub.execute_input": "2025-02-14T15:14:20.101122Z",
     "iopub.status.busy": "2025-02-14T15:14:20.100808Z",
     "iopub.status.idle": "2025-02-14T15:14:34.629370Z",
     "shell.execute_reply": "2025-02-14T15:14:34.628425Z"
    },
    "papermill": {
     "duration": 15.233078,
     "end_time": "2025-02-14T15:14:34.630818",
     "exception": false,
     "start_time": "2025-02-14T15:14:19.397740",
     "status": "completed"
    },
    "tags": []
   },
   "outputs": [
    {
     "name": "stdout",
     "output_type": "stream",
     "text": [
      "Min tokens: 140, Max tokens: 4793, Avg tokens: 2756.3517520215632\n"
     ]
    }
   ],
   "source": [
    "# Check token lengths in dataset (with proper estimation)\n",
    "total_tokens = []\n",
    "with open(output_path, 'r') as f:\n",
    "    for line in f:\n",
    "        data = json.loads(line)\n",
    "        \n",
    "        # Apply chat template before estimating token count\n",
    "        prompt = tokenizer.apply_chat_template(data[\"conversation\"], tokenize=False, add_generation_prompt=True)\n",
    "        token_count = len(tokenizer.encode(prompt))  # Tokenize after applying template\n",
    "\n",
    "        total_tokens.append(token_count)\n",
    "\n",
    "print(f\"Min tokens: {min(total_tokens)}, Max tokens: {max(total_tokens)}, Avg tokens: {sum(total_tokens)/len(total_tokens)}\")"
   ]
  },
  {
   "cell_type": "code",
   "execution_count": 16,
   "id": "e7fd5073",
   "metadata": {
    "execution": {
     "iopub.execute_input": "2025-02-14T15:14:35.900772Z",
     "iopub.status.busy": "2025-02-14T15:14:35.900471Z",
     "iopub.status.idle": "2025-02-14T15:14:35.904878Z",
     "shell.execute_reply": "2025-02-14T15:14:35.903987Z"
    },
    "papermill": {
     "duration": 0.644156,
     "end_time": "2025-02-14T15:14:35.906279",
     "exception": false,
     "start_time": "2025-02-14T15:14:35.262123",
     "status": "completed"
    },
    "tags": []
   },
   "outputs": [
    {
     "name": "stdout",
     "output_type": "stream",
     "text": [
      "Number of conversations exceeding 4096 tokens: 1\n"
     ]
    }
   ],
   "source": [
    "over_limit = [tokens for tokens in total_tokens if tokens > 4096]\n",
    "print(f\"Number of conversations exceeding 4096 tokens: {len(over_limit)}\")"
   ]
  },
  {
   "cell_type": "code",
   "execution_count": 17,
   "id": "924edded",
   "metadata": {
    "execution": {
     "iopub.execute_input": "2025-02-14T15:14:37.290988Z",
     "iopub.status.busy": "2025-02-14T15:14:37.290508Z",
     "iopub.status.idle": "2025-02-14T15:14:37.612523Z",
     "shell.execute_reply": "2025-02-14T15:14:37.611734Z"
    },
    "papermill": {
     "duration": 1.030432,
     "end_time": "2025-02-14T15:14:37.613784",
     "exception": false,
     "start_time": "2025-02-14T15:14:36.583352",
     "status": "completed"
    },
    "tags": []
   },
   "outputs": [
    {
     "data": {
      "image/png": "[encoded data removed]",
      "text/plain": [
       "<Figure size 1000x600 with 1 Axes>"
      ]
     },
     "metadata": {},
     "output_type": "display_data"
    }
   ],
   "source": [
    "# Plot the histogram of 'Token Lengths'\n",
    "plt.figure(figsize=(10, 6))\n",
    "plt.hist(total_tokens, bins=20, edgecolor='black', alpha=0.7)\n",
    "plt.xlabel(\"Token Count\")\n",
    "plt.ylabel(\"Frequency\")\n",
    "plt.title(\"Distribution of Token Counts in Preprocessed Conversations\")\n",
    "plt.grid(axis='y', linestyle='--', alpha=0.7)\n",
    "plt.show()\n"
   ]
  },
  {
   "cell_type": "code",
   "execution_count": 18,
   "id": "eb9059aa",
   "metadata": {
    "execution": {
     "iopub.execute_input": "2025-02-14T15:14:38.965792Z",
     "iopub.status.busy": "2025-02-14T15:14:38.965507Z",
     "iopub.status.idle": "2025-02-14T15:14:39.029249Z",
     "shell.execute_reply": "2025-02-14T15:14:39.028441Z"
    },
    "papermill": {
     "duration": 0.783753,
     "end_time": "2025-02-14T15:14:39.030481",
     "exception": false,
     "start_time": "2025-02-14T15:14:38.246728",
     "status": "completed"
    },
    "tags": []
   },
   "outputs": [
    {
     "name": "stdout",
     "output_type": "stream",
     "text": [
      "Total dialog blocks: 1484\n"
     ]
    }
   ],
   "source": [
    "# Inspect a Few Samples\n",
    "dialog_blocks = []\n",
    "with open(output_path, 'r') as f:\n",
    "    for line in f:\n",
    "        dialog_blocks.append(json.loads(line))  # Parse each line as a JSON object\n",
    "\n",
    "# Display the number of dialog blocks\n",
    "print(f\"Total dialog blocks: {len(dialog_blocks)}\")\n",
    "#dialog_blocks[2]"
   ]
  },
  {
   "cell_type": "markdown",
   "id": "91b5e54a",
   "metadata": {
    "papermill": {
     "duration": 0.633042,
     "end_time": "2025-02-14T15:14:40.289724",
     "exception": false,
     "start_time": "2025-02-14T15:14:39.656682",
     "status": "completed"
    },
    "tags": []
   },
   "source": [
    "# Prepare & Tokenize"
   ]
  },
  {
   "cell_type": "code",
   "execution_count": 19,
   "id": "e8290403",
   "metadata": {
    "execution": {
     "iopub.execute_input": "2025-02-14T15:14:41.656856Z",
     "iopub.status.busy": "2025-02-14T15:14:41.656531Z",
     "iopub.status.idle": "2025-02-14T15:14:49.966868Z",
     "shell.execute_reply": "2025-02-14T15:14:49.966115Z"
    },
    "papermill": {
     "duration": 8.995897,
     "end_time": "2025-02-14T15:14:49.968212",
     "exception": false,
     "start_time": "2025-02-14T15:14:40.972315",
     "status": "completed"
    },
    "tags": []
   },
   "outputs": [
    {
     "data": {
      "application/vnd.jupyter.widget-view+json": {
       "model_id": "551f5eb6603f429ab873eb9c6d005ef3",
       "version_major": 2,
       "version_minor": 0
      },
      "text/plain": [
       "Map:   0%|          | 0/1484 [00:00<?, ? examples/s]"
      ]
     },
     "metadata": {},
     "output_type": "display_data"
    },
    {
     "data": {
      "application/vnd.jupyter.widget-view+json": {
       "model_id": "4b509ff6cac34f69ae5935f0ebf1d107",
       "version_major": 2,
       "version_minor": 0
      },
      "text/plain": [
       "Saving the dataset (0/1 shards):   0%|          | 0/1484 [00:00<?, ? examples/s]"
      ]
     },
     "metadata": {},
     "output_type": "display_data"
    }
   ],
   "source": [
    "today_date = datetime.datetime.now().strftime(\"%d %b %Y\")\n",
    "\n",
    "# Load the preprocessed JSONL dataset\n",
    "with open(output_path, \"r\") as f:\n",
    "    raw_data = [json.loads(line) for line in f]\n",
    "\n",
    "# Convert into a dataset format that follows the guide\n",
    "formatted_data = []\n",
    "\n",
    "for convo in raw_data:\n",
    "    messages = []\n",
    "    \n",
    "    for turn in convo[\"conversation\"]:\n",
    "        if turn[\"role\"] == \"system\":\n",
    "            messages.append({\"role\": \"system\", \"content\": turn[\"content\"]})\n",
    "        elif turn[\"role\"] == \"user\":\n",
    "            messages.append({\"role\": \"user\", \"content\": turn[\"content\"]})\n",
    "        elif turn[\"role\"] == \"assistant\":\n",
    "            messages.append({\"role\": \"assistant\", \"content\": turn[\"content\"]})\n",
    "    \n",
    "    # Apply chat template\n",
    "    prompt = tokenizer.apply_chat_template(messages, tokenize=False, add_generation_prompt=True)\n",
    "    prompt = prompt.replace(f\"Cutting Knowledge Date: December 2023\\nToday Date: {today_date}\\n\\n\",\"\")\n",
    "    \n",
    "    formatted_data.append({\"prompt\": prompt})\n",
    "\n",
    "# Convert to Hugging Face Dataset\n",
    "dataset = Dataset.from_list(formatted_data)\n",
    "\n",
    "def tokenize_function(example):\n",
    "    tokens = tokenizer(example['prompt'], \n",
    "                       add_special_tokens=False,\n",
    "                       padding=\"longest\", \n",
    "                       truncation=True, \n",
    "                       max_length=4096)\n",
    "    \n",
    "    tokens['labels'] = [-100 if token == tokenizer.pad_token_id else token for token in tokens['input_ids']    ]\n",
    "\n",
    "    return tokens\n",
    "\n",
    "# Apply tokenization\n",
    "tokenized_dataset = dataset.map(tokenize_function, batched=True)\n",
    "tokenized_dataset.save_to_disk(\"/kaggle/working/tokenized_dataset_DavidCameron\")"
   ]
  },
  {
   "cell_type": "code",
   "execution_count": 20,
   "id": "e7548b9c",
   "metadata": {
    "execution": {
     "iopub.execute_input": "2025-02-14T15:14:51.286734Z",
     "iopub.status.busy": "2025-02-14T15:14:51.286433Z",
     "iopub.status.idle": "2025-02-14T15:14:51.290923Z",
     "shell.execute_reply": "2025-02-14T15:14:51.290248Z"
    },
    "papermill": {
     "duration": 0.694715,
     "end_time": "2025-02-14T15:14:51.292075",
     "exception": false,
     "start_time": "2025-02-14T15:14:50.597360",
     "status": "completed"
    },
    "tags": []
   },
   "outputs": [
    {
     "data": {
      "text/plain": [
       "Dataset({\n",
       "    features: ['prompt', 'input_ids', 'attention_mask', 'labels'],\n",
       "    num_rows: 1484\n",
       "})"
      ]
     },
     "execution_count": 20,
     "metadata": {},
     "output_type": "execute_result"
    }
   ],
   "source": [
    "tokenized_dataset"
   ]
  },
  {
   "cell_type": "code",
   "execution_count": 21,
   "id": "49be9389",
   "metadata": {
    "execution": {
     "iopub.execute_input": "2025-02-14T15:14:52.631387Z",
     "iopub.status.busy": "2025-02-14T15:14:52.631012Z",
     "iopub.status.idle": "2025-02-14T15:14:52.634381Z",
     "shell.execute_reply": "2025-02-14T15:14:52.633533Z"
    },
    "papermill": {
     "duration": 0.711545,
     "end_time": "2025-02-14T15:14:52.635576",
     "exception": false,
     "start_time": "2025-02-14T15:14:51.924031",
     "status": "completed"
    },
    "tags": []
   },
   "outputs": [],
   "source": [
    "#decoded_text = tokenizer.decode(tokenized_dataset[2][\"input_ids\"])\n",
    "#decoded_text"
   ]
  },
  {
   "cell_type": "markdown",
   "id": "33bf0899",
   "metadata": {
    "papermill": {
     "duration": 0.694543,
     "end_time": "2025-02-14T15:14:53.958887",
     "exception": false,
     "start_time": "2025-02-14T15:14:53.264344",
     "status": "completed"
    },
    "tags": []
   },
   "source": [
    "# Visualization & Insights\n",
    "\n"
   ]
  },
  {
   "cell_type": "code",
   "execution_count": 22,
   "id": "dc0820fe",
   "metadata": {
    "execution": {
     "iopub.execute_input": "2025-02-14T15:14:55.316977Z",
     "iopub.status.busy": "2025-02-14T15:14:55.316632Z",
     "iopub.status.idle": "2025-02-14T15:15:02.454984Z",
     "shell.execute_reply": "2025-02-14T15:15:02.454275Z"
    },
    "papermill": {
     "duration": 7.847631,
     "end_time": "2025-02-14T15:15:02.456379",
     "exception": false,
     "start_time": "2025-02-14T15:14:54.608748",
     "status": "completed"
    },
    "tags": []
   },
   "outputs": [
    {
     "data": {
      "image/png": "[encoded data removed]",
      "text/plain": [
       "<Figure size 800x500 with 1 Axes>"
      ]
     },
     "metadata": {},
     "output_type": "display_data"
    }
   ],
   "source": [
    "# Extract token lengths\n",
    "token_lengths = [len(sample[\"input_ids\"]) for sample in tokenized_dataset]\n",
    "\n",
    "# Plot histogram\n",
    "plt.figure(figsize=(8, 5))\n",
    "plt.hist(token_lengths, bins=50, color=\"blue\", edgecolor=\"black\", alpha=0.7)\n",
    "plt.xlabel(\"Token Length\")\n",
    "plt.ylabel(\"Frequency\")\n",
    "plt.title(\"Distribution of Tokenized Sequence Lengths\")\n",
    "plt.axvline(x=4096, color=\"red\", linestyle=\"dashed\", label=\"Max Length (4096)\")\n",
    "plt.legend()\n",
    "plt.show()"
   ]
  },
  {
   "cell_type": "code",
   "execution_count": 23,
   "id": "b20f320a",
   "metadata": {
    "execution": {
     "iopub.execute_input": "2025-02-14T15:15:03.784558Z",
     "iopub.status.busy": "2025-02-14T15:15:03.784255Z",
     "iopub.status.idle": "2025-02-14T15:15:10.750227Z",
     "shell.execute_reply": "2025-02-14T15:15:10.749249Z"
    },
    "papermill": {
     "duration": 7.598097,
     "end_time": "2025-02-14T15:15:10.751562",
     "exception": false,
     "start_time": "2025-02-14T15:15:03.153465",
     "status": "completed"
    },
    "tags": []
   },
   "outputs": [
    {
     "data": {
      "image/png": "[encoded data removed]",
      "text/plain": [
       "<Figure size 600x500 with 1 Axes>"
      ]
     },
     "metadata": {},
     "output_type": "display_data"
    }
   ],
   "source": [
    "truncated_samples = sum(1 for sample in tokenized_dataset if len(sample[\"input_ids\"]) == 4096)\n",
    "total_samples = len(tokenized_dataset)\n",
    "\n",
    "plt.figure(figsize=(6, 5))\n",
    "plt.pie([truncated_samples, total_samples - truncated_samples], \n",
    "        labels=[\"Truncated\", \"Not Truncated\"], autopct=\"%1.1f%%\", colors=[\"red\", \"green\"])\n",
    "plt.title(\"Percentage of Truncated Samples\")\n",
    "plt.show()"
   ]
  },
  {
   "cell_type": "code",
   "execution_count": 24,
   "id": "1a33aedb",
   "metadata": {
    "execution": {
     "iopub.execute_input": "2025-02-14T15:15:12.080110Z",
     "iopub.status.busy": "2025-02-14T15:15:12.079712Z",
     "iopub.status.idle": "2025-02-14T15:15:19.150112Z",
     "shell.execute_reply": "2025-02-14T15:15:19.149155Z"
    },
    "papermill": {
     "duration": 7.76468,
     "end_time": "2025-02-14T15:15:19.151485",
     "exception": false,
     "start_time": "2025-02-14T15:15:11.386805",
     "status": "completed"
    },
    "tags": []
   },
   "outputs": [
    {
     "data": {
      "image/png": "[encoded data removed]",
      "text/plain": [
       "<Figure size 800x500 with 1 Axes>"
      ]
     },
     "metadata": {},
     "output_type": "display_data"
    }
   ],
   "source": [
    "# Calculate padding ratios\n",
    "padding_ratios = [(sample[\"input_ids\"].count(tokenizer.pad_token_id) / len(sample[\"input_ids\"])) \n",
    "                  for sample in tokenized_dataset]\n",
    "\n",
    "# Plot distribution of padding percentages\n",
    "plt.figure(figsize=(8, 5))\n",
    "plt.hist(padding_ratios, bins=30, color=\"orange\", edgecolor=\"black\", alpha=0.7)\n",
    "plt.xlabel(\"Padding Ratio\")\n",
    "plt.ylabel(\"Frequency\")\n",
    "plt.title(\"Padding Proportion in Tokenized Samples\")\n",
    "plt.show()"
   ]
  },
  {
   "cell_type": "code",
   "execution_count": 25,
   "id": "0cc8201c",
   "metadata": {
    "execution": {
     "iopub.execute_input": "2025-02-14T15:15:20.517091Z",
     "iopub.status.busy": "2025-02-14T15:15:20.516750Z",
     "iopub.status.idle": "2025-02-14T15:16:18.002032Z",
     "shell.execute_reply": "2025-02-14T15:16:18.001212Z"
    },
    "papermill": {
     "duration": 58.796364,
     "end_time": "2025-02-14T15:16:18.671826",
     "exception": false,
     "start_time": "2025-02-14T15:15:19.875462",
     "status": "completed"
    },
    "tags": []
   },
   "outputs": [
    {
     "data": {
      "image/png": "[encoded data removed]",
      "text/plain": [
       "<Figure size 800x500 with 1 Axes>"
      ]
     },
     "metadata": {},
     "output_type": "display_data"
    }
   ],
   "source": [
    "user_tokens = []\n",
    "assistant_tokens = []\n",
    "\n",
    "for sample in tokenized_dataset:\n",
    "    decoded_text = tokenizer.decode(sample[\"input_ids\"])\n",
    "    user_tokens.append(decoded_text.count(\"<|start_header_id|>user\"))\n",
    "    assistant_tokens.append(decoded_text.count(\"<|start_header_id|>assistant\"))\n",
    "\n",
    "plt.figure(figsize=(8, 5))\n",
    "plt.hist(user_tokens, bins=30, color=\"blue\", alpha=0.5, label=\"User Tokens\")\n",
    "plt.hist(assistant_tokens, bins=30, color=\"green\", alpha=0.5, label=\"Assistant Tokens\")\n",
    "plt.xlabel(\"Tokens Per Sample\")\n",
    "plt.ylabel(\"Frequency\")\n",
    "plt.title(\"Distribution of User vs. Assistant Tokens\")\n",
    "plt.legend()\n",
    "plt.show()"
   ]
  }
 ],
 "metadata": {
  "kaggle": {
   "accelerator": "nvidiaTeslaT4",
   "dataSources": [
    {
     "datasetId": 6361952,
     "sourceId": 10280888,
     "sourceType": "datasetVersion"
    }
   ],
   "isGpuEnabled": true,
   "isInternetEnabled": true,
   "language": "python",
   "sourceType": "notebook"
  },
  "kernelspec": {
   "display_name": "Python 3",
   "language": "python",
   "name": "python3"
  },
  "language_info": {
   "codemirror_mode": {
    "name": "ipython",
    "version": 3
   },
   "file_extension": ".py",
   "mimetype": "text/x-python",
   "name": "python",
   "nbconvert_exporter": "python",
   "pygments_lexer": "ipython3",
   "version": "3.10.12"
  },
  "papermill": {
   "default_parameters": {},
   "duration": 5299.744974,
   "end_time": "2025-02-14T15:16:22.471341",
   "environment_variables": {},
   "exception": null,
   "input_path": "__notebook__.ipynb",
   "output_path": "__notebook__.ipynb",
   "parameters": {},
   "start_time": "2025-02-14T13:48:02.726367",
   "version": "2.6.0"
  },
  "widgets": {
   "application/vnd.jupyter.widget-state+json": {
    "state": {
     "0b14c97ae26e461aad32c087881ab4c3": {
      "model_module": "@jupyter-widgets/controls",
      "model_module_version": "2.0.0",
      "model_name": "ProgressStyleModel",
      "state": {
       "_model_module": "@jupyter-widgets/controls",
       "_model_module_version": "2.0.0",
       "_model_name": "ProgressStyleModel",
       "_view_count": null,
       "_view_module": "@jupyter-widgets/base",
       "_view_module_version": "2.0.0",
       "_view_name": "StyleView",
       "bar_color": null,
       "description_width": ""
      }
     },
     "0b255bc48db948629304ff5c9ed15408": {
      "model_module": "@jupyter-widgets/controls",
      "model_module_version": "2.0.0",
      "model_name": "HTMLModel",
      "state": {
       "_dom_classes": [],
       "_model_module": "@jupyter-widgets/controls",
       "_model_module_version": "2.0.0",
       "_model_name": "HTMLModel",
       "_view_count": null,
       "_view_module": "@jupyter-widgets/controls",
       "_view_module_version": "2.0.0",
       "_view_name": "HTMLView",
       "description": "",
       "description_allow_html": false,
       "layout": "IPY_MODEL_9b4179b39d3f4639b74c914d916de1e2",
       "placeholder": "​",
       "style": "IPY_MODEL_8a3bfd94b46e4ef2a220b241e0403b74",
       "tabbable": null,
       "tooltip": null,
       "value": " 1484/1484 [00:00&lt;00:00, 17011.90 examples/s]"
      }
     },
     "0dd9f711cd664b9589d0ae1f7db7f6a8": {
      "model_module": "@jupyter-widgets/base",
      "model_module_version": "2.0.0",
      "model_name": "LayoutModel",
      "state": {
       "_model_module": "@jupyter-widgets/base",
       "_model_module_version": "2.0.0",
       "_model_name": "LayoutModel",
       "_view_count": null,
       "_view_module": "@jupyter-widgets/base",
       "_view_module_version": "2.0.0",
       "_view_name": "LayoutView",
       "align_content": null,
       "align_items": null,
       "align_self": null,
       "border_bottom": null,
       "border_left": null,
       "border_right": null,
       "border_top": null,
       "bottom": null,
       "display": null,
       "flex": null,
       "flex_flow": null,
       "grid_area": null,
       "grid_auto_columns": null,
       "grid_auto_flow": null,
       "grid_auto_rows": null,
       "grid_column": null,
       "grid_gap": null,
       "grid_row": null,
       "grid_template_areas": null,
       "grid_template_columns": null,
       "grid_template_rows": null,
       "height": null,
       "justify_content": null,
       "justify_items": null,
       "left": null,
       "margin": null,
       "max_height": null,
       "max_width": null,
       "min_height": null,
       "min_width": null,
       "object_fit": null,
       "object_position": null,
       "order": null,
       "overflow": null,
       "padding": null,
       "right": null,
       "top": null,
       "visibility": null,
       "width": null
      }
     },
     "110154cd30fc4f46a5a330efde7dd2f5": {
      "model_module": "@jupyter-widgets/base",
      "model_module_version": "2.0.0",
      "model_name": "LayoutModel",
      "state": {
       "_model_module": "@jupyter-widgets/base",
       "_model_module_version": "2.0.0",
       "_model_name": "LayoutModel",
       "_view_count": null,
       "_view_module": "@jupyter-widgets/base",
       "_view_module_version": "2.0.0",
       "_view_name": "LayoutView",
       "align_content": null,
       "align_items": null,
       "align_self": null,
       "border_bottom": null,
       "border_left": null,
       "border_right": null,
       "border_top": null,
       "bottom": null,
       "display": null,
       "flex": null,
       "flex_flow": null,
       "grid_area": null,
       "grid_auto_columns": null,
       "grid_auto_flow": null,
       "grid_auto_rows": null,
       "grid_column": null,
       "grid_gap": null,
       "grid_row": null,
       "grid_template_areas": null,
       "grid_template_columns": null,
       "grid_template_rows": null,
       "height": null,
       "justify_content": null,
       "justify_items": null,
       "left": null,
       "margin": null,
       "max_height": null,
       "max_width": null,
       "min_height": null,
       "min_width": null,
       "object_fit": null,
       "object_position": null,
       "order": null,
       "overflow": null,
       "padding": null,
       "right": null,
       "top": null,
       "visibility": null,
       "width": null
      }
     },
     "12f6f897f429416a914fcf8826a2a13f": {
      "model_module": "@jupyter-widgets/controls",
      "model_module_version": "2.0.0",
      "model_name": "ProgressStyleModel",
      "state": {
       "_model_module": "@jupyter-widgets/controls",
       "_model_module_version": "2.0.0",
       "_model_name": "ProgressStyleModel",
       "_view_count": null,
       "_view_module": "@jupyter-widgets/base",
       "_view_module_version": "2.0.0",
       "_view_name": "StyleView",
       "bar_color": null,
       "description_width": ""
      }
     },
     "138a9380ad834350b966977f4f825fdf": {
      "model_module": "@jupyter-widgets/controls",
      "model_module_version": "2.0.0",
      "model_name": "HTMLStyleModel",
      "state": {
       "_model_module": "@jupyter-widgets/controls",
       "_model_module_version": "2.0.0",
       "_model_name": "HTMLStyleModel",
       "_view_count": null,
       "_view_module": "@jupyter-widgets/base",
       "_view_module_version": "2.0.0",
       "_view_name": "StyleView",
       "background": null,
       "description_width": "",
       "font_size": null,
       "text_color": null
      }
     },
     "16ca4f3f798e40dea9bffdd41c30c29a": {
      "model_module": "@jupyter-widgets/controls",
      "model_module_version": "2.0.0",
      "model_name": "ProgressStyleModel",
      "state": {
       "_model_module": "@jupyter-widgets/controls",
       "_model_module_version": "2.0.0",
       "_model_name": "ProgressStyleModel",
       "_view_count": null,
       "_view_module": "@jupyter-widgets/base",
       "_view_module_version": "2.0.0",
       "_view_name": "StyleView",
       "bar_color": null,
       "description_width": ""
      }
     },
     "1dfd37b7cfb740d7b7c0bf35e7b7241e": {
      "model_module": "@jupyter-widgets/controls",
      "model_module_version": "2.0.0",
      "model_name": "HTMLStyleModel",
      "state": {
       "_model_module": "@jupyter-widgets/controls",
       "_model_module_version": "2.0.0",
       "_model_name": "HTMLStyleModel",
       "_view_count": null,
       "_view_module": "@jupyter-widgets/base",
       "_view_module_version": "2.0.0",
       "_view_name": "StyleView",
       "background": null,
       "description_width": "",
       "font_size": null,
       "text_color": null
      }
     },
     "21228c76259c4e0cb0fadfbeae2308be": {
      "model_module": "@jupyter-widgets/base",
      "model_module_version": "2.0.0",
      "model_name": "LayoutModel",
      "state": {
       "_model_module": "@jupyter-widgets/base",
       "_model_module_version": "2.0.0",
       "_model_name": "LayoutModel",
       "_view_count": null,
       "_view_module": "@jupyter-widgets/base",
       "_view_module_version": "2.0.0",
       "_view_name": "LayoutView",
       "align_content": null,
       "align_items": null,
       "align_self": null,
       "border_bottom": null,
       "border_left": null,
       "border_right": null,
       "border_top": null,
       "bottom": null,
       "display": null,
       "flex": null,
       "flex_flow": null,
       "grid_area": null,
       "grid_auto_columns": null,
       "grid_auto_flow": null,
       "grid_auto_rows": null,
       "grid_column": null,
       "grid_gap": null,
       "grid_row": null,
       "grid_template_areas": null,
       "grid_template_columns": null,
       "grid_template_rows": null,
       "height": null,
       "justify_content": null,
       "justify_items": null,
       "left": null,
       "margin": null,
       "max_height": null,
       "max_width": null,
       "min_height": null,
       "min_width": null,
       "object_fit": null,
       "object_position": null,
       "order": null,
       "overflow": null,
       "padding": null,
       "right": null,
       "top": null,
       "visibility": null,
       "width": null
      }
     },
     "2a1917dd645f47c19effff07487833ef": {
      "model_module": "@jupyter-widgets/base",
      "model_module_version": "2.0.0",
      "model_name": "LayoutModel",
      "state": {
       "_model_module": "@jupyter-widgets/base",
       "_model_module_version": "2.0.0",
       "_model_name": "LayoutModel",
       "_view_count": null,
       "_view_module": "@jupyter-widgets/base",
       "_view_module_version": "2.0.0",
       "_view_name": "LayoutView",
       "align_content": null,
       "align_items": null,
       "align_self": null,
       "border_bottom": null,
       "border_left": null,
       "border_right": null,
       "border_top": null,
       "bottom": null,
       "display": null,
       "flex": null,
       "flex_flow": null,
       "grid_area": null,
       "grid_auto_columns": null,
       "grid_auto_flow": null,
       "grid_auto_rows": null,
       "grid_column": null,
       "grid_gap": null,
       "grid_row": null,
       "grid_template_areas": null,
       "grid_template_columns": null,
       "grid_template_rows": null,
       "height": null,
       "justify_content": null,
       "justify_items": null,
       "left": null,
       "margin": null,
       "max_height": null,
       "max_width": null,
       "min_height": null,
       "min_width": null,
       "object_fit": null,
       "object_position": null,
       "order": null,
       "overflow": null,
       "padding": null,
       "right": null,
       "top": null,
       "visibility": null,
       "width": null
      }
     },
     "2d4bb7ae2e3740c29e20a5f195cc2384": {
      "model_module": "@jupyter-widgets/base",
      "model_module_version": "2.0.0",
      "model_name": "LayoutModel",
      "state": {
       "_model_module": "@jupyter-widgets/base",
       "_model_module_version": "2.0.0",
       "_model_name": "LayoutModel",
       "_view_count": null,
       "_view_module": "@jupyter-widgets/base",
       "_view_module_version": "2.0.0",
       "_view_name": "LayoutView",
       "align_content": null,
       "align_items": null,
       "align_self": null,
       "border_bottom": null,
       "border_left": null,
       "border_right": null,
       "border_top": null,
       "bottom": null,
       "display": null,
       "flex": null,
       "flex_flow": null,
       "grid_area": null,
       "grid_auto_columns": null,
       "grid_auto_flow": null,
       "grid_auto_rows": null,
       "grid_column": null,
       "grid_gap": null,
       "grid_row": null,
       "grid_template_areas": null,
       "grid_template_columns": null,
       "grid_template_rows": null,
       "height": null,
       "justify_content": null,
       "justify_items": null,
       "left": null,
       "margin": null,
       "max_height": null,
       "max_width": null,
       "min_height": null,
       "min_width": null,
       "object_fit": null,
       "object_position": null,
       "order": null,
       "overflow": null,
       "padding": null,
       "right": null,
       "top": null,
       "visibility": null,
       "width": null
      }
     },
     "32fa74895152435c9de3f6b15a8aff37": {
      "model_module": "@jupyter-widgets/base",
      "model_module_version": "2.0.0",
      "model_name": "LayoutModel",
      "state": {
       "_model_module": "@jupyter-widgets/base",
       "_model_module_version": "2.0.0",
       "_model_name": "LayoutModel",
       "_view_count": null,
       "_view_module": "@jupyter-widgets/base",
       "_view_module_version": "2.0.0",
       "_view_name": "LayoutView",
       "align_content": null,
       "align_items": null,
       "align_self": null,
       "border_bottom": null,
       "border_left": null,
       "border_right": null,
       "border_top": null,
       "bottom": null,
       "display": null,
       "flex": null,
       "flex_flow": null,
       "grid_area": null,
       "grid_auto_columns": null,
       "grid_auto_flow": null,
       "grid_auto_rows": null,
       "grid_column": null,
       "grid_gap": null,
       "grid_row": null,
       "grid_template_areas": null,
       "grid_template_columns": null,
       "grid_template_rows": null,
       "height": null,
       "justify_content": null,
       "justify_items": null,
       "left": null,
       "margin": null,
       "max_height": null,
       "max_width": null,
       "min_height": null,
       "min_width": null,
       "object_fit": null,
       "object_position": null,
       "order": null,
       "overflow": null,
       "padding": null,
       "right": null,
       "top": null,
       "visibility": null,
       "width": null
      }
     },
     "33611e6954fb4ed29ca9b49e1d190f9d": {
      "model_module": "@jupyter-widgets/controls",
      "model_module_version": "2.0.0",
      "model_name": "ProgressStyleModel",
      "state": {
       "_model_module": "@jupyter-widgets/controls",
       "_model_module_version": "2.0.0",
       "_model_name": "ProgressStyleModel",
       "_view_count": null,
       "_view_module": "@jupyter-widgets/base",
       "_view_module_version": "2.0.0",
       "_view_name": "StyleView",
       "bar_color": null,
       "description_width": ""
      }
     },
     "341ccf231d3d4aaf8cfacf00c17009b3": {
      "model_module": "@jupyter-widgets/base",
      "model_module_version": "2.0.0",
      "model_name": "LayoutModel",
      "state": {
       "_model_module": "@jupyter-widgets/base",
       "_model_module_version": "2.0.0",
       "_model_name": "LayoutModel",
       "_view_count": null,
       "_view_module": "@jupyter-widgets/base",
       "_view_module_version": "2.0.0",
       "_view_name": "LayoutView",
       "align_content": null,
       "align_items": null,
       "align_self": null,
       "border_bottom": null,
       "border_left": null,
       "border_right": null,
       "border_top": null,
       "bottom": null,
       "display": null,
       "flex": null,
       "flex_flow": null,
       "grid_area": null,
       "grid_auto_columns": null,
       "grid_auto_flow": null,
       "grid_auto_rows": null,
       "grid_column": null,
       "grid_gap": null,
       "grid_row": null,
       "grid_template_areas": null,
       "grid_template_columns": null,
       "grid_template_rows": null,
       "height": null,
       "justify_content": null,
       "justify_items": null,
       "left": null,
       "margin": null,
       "max_height": null,
       "max_width": null,
       "min_height": null,
       "min_width": null,
       "object_fit": null,
       "object_position": null,
       "order": null,
       "overflow": null,
       "padding": null,
       "right": null,
       "top": null,
       "visibility": null,
       "width": null
      }
     },
     "352804f4d69d486eb902af1292cff280": {
      "model_module": "@jupyter-widgets/base",
      "model_module_version": "2.0.0",
      "model_name": "LayoutModel",
      "state": {
       "_model_module": "@jupyter-widgets/base",
       "_model_module_version": "2.0.0",
       "_model_name": "LayoutModel",
       "_view_count": null,
       "_view_module": "@jupyter-widgets/base",
       "_view_module_version": "2.0.0",
       "_view_name": "LayoutView",
       "align_content": null,
       "align_items": null,
       "align_self": null,
       "border_bottom": null,
       "border_left": null,
       "border_right": null,
       "border_top": null,
       "bottom": null,
       "display": null,
       "flex": null,
       "flex_flow": null,
       "grid_area": null,
       "grid_auto_columns": null,
       "grid_auto_flow": null,
       "grid_auto_rows": null,
       "grid_column": null,
       "grid_gap": null,
       "grid_row": null,
       "grid_template_areas": null,
       "grid_template_columns": null,
       "grid_template_rows": null,
       "height": null,
       "justify_content": null,
       "justify_items": null,
       "left": null,
       "margin": null,
       "max_height": null,
       "max_width": null,
       "min_height": null,
       "min_width": null,
       "object_fit": null,
       "object_position": null,
       "order": null,
       "overflow": null,
       "padding": null,
       "right": null,
       "top": null,
       "visibility": null,
       "width": null
      }
     },
     "38505d79400d446a952c50b365a5f403": {
      "model_module": "@jupyter-widgets/base",
      "model_module_version": "2.0.0",
      "model_name": "LayoutModel",
      "state": {
       "_model_module": "@jupyter-widgets/base",
       "_model_module_version": "2.0.0",
       "_model_name": "LayoutModel",
       "_view_count": null,
       "_view_module": "@jupyter-widgets/base",
       "_view_module_version": "2.0.0",
       "_view_name": "LayoutView",
       "align_content": null,
       "align_items": null,
       "align_self": null,
       "border_bottom": null,
       "border_left": null,
       "border_right": null,
       "border_top": null,
       "bottom": null,
       "display": null,
       "flex": null,
       "flex_flow": null,
       "grid_area": null,
       "grid_auto_columns": null,
       "grid_auto_flow": null,
       "grid_auto_rows": null,
       "grid_column": null,
       "grid_gap": null,
       "grid_row": null,
       "grid_template_areas": null,
       "grid_template_columns": null,
       "grid_template_rows": null,
       "height": null,
       "justify_content": null,
       "justify_items": null,
       "left": null,
       "margin": null,
       "max_height": null,
       "max_width": null,
       "min_height": null,
       "min_width": null,
       "object_fit": null,
       "object_position": null,
       "order": null,
       "overflow": null,
       "padding": null,
       "right": null,
       "top": null,
       "visibility": null,
       "width": null
      }
     },
     "3a956a0bb93649b48198270567e50cb3": {
      "model_module": "@jupyter-widgets/controls",
      "model_module_version": "2.0.0",
      "model_name": "FloatProgressModel",
      "state": {
       "_dom_classes": [],
       "_model_module": "@jupyter-widgets/controls",
       "_model_module_version": "2.0.0",
       "_model_name": "FloatProgressModel",
       "_view_count": null,
       "_view_module": "@jupyter-widgets/controls",
       "_view_module_version": "2.0.0",
       "_view_name": "ProgressView",
       "bar_style": "success",
       "description": "",
       "description_allow_html": false,
       "layout": "IPY_MODEL_dec953f741144a35b99999389f8de80e",
       "max": 1484.0,
       "min": 0.0,
       "orientation": "horizontal",
       "style": "IPY_MODEL_0b14c97ae26e461aad32c087881ab4c3",
       "tabbable": null,
       "tooltip": null,
       "value": 1484.0
      }
     },
     "4b509ff6cac34f69ae5935f0ebf1d107": {
      "model_module": "@jupyter-widgets/controls",
      "model_module_version": "2.0.0",
      "model_name": "HBoxModel",
      "state": {
       "_dom_classes": [],
       "_model_module": "@jupyter-widgets/controls",
       "_model_module_version": "2.0.0",
       "_model_name": "HBoxModel",
       "_view_count": null,
       "_view_module": "@jupyter-widgets/controls",
       "_view_module_version": "2.0.0",
       "_view_name": "HBoxView",
       "box_style": "",
       "children": [
        "IPY_MODEL_ee2f09846875416288052f05c03a4663",
        "IPY_MODEL_3a956a0bb93649b48198270567e50cb3",
        "IPY_MODEL_0b255bc48db948629304ff5c9ed15408"
       ],
       "layout": "IPY_MODEL_6b17f03385504ff38e6197d2e5d9f9af",
       "tabbable": null,
       "tooltip": null
      }
     },
     "551f5eb6603f429ab873eb9c6d005ef3": {
      "model_module": "@jupyter-widgets/controls",
      "model_module_version": "2.0.0",
      "model_name": "HBoxModel",
      "state": {
       "_dom_classes": [],
       "_model_module": "@jupyter-widgets/controls",
       "_model_module_version": "2.0.0",
       "_model_name": "HBoxModel",
       "_view_count": null,
       "_view_module": "@jupyter-widgets/controls",
       "_view_module_version": "2.0.0",
       "_view_name": "HBoxView",
       "box_style": "",
       "children": [
        "IPY_MODEL_e60dbe3715e84f4aa0f5a5c950f6ee06",
        "IPY_MODEL_f3794dbd35044670b8c67ce6a720e43e",
        "IPY_MODEL_9ca6abd8a65a4b83bb777634ead66057"
       ],
       "layout": "IPY_MODEL_21228c76259c4e0cb0fadfbeae2308be",
       "tabbable": null,
       "tooltip": null
      }
     },
     "57c17f9ddf714cc7abb9711ffad05b5d": {
      "model_module": "@jupyter-widgets/controls",
      "model_module_version": "2.0.0",
      "model_name": "FloatProgressModel",
      "state": {
       "_dom_classes": [],
       "_model_module": "@jupyter-widgets/controls",
       "_model_module_version": "2.0.0",
       "_model_name": "FloatProgressModel",
       "_view_count": null,
       "_view_module": "@jupyter-widgets/controls",
       "_view_module_version": "2.0.0",
       "_view_name": "ProgressView",
       "bar_style": "success",
       "description": "",
       "description_allow_html": false,
       "layout": "IPY_MODEL_2d4bb7ae2e3740c29e20a5f195cc2384",
       "max": 54528.0,
       "min": 0.0,
       "orientation": "horizontal",
       "style": "IPY_MODEL_33611e6954fb4ed29ca9b49e1d190f9d",
       "tabbable": null,
       "tooltip": null,
       "value": 54528.0
      }
     },
     "5b43a3344cea40eca5f35fbff7177598": {
      "model_module": "@jupyter-widgets/controls",
      "model_module_version": "2.0.0",
      "model_name": "ProgressStyleModel",
      "state": {
       "_model_module": "@jupyter-widgets/controls",
       "_model_module_version": "2.0.0",
       "_model_name": "ProgressStyleModel",
       "_view_count": null,
       "_view_module": "@jupyter-widgets/base",
       "_view_module_version": "2.0.0",
       "_view_name": "StyleView",
       "bar_color": null,
       "description_width": ""
      }
     },
     "6374d7add4c94abca909b54ba7c13a98": {
      "model_module": "@jupyter-widgets/base",
      "model_module_version": "2.0.0",
      "model_name": "LayoutModel",
      "state": {
       "_model_module": "@jupyter-widgets/base",
       "_model_module_version": "2.0.0",
       "_model_name": "LayoutModel",
       "_view_count": null,
       "_view_module": "@jupyter-widgets/base",
       "_view_module_version": "2.0.0",
       "_view_name": "LayoutView",
       "align_content": null,
       "align_items": null,
       "align_self": null,
       "border_bottom": null,
       "border_left": null,
       "border_right": null,
       "border_top": null,
       "bottom": null,
       "display": null,
       "flex": null,
       "flex_flow": null,
       "grid_area": null,
       "grid_auto_columns": null,
       "grid_auto_flow": null,
       "grid_auto_rows": null,
       "grid_column": null,
       "grid_gap": null,
       "grid_row": null,
       "grid_template_areas": null,
       "grid_template_columns": null,
       "grid_template_rows": null,
       "height": null,
       "justify_content": null,
       "justify_items": null,
       "left": null,
       "margin": null,
       "max_height": null,
       "max_width": null,
       "min_height": null,
       "min_width": null,
       "object_fit": null,
       "object_position": null,
       "order": null,
       "overflow": null,
       "padding": null,
       "right": null,
       "top": null,
       "visibility": null,
       "width": null
      }
     },
     "6b17f03385504ff38e6197d2e5d9f9af": {
      "model_module": "@jupyter-widgets/base",
      "model_module_version": "2.0.0",
      "model_name": "LayoutModel",
      "state": {
       "_model_module": "@jupyter-widgets/base",
       "_model_module_version": "2.0.0",
       "_model_name": "LayoutModel",
       "_view_count": null,
       "_view_module": "@jupyter-widgets/base",
       "_view_module_version": "2.0.0",
       "_view_name": "LayoutView",
       "align_content": null,
       "align_items": null,
       "align_self": null,
       "border_bottom": null,
       "border_left": null,
       "border_right": null,
       "border_top": null,
       "bottom": null,
       "display": null,
       "flex": null,
       "flex_flow": null,
       "grid_area": null,
       "grid_auto_columns": null,
       "grid_auto_flow": null,
       "grid_auto_rows": null,
       "grid_column": null,
       "grid_gap": null,
       "grid_row": null,
       "grid_template_areas": null,
       "grid_template_columns": null,
       "grid_template_rows": null,
       "height": null,
       "justify_content": null,
       "justify_items": null,
       "left": null,
       "margin": null,
       "max_height": null,
       "max_width": null,
       "min_height": null,
       "min_width": null,
       "object_fit": null,
       "object_position": null,
       "order": null,
       "overflow": null,
       "padding": null,
       "right": null,
       "top": null,
       "visibility": null,
       "width": null
      }
     },
     "766d6daa6a114e699f30eab9c64417af": {
      "model_module": "@jupyter-widgets/controls",
      "model_module_version": "2.0.0",
      "model_name": "HBoxModel",
      "state": {
       "_dom_classes": [],
       "_model_module": "@jupyter-widgets/controls",
       "_model_module_version": "2.0.0",
       "_model_name": "HBoxModel",
       "_view_count": null,
       "_view_module": "@jupyter-widgets/controls",
       "_view_module_version": "2.0.0",
       "_view_name": "HBoxView",
       "box_style": "",
       "children": [
        "IPY_MODEL_7bff79f69625468ca90ad00d951af3f4",
        "IPY_MODEL_57c17f9ddf714cc7abb9711ffad05b5d",
        "IPY_MODEL_f162510e5c2c4e88b97d6356c2648dca"
       ],
       "layout": "IPY_MODEL_bea1144e63b7403c830c47e094e2c4d6",
       "tabbable": null,
       "tooltip": null
      }
     },
     "7bff79f69625468ca90ad00d951af3f4": {
      "model_module": "@jupyter-widgets/controls",
      "model_module_version": "2.0.0",
      "model_name": "HTMLModel",
      "state": {
       "_dom_classes": [],
       "_model_module": "@jupyter-widgets/controls",
       "_model_module_version": "2.0.0",
       "_model_name": "HTMLModel",
       "_view_count": null,
       "_view_module": "@jupyter-widgets/controls",
       "_view_module_version": "2.0.0",
       "_view_name": "HTMLView",
       "description": "",
       "description_allow_html": false,
       "layout": "IPY_MODEL_6374d7add4c94abca909b54ba7c13a98",
       "placeholder": "​",
       "style": "IPY_MODEL_b296174d564f409788a7f991c4703f87",
       "tabbable": null,
       "tooltip": null,
       "value": "tokenizer_config.json: 100%"
      }
     },
     "80f70c179f134fa6ba17bbd47712c138": {
      "model_module": "@jupyter-widgets/controls",
      "model_module_version": "2.0.0",
      "model_name": "HTMLModel",
      "state": {
       "_dom_classes": [],
       "_model_module": "@jupyter-widgets/controls",
       "_model_module_version": "2.0.0",
       "_model_name": "HTMLModel",
       "_view_count": null,
       "_view_module": "@jupyter-widgets/controls",
       "_view_module_version": "2.0.0",
       "_view_name": "HTMLView",
       "description": "",
       "description_allow_html": false,
       "layout": "IPY_MODEL_abb3896765294af98140119278e9b825",
       "placeholder": "​",
       "style": "IPY_MODEL_bed6a0731f79420daf66ed904f27da00",
       "tabbable": null,
       "tooltip": null,
       "value": "special_tokens_map.json: 100%"
      }
     },
     "828d44f4212f43bfab0f92c284188156": {
      "model_module": "@jupyter-widgets/base",
      "model_module_version": "2.0.0",
      "model_name": "LayoutModel",
      "state": {
       "_model_module": "@jupyter-widgets/base",
       "_model_module_version": "2.0.0",
       "_model_name": "LayoutModel",
       "_view_count": null,
       "_view_module": "@jupyter-widgets/base",
       "_view_module_version": "2.0.0",
       "_view_name": "LayoutView",
       "align_content": null,
       "align_items": null,
       "align_self": null,
       "border_bottom": null,
       "border_left": null,
       "border_right": null,
       "border_top": null,
       "bottom": null,
       "display": null,
       "flex": null,
       "flex_flow": null,
       "grid_area": null,
       "grid_auto_columns": null,
       "grid_auto_flow": null,
       "grid_auto_rows": null,
       "grid_column": null,
       "grid_gap": null,
       "grid_row": null,
       "grid_template_areas": null,
       "grid_template_columns": null,
       "grid_template_rows": null,
       "height": null,
       "justify_content": null,
       "justify_items": null,
       "left": null,
       "margin": null,
       "max_height": null,
       "max_width": null,
       "min_height": null,
       "min_width": null,
       "object_fit": null,
       "object_position": null,
       "order": null,
       "overflow": null,
       "padding": null,
       "right": null,
       "top": null,
       "visibility": null,
       "width": null
      }
     },
     "829f898a645e4a9e85d70d7b520af1f5": {
      "model_module": "@jupyter-widgets/base",
      "model_module_version": "2.0.0",
      "model_name": "LayoutModel",
      "state": {
       "_model_module": "@jupyter-widgets/base",
       "_model_module_version": "2.0.0",
       "_model_name": "LayoutModel",
       "_view_count": null,
       "_view_module": "@jupyter-widgets/base",
       "_view_module_version": "2.0.0",
       "_view_name": "LayoutView",
       "align_content": null,
       "align_items": null,
       "align_self": null,
       "border_bottom": null,
       "border_left": null,
       "border_right": null,
       "border_top": null,
       "bottom": null,
       "display": null,
       "flex": null,
       "flex_flow": null,
       "grid_area": null,
       "grid_auto_columns": null,
       "grid_auto_flow": null,
       "grid_auto_rows": null,
       "grid_column": null,
       "grid_gap": null,
       "grid_row": null,
       "grid_template_areas": null,
       "grid_template_columns": null,
       "grid_template_rows": null,
       "height": null,
       "justify_content": null,
       "justify_items": null,
       "left": null,
       "margin": null,
       "max_height": null,
       "max_width": null,
       "min_height": null,
       "min_width": null,
       "object_fit": null,
       "object_position": null,
       "order": null,
       "overflow": null,
       "padding": null,
       "right": null,
       "top": null,
       "visibility": null,
       "width": null
      }
     },
     "8a3bfd94b46e4ef2a220b241e0403b74": {
      "model_module": "@jupyter-widgets/controls",
      "model_module_version": "2.0.0",
      "model_name": "HTMLStyleModel",
      "state": {
       "_model_module": "@jupyter-widgets/controls",
       "_model_module_version": "2.0.0",
       "_model_name": "HTMLStyleModel",
       "_view_count": null,
       "_view_module": "@jupyter-widgets/base",
       "_view_module_version": "2.0.0",
       "_view_name": "StyleView",
       "background": null,
       "description_width": "",
       "font_size": null,
       "text_color": null
      }
     },
     "8ba950bf7b4444c28931f74636557168": {
      "model_module": "@jupyter-widgets/controls",
      "model_module_version": "2.0.0",
      "model_name": "HTMLStyleModel",
      "state": {
       "_model_module": "@jupyter-widgets/controls",
       "_model_module_version": "2.0.0",
       "_model_name": "HTMLStyleModel",
       "_view_count": null,
       "_view_module": "@jupyter-widgets/base",
       "_view_module_version": "2.0.0",
       "_view_name": "StyleView",
       "background": null,
       "description_width": "",
       "font_size": null,
       "text_color": null
      }
     },
     "908c14c5f62d4bf28ac4a5524334800d": {
      "model_module": "@jupyter-widgets/base",
      "model_module_version": "2.0.0",
      "model_name": "LayoutModel",
      "state": {
       "_model_module": "@jupyter-widgets/base",
       "_model_module_version": "2.0.0",
       "_model_name": "LayoutModel",
       "_view_count": null,
       "_view_module": "@jupyter-widgets/base",
       "_view_module_version": "2.0.0",
       "_view_name": "LayoutView",
       "align_content": null,
       "align_items": null,
       "align_self": null,
       "border_bottom": null,
       "border_left": null,
       "border_right": null,
       "border_top": null,
       "bottom": null,
       "display": null,
       "flex": null,
       "flex_flow": null,
       "grid_area": null,
       "grid_auto_columns": null,
       "grid_auto_flow": null,
       "grid_auto_rows": null,
       "grid_column": null,
       "grid_gap": null,
       "grid_row": null,
       "grid_template_areas": null,
       "grid_template_columns": null,
       "grid_template_rows": null,
       "height": null,
       "justify_content": null,
       "justify_items": null,
       "left": null,
       "margin": null,
       "max_height": null,
       "max_width": null,
       "min_height": null,
       "min_width": null,
       "object_fit": null,
       "object_position": null,
       "order": null,
       "overflow": null,
       "padding": null,
       "right": null,
       "top": null,
       "visibility": null,
       "width": null
      }
     },
     "9b4179b39d3f4639b74c914d916de1e2": {
      "model_module": "@jupyter-widgets/base",
      "model_module_version": "2.0.0",
      "model_name": "LayoutModel",
      "state": {
       "_model_module": "@jupyter-widgets/base",
       "_model_module_version": "2.0.0",
       "_model_name": "LayoutModel",
       "_view_count": null,
       "_view_module": "@jupyter-widgets/base",
       "_view_module_version": "2.0.0",
       "_view_name": "LayoutView",
       "align_content": null,
       "align_items": null,
       "align_self": null,
       "border_bottom": null,
       "border_left": null,
       "border_right": null,
       "border_top": null,
       "bottom": null,
       "display": null,
       "flex": null,
       "flex_flow": null,
       "grid_area": null,
       "grid_auto_columns": null,
       "grid_auto_flow": null,
       "grid_auto_rows": null,
       "grid_column": null,
       "grid_gap": null,
       "grid_row": null,
       "grid_template_areas": null,
       "grid_template_columns": null,
       "grid_template_rows": null,
       "height": null,
       "justify_content": null,
       "justify_items": null,
       "left": null,
       "margin": null,
       "max_height": null,
       "max_width": null,
       "min_height": null,
       "min_width": null,
       "object_fit": null,
       "object_position": null,
       "order": null,
       "overflow": null,
       "padding": null,
       "right": null,
       "top": null,
       "visibility": null,
       "width": null
      }
     },
     "9c4d33160bf54eb280bcc20f69c32aa1": {
      "model_module": "@jupyter-widgets/controls",
      "model_module_version": "2.0.0",
      "model_name": "HBoxModel",
      "state": {
       "_dom_classes": [],
       "_model_module": "@jupyter-widgets/controls",
       "_model_module_version": "2.0.0",
       "_model_name": "HBoxModel",
       "_view_count": null,
       "_view_module": "@jupyter-widgets/controls",
       "_view_module_version": "2.0.0",
       "_view_name": "HBoxView",
       "box_style": "",
       "children": [
        "IPY_MODEL_dc697e74b2024cd1aa11d126a4a209c3",
        "IPY_MODEL_c671d0a0d7d24609b6842d86b96deca0",
        "IPY_MODEL_ac4855435031443eabb30e1f616544df"
       ],
       "layout": "IPY_MODEL_d8888adef7f046499ff9022640f1f1d1",
       "tabbable": null,
       "tooltip": null
      }
     },
     "9ca6abd8a65a4b83bb777634ead66057": {
      "model_module": "@jupyter-widgets/controls",
      "model_module_version": "2.0.0",
      "model_name": "HTMLModel",
      "state": {
       "_dom_classes": [],
       "_model_module": "@jupyter-widgets/controls",
       "_model_module_version": "2.0.0",
       "_model_name": "HTMLModel",
       "_view_count": null,
       "_view_module": "@jupyter-widgets/controls",
       "_view_module_version": "2.0.0",
       "_view_name": "HTMLView",
       "description": "",
       "description_allow_html": false,
       "layout": "IPY_MODEL_908c14c5f62d4bf28ac4a5524334800d",
       "placeholder": "​",
       "style": "IPY_MODEL_1dfd37b7cfb740d7b7c0bf35e7b7241e",
       "tabbable": null,
       "tooltip": null,
       "value": " 1484/1484 [00:07&lt;00:00, 199.66 examples/s]"
      }
     },
     "abb3896765294af98140119278e9b825": {
      "model_module": "@jupyter-widgets/base",
      "model_module_version": "2.0.0",
      "model_name": "LayoutModel",
      "state": {
       "_model_module": "@jupyter-widgets/base",
       "_model_module_version": "2.0.0",
       "_model_name": "LayoutModel",
       "_view_count": null,
       "_view_module": "@jupyter-widgets/base",
       "_view_module_version": "2.0.0",
       "_view_name": "LayoutView",
       "align_content": null,
       "align_items": null,
       "align_self": null,
       "border_bottom": null,
       "border_left": null,
       "border_right": null,
       "border_top": null,
       "bottom": null,
       "display": null,
       "flex": null,
       "flex_flow": null,
       "grid_area": null,
       "grid_auto_columns": null,
       "grid_auto_flow": null,
       "grid_auto_rows": null,
       "grid_column": null,
       "grid_gap": null,
       "grid_row": null,
       "grid_template_areas": null,
       "grid_template_columns": null,
       "grid_template_rows": null,
       "height": null,
       "justify_content": null,
       "justify_items": null,
       "left": null,
       "margin": null,
       "max_height": null,
       "max_width": null,
       "min_height": null,
       "min_width": null,
       "object_fit": null,
       "object_position": null,
       "order": null,
       "overflow": null,
       "padding": null,
       "right": null,
       "top": null,
       "visibility": null,
       "width": null
      }
     },
     "ac4855435031443eabb30e1f616544df": {
      "model_module": "@jupyter-widgets/controls",
      "model_module_version": "2.0.0",
      "model_name": "HTMLModel",
      "state": {
       "_dom_classes": [],
       "_model_module": "@jupyter-widgets/controls",
       "_model_module_version": "2.0.0",
       "_model_name": "HTMLModel",
       "_view_count": null,
       "_view_module": "@jupyter-widgets/controls",
       "_view_module_version": "2.0.0",
       "_view_name": "HTMLView",
       "description": "",
       "description_allow_html": false,
       "layout": "IPY_MODEL_110154cd30fc4f46a5a330efde7dd2f5",
       "placeholder": "​",
       "style": "IPY_MODEL_f94a532c52344c16887f6101effbd648",
       "tabbable": null,
       "tooltip": null,
       "value": " 9.09M/9.09M [00:00&lt;00:00, 29.1MB/s]"
      }
     },
     "adf2c53184454bcb83fb042c14f16f1c": {
      "model_module": "@jupyter-widgets/controls",
      "model_module_version": "2.0.0",
      "model_name": "HTMLStyleModel",
      "state": {
       "_model_module": "@jupyter-widgets/controls",
       "_model_module_version": "2.0.0",
       "_model_name": "HTMLStyleModel",
       "_view_count": null,
       "_view_module": "@jupyter-widgets/base",
       "_view_module_version": "2.0.0",
       "_view_name": "StyleView",
       "background": null,
       "description_width": "",
       "font_size": null,
       "text_color": null
      }
     },
     "af63a0ba78f4479998476165059b42ca": {
      "model_module": "@jupyter-widgets/controls",
      "model_module_version": "2.0.0",
      "model_name": "HTMLStyleModel",
      "state": {
       "_model_module": "@jupyter-widgets/controls",
       "_model_module_version": "2.0.0",
       "_model_name": "HTMLStyleModel",
       "_view_count": null,
       "_view_module": "@jupyter-widgets/base",
       "_view_module_version": "2.0.0",
       "_view_name": "StyleView",
       "background": null,
       "description_width": "",
       "font_size": null,
       "text_color": null
      }
     },
     "af97c8bbbe8347c8b0af84d6a07d0691": {
      "model_module": "@jupyter-widgets/controls",
      "model_module_version": "2.0.0",
      "model_name": "HTMLStyleModel",
      "state": {
       "_model_module": "@jupyter-widgets/controls",
       "_model_module_version": "2.0.0",
       "_model_name": "HTMLStyleModel",
       "_view_count": null,
       "_view_module": "@jupyter-widgets/base",
       "_view_module_version": "2.0.0",
       "_view_name": "StyleView",
       "background": null,
       "description_width": "",
       "font_size": null,
       "text_color": null
      }
     },
     "b296174d564f409788a7f991c4703f87": {
      "model_module": "@jupyter-widgets/controls",
      "model_module_version": "2.0.0",
      "model_name": "HTMLStyleModel",
      "state": {
       "_model_module": "@jupyter-widgets/controls",
       "_model_module_version": "2.0.0",
       "_model_name": "HTMLStyleModel",
       "_view_count": null,
       "_view_module": "@jupyter-widgets/base",
       "_view_module_version": "2.0.0",
       "_view_name": "StyleView",
       "background": null,
       "description_width": "",
       "font_size": null,
       "text_color": null
      }
     },
     "bea1144e63b7403c830c47e094e2c4d6": {
      "model_module": "@jupyter-widgets/base",
      "model_module_version": "2.0.0",
      "model_name": "LayoutModel",
      "state": {
       "_model_module": "@jupyter-widgets/base",
       "_model_module_version": "2.0.0",
       "_model_name": "LayoutModel",
       "_view_count": null,
       "_view_module": "@jupyter-widgets/base",
       "_view_module_version": "2.0.0",
       "_view_name": "LayoutView",
       "align_content": null,
       "align_items": null,
       "align_self": null,
       "border_bottom": null,
       "border_left": null,
       "border_right": null,
       "border_top": null,
       "bottom": null,
       "display": null,
       "flex": null,
       "flex_flow": null,
       "grid_area": null,
       "grid_auto_columns": null,
       "grid_auto_flow": null,
       "grid_auto_rows": null,
       "grid_column": null,
       "grid_gap": null,
       "grid_row": null,
       "grid_template_areas": null,
       "grid_template_columns": null,
       "grid_template_rows": null,
       "height": null,
       "justify_content": null,
       "justify_items": null,
       "left": null,
       "margin": null,
       "max_height": null,
       "max_width": null,
       "min_height": null,
       "min_width": null,
       "object_fit": null,
       "object_position": null,
       "order": null,
       "overflow": null,
       "padding": null,
       "right": null,
       "top": null,
       "visibility": null,
       "width": null
      }
     },
     "bed6a0731f79420daf66ed904f27da00": {
      "model_module": "@jupyter-widgets/controls",
      "model_module_version": "2.0.0",
      "model_name": "HTMLStyleModel",
      "state": {
       "_model_module": "@jupyter-widgets/controls",
       "_model_module_version": "2.0.0",
       "_model_name": "HTMLStyleModel",
       "_view_count": null,
       "_view_module": "@jupyter-widgets/base",
       "_view_module_version": "2.0.0",
       "_view_name": "StyleView",
       "background": null,
       "description_width": "",
       "font_size": null,
       "text_color": null
      }
     },
     "c671d0a0d7d24609b6842d86b96deca0": {
      "model_module": "@jupyter-widgets/controls",
      "model_module_version": "2.0.0",
      "model_name": "FloatProgressModel",
      "state": {
       "_dom_classes": [],
       "_model_module": "@jupyter-widgets/controls",
       "_model_module_version": "2.0.0",
       "_model_name": "FloatProgressModel",
       "_view_count": null,
       "_view_module": "@jupyter-widgets/controls",
       "_view_module_version": "2.0.0",
       "_view_name": "ProgressView",
       "bar_style": "success",
       "description": "",
       "description_allow_html": false,
       "layout": "IPY_MODEL_829f898a645e4a9e85d70d7b520af1f5",
       "max": 9085657.0,
       "min": 0.0,
       "orientation": "horizontal",
       "style": "IPY_MODEL_12f6f897f429416a914fcf8826a2a13f",
       "tabbable": null,
       "tooltip": null,
       "value": 9085657.0
      }
     },
     "d8888adef7f046499ff9022640f1f1d1": {
      "model_module": "@jupyter-widgets/base",
      "model_module_version": "2.0.0",
      "model_name": "LayoutModel",
      "state": {
       "_model_module": "@jupyter-widgets/base",
       "_model_module_version": "2.0.0",
       "_model_name": "LayoutModel",
       "_view_count": null,
       "_view_module": "@jupyter-widgets/base",
       "_view_module_version": "2.0.0",
       "_view_name": "LayoutView",
       "align_content": null,
       "align_items": null,
       "align_self": null,
       "border_bottom": null,
       "border_left": null,
       "border_right": null,
       "border_top": null,
       "bottom": null,
       "display": null,
       "flex": null,
       "flex_flow": null,
       "grid_area": null,
       "grid_auto_columns": null,
       "grid_auto_flow": null,
       "grid_auto_rows": null,
       "grid_column": null,
       "grid_gap": null,
       "grid_row": null,
       "grid_template_areas": null,
       "grid_template_columns": null,
       "grid_template_rows": null,
       "height": null,
       "justify_content": null,
       "justify_items": null,
       "left": null,
       "margin": null,
       "max_height": null,
       "max_width": null,
       "min_height": null,
       "min_width": null,
       "object_fit": null,
       "object_position": null,
       "order": null,
       "overflow": null,
       "padding": null,
       "right": null,
       "top": null,
       "visibility": null,
       "width": null
      }
     },
     "dc697e74b2024cd1aa11d126a4a209c3": {
      "model_module": "@jupyter-widgets/controls",
      "model_module_version": "2.0.0",
      "model_name": "HTMLModel",
      "state": {
       "_dom_classes": [],
       "_model_module": "@jupyter-widgets/controls",
       "_model_module_version": "2.0.0",
       "_model_name": "HTMLModel",
       "_view_count": null,
       "_view_module": "@jupyter-widgets/controls",
       "_view_module_version": "2.0.0",
       "_view_name": "HTMLView",
       "description": "",
       "description_allow_html": false,
       "layout": "IPY_MODEL_352804f4d69d486eb902af1292cff280",
       "placeholder": "​",
       "style": "IPY_MODEL_8ba950bf7b4444c28931f74636557168",
       "tabbable": null,
       "tooltip": null,
       "value": "tokenizer.json: 100%"
      }
     },
     "dec953f741144a35b99999389f8de80e": {
      "model_module": "@jupyter-widgets/base",
      "model_module_version": "2.0.0",
      "model_name": "LayoutModel",
      "state": {
       "_model_module": "@jupyter-widgets/base",
       "_model_module_version": "2.0.0",
       "_model_name": "LayoutModel",
       "_view_count": null,
       "_view_module": "@jupyter-widgets/base",
       "_view_module_version": "2.0.0",
       "_view_name": "LayoutView",
       "align_content": null,
       "align_items": null,
       "align_self": null,
       "border_bottom": null,
       "border_left": null,
       "border_right": null,
       "border_top": null,
       "bottom": null,
       "display": null,
       "flex": null,
       "flex_flow": null,
       "grid_area": null,
       "grid_auto_columns": null,
       "grid_auto_flow": null,
       "grid_auto_rows": null,
       "grid_column": null,
       "grid_gap": null,
       "grid_row": null,
       "grid_template_areas": null,
       "grid_template_columns": null,
       "grid_template_rows": null,
       "height": null,
       "justify_content": null,
       "justify_items": null,
       "left": null,
       "margin": null,
       "max_height": null,
       "max_width": null,
       "min_height": null,
       "min_width": null,
       "object_fit": null,
       "object_position": null,
       "order": null,
       "overflow": null,
       "padding": null,
       "right": null,
       "top": null,
       "visibility": null,
       "width": null
      }
     },
     "dfe284384bc34096a43462761ccd935e": {
      "model_module": "@jupyter-widgets/base",
      "model_module_version": "2.0.0",
      "model_name": "LayoutModel",
      "state": {
       "_model_module": "@jupyter-widgets/base",
       "_model_module_version": "2.0.0",
       "_model_name": "LayoutModel",
       "_view_count": null,
       "_view_module": "@jupyter-widgets/base",
       "_view_module_version": "2.0.0",
       "_view_name": "LayoutView",
       "align_content": null,
       "align_items": null,
       "align_self": null,
       "border_bottom": null,
       "border_left": null,
       "border_right": null,
       "border_top": null,
       "bottom": null,
       "display": null,
       "flex": null,
       "flex_flow": null,
       "grid_area": null,
       "grid_auto_columns": null,
       "grid_auto_flow": null,
       "grid_auto_rows": null,
       "grid_column": null,
       "grid_gap": null,
       "grid_row": null,
       "grid_template_areas": null,
       "grid_template_columns": null,
       "grid_template_rows": null,
       "height": null,
       "justify_content": null,
       "justify_items": null,
       "left": null,
       "margin": null,
       "max_height": null,
       "max_width": null,
       "min_height": null,
       "min_width": null,
       "object_fit": null,
       "object_position": null,
       "order": null,
       "overflow": null,
       "padding": null,
       "right": null,
       "top": null,
       "visibility": null,
       "width": null
      }
     },
     "e60dbe3715e84f4aa0f5a5c950f6ee06": {
      "model_module": "@jupyter-widgets/controls",
      "model_module_version": "2.0.0",
      "model_name": "HTMLModel",
      "state": {
       "_dom_classes": [],
       "_model_module": "@jupyter-widgets/controls",
       "_model_module_version": "2.0.0",
       "_model_name": "HTMLModel",
       "_view_count": null,
       "_view_module": "@jupyter-widgets/controls",
       "_view_module_version": "2.0.0",
       "_view_name": "HTMLView",
       "description": "",
       "description_allow_html": false,
       "layout": "IPY_MODEL_828d44f4212f43bfab0f92c284188156",
       "placeholder": "​",
       "style": "IPY_MODEL_af97c8bbbe8347c8b0af84d6a07d0691",
       "tabbable": null,
       "tooltip": null,
       "value": "Map: 100%"
      }
     },
     "e93bc726b97648558a91b80b3a925f42": {
      "model_module": "@jupyter-widgets/controls",
      "model_module_version": "2.0.0",
      "model_name": "HBoxModel",
      "state": {
       "_dom_classes": [],
       "_model_module": "@jupyter-widgets/controls",
       "_model_module_version": "2.0.0",
       "_model_name": "HBoxModel",
       "_view_count": null,
       "_view_module": "@jupyter-widgets/controls",
       "_view_module_version": "2.0.0",
       "_view_name": "HBoxView",
       "box_style": "",
       "children": [
        "IPY_MODEL_80f70c179f134fa6ba17bbd47712c138",
        "IPY_MODEL_f23e58a529864731b27d4ea62370d576",
        "IPY_MODEL_f8b2e09f21b24ac68f47bd9a5c261296"
       ],
       "layout": "IPY_MODEL_38505d79400d446a952c50b365a5f403",
       "tabbable": null,
       "tooltip": null
      }
     },
     "ee2f09846875416288052f05c03a4663": {
      "model_module": "@jupyter-widgets/controls",
      "model_module_version": "2.0.0",
      "model_name": "HTMLModel",
      "state": {
       "_dom_classes": [],
       "_model_module": "@jupyter-widgets/controls",
       "_model_module_version": "2.0.0",
       "_model_name": "HTMLModel",
       "_view_count": null,
       "_view_module": "@jupyter-widgets/controls",
       "_view_module_version": "2.0.0",
       "_view_name": "HTMLView",
       "description": "",
       "description_allow_html": false,
       "layout": "IPY_MODEL_0dd9f711cd664b9589d0ae1f7db7f6a8",
       "placeholder": "​",
       "style": "IPY_MODEL_138a9380ad834350b966977f4f825fdf",
       "tabbable": null,
       "tooltip": null,
       "value": "Saving the dataset (1/1 shards): 100%"
      }
     },
     "f162510e5c2c4e88b97d6356c2648dca": {
      "model_module": "@jupyter-widgets/controls",
      "model_module_version": "2.0.0",
      "model_name": "HTMLModel",
      "state": {
       "_dom_classes": [],
       "_model_module": "@jupyter-widgets/controls",
       "_model_module_version": "2.0.0",
       "_model_name": "HTMLModel",
       "_view_count": null,
       "_view_module": "@jupyter-widgets/controls",
       "_view_module_version": "2.0.0",
       "_view_name": "HTMLView",
       "description": "",
       "description_allow_html": false,
       "layout": "IPY_MODEL_2a1917dd645f47c19effff07487833ef",
       "placeholder": "​",
       "style": "IPY_MODEL_adf2c53184454bcb83fb042c14f16f1c",
       "tabbable": null,
       "tooltip": null,
       "value": " 54.5k/54.5k [00:00&lt;00:00, 5.38MB/s]"
      }
     },
     "f23e58a529864731b27d4ea62370d576": {
      "model_module": "@jupyter-widgets/controls",
      "model_module_version": "2.0.0",
      "model_name": "FloatProgressModel",
      "state": {
       "_dom_classes": [],
       "_model_module": "@jupyter-widgets/controls",
       "_model_module_version": "2.0.0",
       "_model_name": "FloatProgressModel",
       "_view_count": null,
       "_view_module": "@jupyter-widgets/controls",
       "_view_module_version": "2.0.0",
       "_view_name": "ProgressView",
       "bar_style": "success",
       "description": "",
       "description_allow_html": false,
       "layout": "IPY_MODEL_341ccf231d3d4aaf8cfacf00c17009b3",
       "max": 296.0,
       "min": 0.0,
       "orientation": "horizontal",
       "style": "IPY_MODEL_16ca4f3f798e40dea9bffdd41c30c29a",
       "tabbable": null,
       "tooltip": null,
       "value": 296.0
      }
     },
     "f3794dbd35044670b8c67ce6a720e43e": {
      "model_module": "@jupyter-widgets/controls",
      "model_module_version": "2.0.0",
      "model_name": "FloatProgressModel",
      "state": {
       "_dom_classes": [],
       "_model_module": "@jupyter-widgets/controls",
       "_model_module_version": "2.0.0",
       "_model_name": "FloatProgressModel",
       "_view_count": null,
       "_view_module": "@jupyter-widgets/controls",
       "_view_module_version": "2.0.0",
       "_view_name": "ProgressView",
       "bar_style": "success",
       "description": "",
       "description_allow_html": false,
       "layout": "IPY_MODEL_dfe284384bc34096a43462761ccd935e",
       "max": 1484.0,
       "min": 0.0,
       "orientation": "horizontal",
       "style": "IPY_MODEL_5b43a3344cea40eca5f35fbff7177598",
       "tabbable": null,
       "tooltip": null,
       "value": 1484.0
      }
     },
     "f8b2e09f21b24ac68f47bd9a5c261296": {
      "model_module": "@jupyter-widgets/controls",
      "model_module_version": "2.0.0",
      "model_name": "HTMLModel",
      "state": {
       "_dom_classes": [],
       "_model_module": "@jupyter-widgets/controls",
       "_model_module_version": "2.0.0",
       "_model_name": "HTMLModel",
       "_view_count": null,
       "_view_module": "@jupyter-widgets/controls",
       "_view_module_version": "2.0.0",
       "_view_name": "HTMLView",
       "description": "",
       "description_allow_html": false,
       "layout": "IPY_MODEL_32fa74895152435c9de3f6b15a8aff37",
       "placeholder": "​",
       "style": "IPY_MODEL_af63a0ba78f4479998476165059b42ca",
       "tabbable": null,
       "tooltip": null,
       "value": " 296/296 [00:00&lt;00:00, 29.4kB/s]"
      }
     },
     "f94a532c52344c16887f6101effbd648": {
      "model_module": "@jupyter-widgets/controls",
      "model_module_version": "2.0.0",
      "model_name": "HTMLStyleModel",
      "state": {
       "_model_module": "@jupyter-widgets/controls",
       "_model_module_version": "2.0.0",
       "_model_name": "HTMLStyleModel",
       "_view_count": null,
       "_view_module": "@jupyter-widgets/base",
       "_view_module_version": "2.0.0",
       "_view_name": "StyleView",
       "background": null,
       "description_width": "",
       "font_size": null,
       "text_color": null
      }
     }
    },
    "version_major": 2,
    "version_minor": 0
   }
  }
 },
 "nbformat": 4,
 "nbformat_minor": 5
}
